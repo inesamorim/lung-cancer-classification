{
 "cells": [
  {
   "cell_type": "code",
   "execution_count": 1,
   "metadata": {},
   "outputs": [],
   "source": [
    "import pylidc as pl\n",
    "from pylidc.utils import consensus\n",
    "import matplotlib.pyplot as plt\n",
    "import numpy as np"
   ]
  },
  {
   "cell_type": "code",
   "execution_count": 2,
   "metadata": {},
   "outputs": [],
   "source": [
    "MAX_NODULE_WIDTH = 100\n",
    "MAX_NODULE_HEIGHT = 100"
   ]
  },
  {
   "cell_type": "code",
   "execution_count": 3,
   "metadata": {},
   "outputs": [],
   "source": [
    "def zoomout_nodule(bbox, width, height):\n",
    "    # TODO: what if is outside the picture?\n",
    "    x_acres = (width - (bbox[0].stop - bbox[0].start))//2\n",
    "    y_acres = (height - (bbox[1].stop - bbox[1].start))//2\n",
    "\n",
    "    x_slice = slice(bbox[0].start - x_acres, bbox[0].stop + x_acres, None)\n",
    "    y_slice = slice(bbox[1].start - y_acres, bbox[1].stop + y_acres, None)\n",
    "\n",
    "    return (x_slice, y_slice, bbox[2])"
   ]
  },
  {
   "cell_type": "code",
   "execution_count": 9,
   "metadata": {},
   "outputs": [
    {
     "name": "stdout",
     "output_type": "stream",
     "text": [
      "Loading dicom files ... This may take a moment.\n"
     ]
    },
    {
     "data": {
      "image/png": "[encoded data removed]",
      "text/plain": [
       "<Figure size 500x500 with 1 Axes>"
      ]
     },
     "metadata": {},
     "output_type": "display_data"
    }
   ],
   "source": [
    "scan = pl.query(pl.Scan).filter(pl.Scan.patient_id == 'LIDC-IDRI-0001').first()\n",
    "vol = scan.to_volume()\n",
    "\n",
    "nods = scan.cluster_annotations()\n",
    "anns = nods[0]\n",
    "\n",
    "cmask,cbbox,masks = consensus(anns, clevel=0.5,\n",
    "                              pad=[(20,20), (20,20), (0,0)])\n",
    "\n",
    "full_mask = np.full_like(vol, False, dtype=bool)\n",
    "full_mask[cbbox] = cmask\n",
    "\n",
    "cbbox = zoomout_nodule(cbbox, MAX_NODULE_WIDTH, MAX_NODULE_HEIGHT)\n",
    "k = int(0.5*(cbbox[2].stop - cbbox[2].start))\n",
    "cropped = vol[cbbox]\n",
    "cropped[~full_mask[cbbox]] = 0\n",
    "\n",
    "# Errado, a escala tem de ser igual entre imagens\n",
    "cropped -= 1000\n",
    "cropped = cropped / 1000\n",
    "\n",
    "# Set up the plot.\n",
    "fig,ax = plt.subplots(1,1,figsize=(5,5))\n",
    "ax.imshow(cropped[:,:,k], cmap=plt.cm.gray)\n",
    "\n",
    "# Plot the 50% consensus contour for the kth slice.\n",
    "# for c in find_contours(cmask[:,:,k].astype(float), 0.5):\n",
    "#     plt.plot(c[:,1], c[:,0], '--k', label='50% Consensus')\n",
    "\n",
    "ax.axis('off')\n",
    "ax.legend()\n",
    "plt.tight_layout()\n",
    "plt.show()"
   ]
  },
  {
   "cell_type": "code",
   "execution_count": 4,
   "metadata": {},
   "outputs": [
    {
     "name": "stdout",
     "output_type": "stream",
     "text": [
      "Loading dicom files ... This may take a moment.\n"
     ]
    }
   ],
   "source": [
    "scan = pl.query(pl.Scan).filter(pl.Scan.patient_id == 'LIDC-IDRI-0001').first()\n",
    "vol = scan.to_volume()\n",
    "\n",
    "nods = scan.cluster_annotations()\n",
    "anns = nods[0]\n",
    "\n",
    "cmask,cbbox,masks = consensus(anns, clevel=0.5,\n",
    "                              pad=[(20,20), (20,20), (0,0)])\n",
    "k = int(0.5*(cbbox[2].stop - cbbox[2].start))"
   ]
  },
  {
   "cell_type": "code",
   "execution_count": 5,
   "metadata": {},
   "outputs": [
    {
     "data": {
      "text/plain": [
       "dtype('int16')"
      ]
     },
     "execution_count": 5,
     "metadata": {},
     "output_type": "execute_result"
    },
    {
     "data": {
      "image/png": "[encoded data removed]",
      "text/plain": [
       "<Figure size 640x480 with 1 Axes>"
      ]
     },
     "metadata": {},
     "output_type": "display_data"
    }
   ],
   "source": [
    "full_mask = np.full_like(vol, False)\n",
    "full_mask[cbbox] = cmask\n",
    "plt.imshow(full_mask[:,:,k+cbbox[2].start])\n",
    "full_mask[:,:,k].any(), cmask[:,:,k].any(), full_mask[cbbox][:,:,k].any()\n",
    "# plt.imshow(vol[cbbox][:,:,k])\n",
    "full_mask.dtype"
   ]
  },
  {
   "cell_type": "code",
   "execution_count": 56,
   "metadata": {},
   "outputs": [
    {
     "name": "stdout",
     "output_type": "stream",
     "text": [
      "[[False False False False False False False False False False]\n",
      " [False False False False False False False False False False]\n",
      " [False False False False False False False False False False]\n",
      " [False False False False False False False False False False]\n",
      " [False False False False False False False False False False]\n",
      " [False False False False False False False False False False]\n",
      " [False False False False False False False False False False]\n",
      " [False False False False False False False False False False]\n",
      " [False False False False False False False False False False]\n",
      " [False False False False False False False False False False]]\n",
      "[[False False False False False False False False False False]\n",
      " [False  True  True  True  True  True  True  True  True False]\n",
      " [False  True  True  True  True  True  True  True  True False]\n",
      " [False  True  True  True  True  True  True  True  True False]\n",
      " [False  True  True  True  True  True  True  True  True False]\n",
      " [False  True  True  True  True  True  True  True  True False]\n",
      " [False  True  True  True  True  True  True  True  True False]\n",
      " [False  True  True  True  True  True  True  True  True False]\n",
      " [False  True  True  True  True  True  True  True  True False]\n",
      " [False False False False False False False False False False]]\n"
     ]
    },
    {
     "data": {
      "text/plain": [
       "<matplotlib.image.AxesImage at 0x768ce6c796f0>"
      ]
     },
     "execution_count": 56,
     "metadata": {},
     "output_type": "execute_result"
    },
    {
     "data": {
      "image/png": "[encoded data removed]",
      "text/plain": [
       "<Figure size 640x480 with 1 Axes>"
      ]
     },
     "metadata": {},
     "output_type": "display_data"
    }
   ],
   "source": [
    "array = np.full((10,10), False)\n",
    "print(array)\n",
    "foo = (slice(np.int64(1), np.int64(9), None), slice(np.int64(1), np.int64(9), None))\n",
    "array[foo] = True\n",
    "print(array)\n",
    "plt.imshow(array)"
   ]
  },
  {
   "cell_type": "code",
   "execution_count": 41,
   "metadata": {},
   "outputs": [
    {
     "data": {
      "text/plain": [
       "(92, 84, 9)"
      ]
     },
     "execution_count": 41,
     "metadata": {},
     "output_type": "execute_result"
    }
   ],
   "source": [
    "cmask.shape"
   ]
  },
  {
   "cell_type": "code",
   "execution_count": 17,
   "metadata": {},
   "outputs": [
    {
     "data": {
      "text/plain": [
       "(slice(np.int64(320), np.int64(412), None),\n",
       " slice(np.int64(277), np.int64(361), None),\n",
       " slice(np.int64(76), np.int64(105), None))"
      ]
     },
     "execution_count": 17,
     "metadata": {},
     "output_type": "execute_result"
    }
   ],
   "source": [
    "cbbox"
   ]
  }
 ],
 "metadata": {
  "kernelspec": {
   "display_name": ".venv",
   "language": "python",
   "name": "python3"
  },
  "language_info": {
   "codemirror_mode": {
    "name": "ipython",
    "version": 3
   },
   "file_extension": ".py",
   "mimetype": "text/x-python",
   "name": "python",
   "nbconvert_exporter": "python",
   "pygments_lexer": "ipython3",
   "version": "3.10.12"
  }
 },
 "nbformat": 4,
 "nbformat_minor": 2
}
