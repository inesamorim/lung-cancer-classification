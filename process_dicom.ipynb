{
 "cells": [
  {
   "cell_type": "code",
   "execution_count": 2,
   "metadata": {},
   "outputs": [],
   "source": [
    "import pylidc as pl\n",
    "from pylidc.utils import consensus\n",
    "import matplotlib.pyplot as plt\n",
    "import numpy as np\n",
    "\n",
    "from typing import List"
   ]
  },
  {
   "cell_type": "code",
   "execution_count": 3,
   "metadata": {},
   "outputs": [],
   "source": [
    "MAX_NODULE_WIDTH = 100\n",
    "MAX_NODULE_HEIGHT = 100"
   ]
  },
  {
   "cell_type": "code",
   "execution_count": 4,
   "metadata": {},
   "outputs": [],
   "source": [
    "def zoomout_nodule(bbox, width, height):\n",
    "    # TODO: what if is outside the picture?\n",
    "    x_acres = (width - (bbox[0].stop - bbox[0].start))//2\n",
    "    y_acres = (height - (bbox[1].stop - bbox[1].start))//2\n",
    "\n",
    "    x_slice = slice(bbox[0].start - x_acres, bbox[0].stop + x_acres, None)\n",
    "    y_slice = slice(bbox[1].start - y_acres, bbox[1].stop + y_acres, None)\n",
    "\n",
    "    return (x_slice, y_slice, bbox[2])"
   ]
  },
  {
   "cell_type": "code",
   "execution_count": 12,
   "metadata": {},
   "outputs": [
    {
     "name": "stdout",
     "output_type": "stream",
     "text": [
      "Loading dicom files ... This may take a moment.\n"
     ]
    },
    {
     "data": {
      "image/png": "[encoded data removed]",
      "text/plain": [
       "<Figure size 500x500 with 1 Axes>"
      ]
     },
     "metadata": {},
     "output_type": "display_data"
    }
   ],
   "source": [
    "def get_cropped_annot(scan: pl.Scan, mask: bool=False):\n",
    "    vol = scan.to_volume()\n",
    "\n",
    "    images = []\n",
    "    masks = []\n",
    "\n",
    "    nods = scan.cluster_annotations()\n",
    "    for anns in nods:\n",
    "        cmask, cbbox, masks = consensus(anns, clevel=0.5,\n",
    "                                pad=[(10,10), (10,10), (0,0)])\n",
    "\n",
    "        full_mask = np.full_like(vol, False, dtype=bool)\n",
    "        full_mask[cbbox] = cmask\n",
    "\n",
    "        cbbox = zoomout_nodule(cbbox, MAX_NODULE_WIDTH, MAX_NODULE_HEIGHT)\n",
    "        cropped = vol[cbbox]\n",
    "        cropped_mask = ~full_mask[cbbox]\n",
    "        if mask:\n",
    "            cropped[cropped_mask] = -1000 # TODO: maybe pick different value\n",
    "\n",
    "        # Scale values\n",
    "        # TODO: maybe pick different values\n",
    "        cropped += 1000\n",
    "        cropped = cropped / 2000\n",
    "\n",
    "        images.append(cropped)\n",
    "        masks.append(cropped_mask)\n",
    "\n",
    "    return images, masks\n",
    "\n",
    "\n",
    "scan = pl.query(pl.Scan).filter(pl.Scan.patient_id == 'LIDC-IDRI-0001').first()\n",
    "cropped, _ = get_cropped_annot(scan, True)\n",
    "\n",
    "# Set up the plot.\n",
    "plt.figure(figsize=(5,5))\n",
    "k = int(0.5*cropped[0].shape[2])\n",
    "plt.imshow(cropped[0][:,:,k], cmap=plt.cm.gray)\n",
    "\n",
    "plt.axis('off')\n",
    "plt.tight_layout()\n",
    "plt.show()"
   ]
  }
 ],
 "metadata": {
  "kernelspec": {
   "display_name": ".venv",
   "language": "python",
   "name": "python3"
  },
  "language_info": {
   "codemirror_mode": {
    "name": "ipython",
    "version": 3
   },
   "file_extension": ".py",
   "mimetype": "text/x-python",
   "name": "python",
   "nbconvert_exporter": "python",
   "pygments_lexer": "ipython3",
   "version": "3.10.12"
  }
 },
 "nbformat": 4,
 "nbformat_minor": 2
}
