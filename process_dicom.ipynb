{
 "cells": [
  {
   "cell_type": "code",
   "execution_count": 2,
   "metadata": {},
   "outputs": [],
   "source": [
    "import pylidc as pl\n",
    "from pylidc.utils import consensus\n",
    "import matplotlib.pyplot as plt\n",
    "import numpy as np"
   ]
  },
  {
   "cell_type": "code",
   "execution_count": 78,
   "metadata": {},
   "outputs": [],
   "source": [
    "MAX_NODULE_WIDTH = 100\n",
    "MAX_NODULE_HEIGHT = 100"
   ]
  },
  {
   "cell_type": "code",
   "execution_count": 35,
   "metadata": {},
   "outputs": [],
   "source": [
    "def zoomout_nodule(bbox, width, height):\n",
    "    # TODO: what if is outside the picture?\n",
    "    x_acres = (width - (bbox[0].stop - bbox[0].start))//2\n",
    "    y_acres = (height - (bbox[1].stop - bbox[1].start))//2\n",
    "\n",
    "    x_slice = slice(bbox[0].start - x_acres, bbox[0].stop + x_acres, None)\n",
    "    y_slice = slice(bbox[1].start - y_acres, bbox[1].stop + y_acres, None)\n",
    "\n",
    "    return (x_slice, y_slice, bbox[2])"
   ]
  },
  {
   "cell_type": "code",
   "execution_count": 77,
   "metadata": {},
   "outputs": [
    {
     "name": "stdout",
     "output_type": "stream",
     "text": [
      "Loading dicom files ... This may take a moment.\n"
     ]
    },
    {
     "ename": "IndexError",
     "evalue": "boolean index did not match indexed array along axis 0; size of axis is 200 but size of corresponding boolean axis is 92",
     "output_type": "error",
     "traceback": [
      "\u001b[0;31m---------------------------------------------------------------------------\u001b[0m",
      "\u001b[0;31mIndexError\u001b[0m                                Traceback (most recent call last)",
      "Cell \u001b[0;32mIn[77], line 13\u001b[0m\n\u001b[1;32m     11\u001b[0m cbbox \u001b[38;5;241m=\u001b[39m zoomout_nodule(cbbox, MAX_NODULE_WIDTH, MAX_NODULE_HEIGHT)\n\u001b[1;32m     12\u001b[0m cropped \u001b[38;5;241m=\u001b[39m vol[cbbox][:,:,k]\n\u001b[0;32m---> 13\u001b[0m \u001b[43mcropped\u001b[49m\u001b[43m[\u001b[49m\u001b[38;5;241;43m~\u001b[39;49m\u001b[43mcmask\u001b[49m\u001b[43m[\u001b[49m\u001b[43m:\u001b[49m\u001b[43m,\u001b[49m\u001b[43m \u001b[49m\u001b[43m:\u001b[49m\u001b[43m,\u001b[49m\u001b[43m \u001b[49m\u001b[43mk\u001b[49m\u001b[43m]\u001b[49m\u001b[43m]\u001b[49m \u001b[38;5;241m=\u001b[39m \u001b[38;5;241m-\u001b[39m\u001b[38;5;241m1000\u001b[39m\n\u001b[1;32m     15\u001b[0m cropped \u001b[38;5;241m-\u001b[39m\u001b[38;5;241m=\u001b[39m np\u001b[38;5;241m.\u001b[39mmin(cropped)\n\u001b[1;32m     16\u001b[0m cropped \u001b[38;5;241m=\u001b[39m cropped \u001b[38;5;241m/\u001b[39m np\u001b[38;5;241m.\u001b[39mmax(cropped)\n",
      "\u001b[0;31mIndexError\u001b[0m: boolean index did not match indexed array along axis 0; size of axis is 200 but size of corresponding boolean axis is 92"
     ]
    }
   ],
   "source": [
    "scan = pl.query(pl.Scan).filter(pl.Scan.patient_id == 'LIDC-IDRI-0001').first()\n",
    "vol = scan.to_volume()\n",
    "\n",
    "nods = scan.cluster_annotations()\n",
    "anns = nods[0]\n",
    "\n",
    "cmask,cbbox,masks = consensus(anns, clevel=0.5,\n",
    "                              pad=[(20,20), (20,20), (0,0)])\n",
    "k = int(0.5*(cbbox[2].stop - cbbox[2].start))\n",
    "\n",
    "# TODO: zoomout + black mask\n",
    "# cbbox = zoomout_nodule(cbbox, MAX_NODULE_WIDTH, MAX_NODULE_HEIGHT)\n",
    "cropped = vol[cbbox][:,:,k]\n",
    "cropped[~cmask[:, :, k]] = -1000\n",
    "\n",
    "cropped -= np.min(cropped)\n",
    "cropped = cropped / np.max(cropped)\n",
    "\n",
    "# Set up the plot.\n",
    "fig,ax = plt.subplots(1,1,figsize=(5,5))\n",
    "ax.imshow(cropped, cmap=plt.cm.gray, alpha=0.5)\n",
    "\n",
    "# Plot the 50% consensus contour for the kth slice.\n",
    "# for c in find_contours(cmask[:,:,k].astype(float), 0.5):\n",
    "#     plt.plot(c[:,1], c[:,0], '--k', label='50% Consensus')\n",
    "\n",
    "ax.axis('off')\n",
    "ax.legend()\n",
    "plt.tight_layout()\n",
    "plt.show()"
   ]
  },
  {
   "cell_type": "code",
   "execution_count": 41,
   "metadata": {},
   "outputs": [
    {
     "data": {
      "text/plain": [
       "(92, 84, 9)"
      ]
     },
     "execution_count": 41,
     "metadata": {},
     "output_type": "execute_result"
    }
   ],
   "source": [
    "cmask.shape"
   ]
  },
  {
   "cell_type": "code",
   "execution_count": 17,
   "metadata": {},
   "outputs": [
    {
     "data": {
      "text/plain": [
       "(slice(np.int64(320), np.int64(412), None),\n",
       " slice(np.int64(277), np.int64(361), None),\n",
       " slice(np.int64(76), np.int64(105), None))"
      ]
     },
     "execution_count": 17,
     "metadata": {},
     "output_type": "execute_result"
    }
   ],
   "source": [
    "cbbox"
   ]
  }
 ],
 "metadata": {
  "kernelspec": {
   "display_name": ".venv",
   "language": "python",
   "name": "python3"
  },
  "language_info": {
   "codemirror_mode": {
    "name": "ipython",
    "version": 3
   },
   "file_extension": ".py",
   "mimetype": "text/x-python",
   "name": "python",
   "nbconvert_exporter": "python",
   "pygments_lexer": "ipython3",
   "version": "3.10.12"
  }
 },
 "nbformat": 4,
 "nbformat_minor": 2
}
