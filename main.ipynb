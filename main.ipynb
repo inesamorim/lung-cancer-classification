{
 "cells": [
  {
   "cell_type": "markdown",
   "metadata": {},
   "source": [
    "---"
   ]
  },
  {
   "cell_type": "markdown",
   "metadata": {},
   "source": [
    "\n",
    "<h1 style=\"text-align:center\"> \n",
    "Lung Cancer Classification using CT Data (Smoke Detector)\n",
    "</h1><style>"
   ]
  },
  {
   "cell_type": "markdown",
   "metadata": {},
   "source": [
    "--- \n",
    "## Libraries\n"
   ]
  },
  {
   "cell_type": "code",
   "execution_count": 23,
   "metadata": {},
   "outputs": [
    {
     "name": "stdout",
     "output_type": "stream",
     "text": [
      "Requirement already satisfied: matplotlib in c:\\users\\daniela\\documents\\fisc\\envs\\base2\\lib\\site-packages (3.8.4)\n",
      "Collecting matplotlib\n",
      "  Downloading matplotlib-3.9.2-cp312-cp312-win_amd64.whl.metadata (11 kB)\n",
      "Requirement already satisfied: contourpy>=1.0.1 in c:\\users\\daniela\\documents\\fisc\\envs\\base2\\lib\\site-packages (from matplotlib) (1.2.1)\n",
      "Requirement already satisfied: cycler>=0.10 in c:\\users\\daniela\\documents\\fisc\\envs\\base2\\lib\\site-packages (from matplotlib) (0.12.1)\n",
      "Requirement already satisfied: fonttools>=4.22.0 in c:\\users\\daniela\\documents\\fisc\\envs\\base2\\lib\\site-packages (from matplotlib) (4.51.0)\n",
      "Requirement already satisfied: kiwisolver>=1.3.1 in c:\\users\\daniela\\documents\\fisc\\envs\\base2\\lib\\site-packages (from matplotlib) (1.4.5)\n",
      "Requirement already satisfied: numpy>=1.23 in c:\\users\\daniela\\documents\\fisc\\envs\\base2\\lib\\site-packages (from matplotlib) (1.26.4)\n",
      "Requirement already satisfied: packaging>=20.0 in c:\\users\\daniela\\documents\\fisc\\envs\\base2\\lib\\site-packages (from matplotlib) (23.2)\n",
      "Requirement already satisfied: pillow>=8 in c:\\users\\daniela\\documents\\fisc\\envs\\base2\\lib\\site-packages (from matplotlib) (10.3.0)\n",
      "Requirement already satisfied: pyparsing>=2.3.1 in c:\\users\\daniela\\documents\\fisc\\envs\\base2\\lib\\site-packages (from matplotlib) (3.1.2)\n",
      "Requirement already satisfied: python-dateutil>=2.7 in c:\\users\\daniela\\documents\\fisc\\envs\\base2\\lib\\site-packages (from matplotlib) (2.8.2)\n",
      "Requirement already satisfied: six>=1.5 in c:\\users\\daniela\\documents\\fisc\\envs\\base2\\lib\\site-packages (from python-dateutil>=2.7->matplotlib) (1.16.0)\n",
      "Downloading matplotlib-3.9.2-cp312-cp312-win_amd64.whl (7.8 MB)\n",
      "   ---------------------------------------- 0.0/7.8 MB ? eta -:--:--\n",
      "   ---------------------------------------- 0.0/7.8 MB ? eta -:--:--\n",
      "   ---------------------------------------- 0.0/7.8 MB ? eta -:--:--\n",
      "   ---------------------------------------- 0.1/7.8 MB 653.6 kB/s eta 0:00:12\n",
      "   - -------------------------------------- 0.3/7.8 MB 2.1 MB/s eta 0:00:04\n",
      "   -- ------------------------------------- 0.6/7.8 MB 3.1 MB/s eta 0:00:03\n",
      "   ---- ----------------------------------- 0.8/7.8 MB 3.4 MB/s eta 0:00:03\n",
      "   ---- ----------------------------------- 0.9/7.8 MB 3.4 MB/s eta 0:00:03\n",
      "   ----- ---------------------------------- 1.0/7.8 MB 3.1 MB/s eta 0:00:03\n",
      "   ----- ---------------------------------- 1.0/7.8 MB 2.9 MB/s eta 0:00:03\n",
      "   ----- ---------------------------------- 1.2/7.8 MB 2.6 MB/s eta 0:00:03\n",
      "   ------ --------------------------------- 1.2/7.8 MB 2.5 MB/s eta 0:00:03\n",
      "   ------ --------------------------------- 1.3/7.8 MB 2.4 MB/s eta 0:00:03\n",
      "   ------- -------------------------------- 1.4/7.8 MB 2.4 MB/s eta 0:00:03\n",
      "   -------- ------------------------------- 1.6/7.8 MB 2.5 MB/s eta 0:00:03\n",
      "   --------- ------------------------------ 1.9/7.8 MB 2.8 MB/s eta 0:00:03\n",
      "   ----------- ---------------------------- 2.2/7.8 MB 3.0 MB/s eta 0:00:02\n",
      "   ------------ --------------------------- 2.5/7.8 MB 3.3 MB/s eta 0:00:02\n",
      "   -------------- ------------------------- 2.8/7.8 MB 3.5 MB/s eta 0:00:02\n",
      "   --------------- ------------------------ 3.0/7.8 MB 3.5 MB/s eta 0:00:02\n",
      "   ---------------- ----------------------- 3.3/7.8 MB 3.7 MB/s eta 0:00:02\n",
      "   ------------------ --------------------- 3.6/7.8 MB 3.8 MB/s eta 0:00:02\n",
      "   ------------------- -------------------- 3.9/7.8 MB 3.9 MB/s eta 0:00:02\n",
      "   --------------------- ------------------ 4.2/7.8 MB 4.0 MB/s eta 0:00:01\n",
      "   ---------------------- ----------------- 4.4/7.8 MB 4.0 MB/s eta 0:00:01\n",
      "   ---------------------- ----------------- 4.5/7.8 MB 3.9 MB/s eta 0:00:01\n",
      "   ----------------------- ---------------- 4.6/7.8 MB 3.9 MB/s eta 0:00:01\n",
      "   ------------------------ --------------- 4.7/7.8 MB 3.8 MB/s eta 0:00:01\n",
      "   ------------------------ --------------- 4.8/7.8 MB 3.7 MB/s eta 0:00:01\n",
      "   ------------------------ --------------- 4.8/7.8 MB 3.7 MB/s eta 0:00:01\n",
      "   ------------------------ --------------- 4.9/7.8 MB 3.6 MB/s eta 0:00:01\n",
      "   ------------------------- -------------- 4.9/7.8 MB 3.5 MB/s eta 0:00:01\n",
      "   ------------------------- -------------- 5.0/7.8 MB 3.4 MB/s eta 0:00:01\n",
      "   ------------------------- -------------- 5.0/7.8 MB 3.3 MB/s eta 0:00:01\n",
      "   ------------------------- -------------- 5.1/7.8 MB 3.2 MB/s eta 0:00:01\n",
      "   ------------------------- -------------- 5.1/7.8 MB 3.2 MB/s eta 0:00:01\n",
      "   -------------------------- ------------- 5.1/7.8 MB 3.1 MB/s eta 0:00:01\n",
      "   -------------------------- ------------- 5.3/7.8 MB 3.1 MB/s eta 0:00:01\n",
      "   --------------------------- ------------ 5.4/7.8 MB 3.1 MB/s eta 0:00:01\n",
      "   ---------------------------- ----------- 5.7/7.8 MB 3.1 MB/s eta 0:00:01\n",
      "   ----------------------------- ---------- 5.8/7.8 MB 3.1 MB/s eta 0:00:01\n",
      "   ------------------------------ --------- 6.0/7.8 MB 3.2 MB/s eta 0:00:01\n",
      "   ------------------------------- -------- 6.2/7.8 MB 3.2 MB/s eta 0:00:01\n",
      "   -------------------------------- ------- 6.4/7.8 MB 3.2 MB/s eta 0:00:01\n",
      "   ---------------------------------- ----- 6.7/7.8 MB 3.3 MB/s eta 0:00:01\n",
      "   ----------------------------------- ---- 6.9/7.8 MB 3.3 MB/s eta 0:00:01\n",
      "   ------------------------------------ --- 7.2/7.8 MB 3.4 MB/s eta 0:00:01\n",
      "   -------------------------------------- - 7.4/7.8 MB 3.4 MB/s eta 0:00:01\n",
      "   ---------------------------------------  7.7/7.8 MB 3.5 MB/s eta 0:00:01\n",
      "   ---------------------------------------  7.8/7.8 MB 3.5 MB/s eta 0:00:01\n",
      "   ---------------------------------------- 7.8/7.8 MB 3.4 MB/s eta 0:00:00\n",
      "Installing collected packages: matplotlib\n",
      "  Attempting uninstall: matplotlib\n",
      "    Found existing installation: matplotlib 3.8.4\n",
      "    Uninstalling matplotlib-3.8.4:\n",
      "      Successfully uninstalled matplotlib-3.8.4\n",
      "Successfully installed matplotlib-3.9.2\n",
      "Note: you may need to restart the kernel to use updated packages.\n"
     ]
    },
    {
     "name": "stderr",
     "output_type": "stream",
     "text": [
      "  WARNING: Failed to remove contents in a temporary directory 'C:\\Users\\Daniela\\Documents\\Fisc\\envs\\base2\\Lib\\site-packages\\~atplotlib.libs'.\n",
      "  You can safely remove it manually.\n",
      "  WARNING: Failed to remove contents in a temporary directory 'C:\\Users\\Daniela\\Documents\\Fisc\\envs\\base2\\Lib\\site-packages\\~atplotlib'.\n",
      "  You can safely remove it manually.\n"
     ]
    }
   ],
   "source": [
    "%pip install --upgrade matplotlib"
   ]
  },
  {
   "cell_type": "code",
   "execution_count": 22,
   "metadata": {},
   "outputs": [
    {
     "name": "stdout",
     "output_type": "stream",
     "text": [
      "\n",
      "Usage:   \n",
      "  c:\\Users\\Daniela\\Documents\\Fisc\\envs\\base2\\python.exe -m pip install [options] <requirement specifier> [package-index-options] ...\n",
      "  c:\\Users\\Daniela\\Documents\\Fisc\\envs\\base2\\python.exe -m pip install [options] -r <requirements file> [package-index-options] ...\n",
      "  c:\\Users\\Daniela\\Documents\\Fisc\\envs\\base2\\python.exe -m pip install [options] [-e] <vcs project url> ...\n",
      "  c:\\Users\\Daniela\\Documents\\Fisc\\envs\\base2\\python.exe -m pip install [options] [-e] <local project path> ...\n",
      "  c:\\Users\\Daniela\\Documents\\Fisc\\envs\\base2\\python.exe -m pip install [options] <archive url/path> ...\n",
      "\n",
      "Description:\n",
      "  Install packages from:\n",
      "  \n",
      "  - PyPI (and other indexes) using requirement specifiers.\n",
      "  - VCS project urls.\n",
      "  - Local project directories.\n",
      "  - Local or remote source archives.\n",
      "  \n",
      "  pip also supports installing from \"requirements files\", which provide\n",
      "  an easy way to specify a whole environment to be installed.\n",
      "\n",
      "Install Options:\n",
      "  -r, --requirement <file>    Install from the given requirements file. This\n",
      "                              option can be used multiple times.\n",
      "  -c, --constraint <file>     Constrain versions using the given constraints\n",
      "                              file. This option can be used multiple times.\n",
      "  --no-deps                   Don't install package dependencies.\n",
      "  --pre                       Include pre-release and development versions. By\n",
      "                              default, pip only finds stable versions.\n",
      "  -e, --editable <path/url>   Install a project in editable mode (i.e.\n",
      "                              setuptools \"develop mode\") from a local project\n",
      "                              path or a VCS url.\n",
      "  --dry-run                   Don't actually install anything, just print what\n",
      "                              would be. Can be used in combination with\n",
      "                              --ignore-installed to 'resolve' the\n",
      "                              requirements.\n",
      "  -t, --target <dir>          Install packages into <dir>. By default this\n",
      "                              will not replace existing files/folders in\n",
      "                              <dir>. Use --upgrade to replace existing\n",
      "                              packages in <dir> with new versions.\n",
      "  --platform <platform>       Only use wheels compatible with <platform>.\n",
      "                              Defaults to the platform of the running system.\n",
      "                              Use this option multiple times to specify\n",
      "                              multiple platforms supported by the target\n",
      "                              interpreter.\n",
      "  --python-version <python_version>\n",
      "                              The Python interpreter version to use for wheel\n",
      "                              and \"Requires-Python\" compatibility checks.\n",
      "                              Defaults to a version derived from the running\n",
      "                              interpreter. The version can be specified using\n",
      "                              up to three dot-separated integers (e.g. \"3\" for\n",
      "                              3.0.0, \"3.7\" for 3.7.0, or \"3.7.3\"). A major-\n",
      "                              minor version can also be given as a string\n",
      "                              without dots (e.g. \"37\" for 3.7.0).\n",
      "  --implementation <implementation>\n",
      "                              Only use wheels compatible with Python\n",
      "                              implementation <implementation>, e.g. 'pp',\n",
      "                              'jy', 'cp',  or 'ip'. If not specified, then the\n",
      "                              current interpreter implementation is used.  Use\n",
      "                              'py' to force implementation-agnostic wheels.\n",
      "  --abi <abi>                 Only use wheels compatible with Python abi\n",
      "                              <abi>, e.g. 'pypy_41'. If not specified, then\n",
      "                              the current interpreter abi tag is used. Use\n",
      "                              this option multiple times to specify multiple\n",
      "                              abis supported by the target interpreter.\n",
      "                              Generally you will need to specify\n",
      "                              --implementation, --platform, and --python-\n",
      "                              version when using this option.\n",
      "  --user                      Install to the Python user install directory for\n",
      "                              your platform. Typically ~/.local/, or\n",
      "                              %APPDATA%\\Python on Windows. (See the Python\n",
      "                              documentation for site.USER_BASE for full\n",
      "                              details.)\n",
      "  --root <dir>                Install everything relative to this alternate\n",
      "                              root directory.\n",
      "  --prefix <dir>              Installation prefix where lib, bin and other\n",
      "                              top-level folders are placed. Note that the\n",
      "                              resulting installation may contain scripts and\n",
      "                              other resources which reference the Python\n",
      "                              interpreter of pip, and not that of\n",
      "                              ``--prefix``. See also the ``--python`` option\n",
      "                              if the intention is to install packages into\n",
      "                              another (possibly pip-free) environment.\n",
      "  --src <dir>                 Directory to check out editable projects into.\n",
      "                              The default in a virtualenv is \"<venv\n",
      "                              path>/src\". The default for global installs is\n",
      "                              \"<current dir>/src\".\n",
      "  -U, --upgrade               Upgrade all specified packages to the newest\n",
      "                              available version. The handling of dependencies\n",
      "                              depends on the upgrade-strategy used.\n",
      "  --upgrade-strategy <upgrade_strategy>\n",
      "                              Determines how dependency upgrading should be\n",
      "                              handled [default: only-if-needed]. \"eager\" -\n",
      "                              dependencies are upgraded regardless of whether\n",
      "                              the currently installed version satisfies the\n",
      "                              requirements of the upgraded package(s). \"only-\n",
      "                              if-needed\" -  are upgraded only when they do not\n",
      "                              satisfy the requirements of the upgraded\n",
      "                              package(s).\n",
      "  --force-reinstall           Reinstall all packages even if they are already\n",
      "                              up-to-date.\n",
      "  -I, --ignore-installed      Ignore the installed packages, overwriting them.\n",
      "                              This can break your system if the existing\n",
      "                              package is of a different version or was\n",
      "                              installed with a different package manager!\n",
      "  --ignore-requires-python    Ignore the Requires-Python information.\n",
      "  --no-build-isolation        Disable isolation when building a modern source\n",
      "                              distribution. Build dependencies specified by\n",
      "                              PEP 518 must be already installed if this option\n",
      "                              is used.\n",
      "  --use-pep517                Use PEP 517 for building source distributions\n",
      "                              (use --no-use-pep517 to force legacy behaviour).\n",
      "  --check-build-dependencies  Check the build dependencies when PEP517 is\n",
      "                              used.\n",
      "  --break-system-packages     Allow pip to modify an EXTERNALLY-MANAGED Python\n",
      "                              installation\n",
      "  -C, --config-settings <settings>\n",
      "                              Configuration settings to be passed to the PEP\n",
      "                              517 build backend. Settings take the form\n",
      "                              KEY=VALUE. Use multiple --config-settings\n",
      "                              options to pass multiple keys to the backend.\n",
      "  --global-option <options>   Extra global options to be supplied to the\n",
      "                              setup.py call before the install or bdist_wheel\n",
      "                              command.\n",
      "  --compile                   Compile Python source files to bytecode\n",
      "  --no-compile                Do not compile Python source files to bytecode\n",
      "  --no-warn-script-location   Do not warn when installing scripts outside PATH\n",
      "  --no-warn-conflicts         Do not warn about broken dependencies\n",
      "  --no-binary <format_control>\n",
      "                              Do not use binary packages. Can be supplied\n",
      "                              multiple times, and each time adds to the\n",
      "                              existing value. Accepts either \":all:\" to\n",
      "                              disable all binary packages, \":none:\" to empty\n",
      "                              the set (notice the colons), or one or more\n",
      "                              package names with commas between them (no\n",
      "                              colons). Note that some packages are tricky to\n",
      "                              compile and may fail to install when this option\n",
      "                              is used on them.\n",
      "  --only-binary <format_control>\n",
      "                              Do not use source packages. Can be supplied\n",
      "                              multiple times, and each time adds to the\n",
      "                              existing value. Accepts either \":all:\" to\n",
      "                              disable all source packages, \":none:\" to empty\n",
      "                              the set, or one or more package names with\n",
      "                              commas between them. Packages without binary\n",
      "                              distributions will fail to install when this\n",
      "                              option is used on them.\n",
      "  --prefer-binary             Prefer binary packages over source packages,\n",
      "                              even if the source packages are newer.\n",
      "  --require-hashes            Require a hash to check each requirement\n",
      "                              against, for repeatable installs. This option is\n",
      "                              implied when any package in a requirements file\n",
      "                              has a --hash option.\n",
      "  --progress-bar <progress_bar>\n",
      "                              Specify whether the progress bar should be used\n",
      "                              [on, off] (default: on)\n",
      "  --root-user-action <root_user_action>\n",
      "                              Action if pip is run as a root user. By default,\n",
      "                              a warning message is shown.\n",
      "  --report <file>             Generate a JSON file describing what pip did to\n",
      "                              install the provided requirements. Can be used\n",
      "                              in combination with --dry-run and --ignore-\n",
      "                              installed to 'resolve' the requirements. When -\n",
      "                              is used as file name it writes to stdout. When\n",
      "                              writing to stdout, please combine with the\n",
      "                              --quiet option to avoid mixing pip logging\n",
      "                              output with JSON output.\n",
      "  --no-clean                  Don't clean up build directories.\n",
      "\n",
      "Package Index Options:\n",
      "  -i, --index-url <url>       Base URL of the Python Package Index (default\n",
      "                              https://pypi.org/simple). This should point to a\n",
      "                              repository compliant with PEP 503 (the simple\n",
      "                              repository API) or a local directory laid out in\n",
      "                              the same format.\n",
      "  --extra-index-url <url>     Extra URLs of package indexes to use in addition\n",
      "                              to --index-url. Should follow the same rules as\n",
      "                              --index-url.\n",
      "  --no-index                  Ignore package index (only looking at --find-\n",
      "                              links URLs instead).\n",
      "  -f, --find-links <url>      If a URL or path to an html file, then parse for\n",
      "                              links to archives such as sdist (.tar.gz) or\n",
      "                              wheel (.whl) files. If a local path or file://\n",
      "                              URL that's a directory, then look for archives\n",
      "                              in the directory listing. Links to VCS project\n",
      "                              URLs are not supported.\n",
      "\n",
      "General Options:\n",
      "  -h, --help                  Show help.\n",
      "  --debug                     Let unhandled exceptions propagate outside the\n",
      "                              main subroutine, instead of logging them to\n",
      "                              stderr.\n",
      "  --isolated                  Run pip in an isolated mode, ignoring\n",
      "                              environment variables and user configuration.\n",
      "  --require-virtualenv        Allow pip to only run in a virtual environment;\n",
      "                              exit with an error otherwise.\n",
      "  --python <python>           Run pip with the specified Python interpreter.\n",
      "  -v, --verbose               Give more output. Option is additive, and can be\n",
      "                              used up to 3 times.\n",
      "  -V, --version               Show version and exit.\n",
      "  -q, --quiet                 Give less output. Option is additive, and can be\n",
      "                              used up to 3 times (corresponding to WARNING,\n",
      "                              ERROR, and CRITICAL logging levels).\n",
      "  --log <path>                Path to a verbose appending log.\n",
      "  --no-input                  Disable prompting for input.\n",
      "  --keyring-provider <keyring_provider>\n",
      "                              Enable the credential lookup via the keyring\n",
      "                              library if user input is allowed. Specify which\n",
      "                              mechanism to use [disabled, import, subprocess].\n",
      "                              (default: disabled)\n",
      "  --proxy <proxy>             Specify a proxy in the form\n",
      "                              scheme://[user:passwd@]proxy.server:port.\n",
      "  --retries <retries>         Maximum number of retries each connection should\n",
      "                              attempt (default 5 times).\n",
      "  --timeout <sec>             Set the socket timeout (default 15 seconds).\n",
      "  --exists-action <action>    Default action when a path already exists:\n",
      "                              (s)witch, (i)gnore, (w)ipe, (b)ackup, (a)bort.\n",
      "  --trusted-host <hostname>   Mark this host or host:port pair as trusted,\n",
      "                              even though it does not have valid or any HTTPS.\n",
      "  --cert <path>               Path to PEM-encoded CA certificate bundle. If\n",
      "                              provided, overrides the default. See 'SSL\n",
      "                              Certificate Verification' in pip documentation\n",
      "                              for more information.\n",
      "  --client-cert <path>        Path to SSL client certificate, a single file\n",
      "                              containing the private key and the certificate\n",
      "                              in PEM format.\n",
      "  --cache-dir <dir>           Store the cache data in <dir>.\n",
      "  --no-cache-dir              Disable the cache.\n",
      "  --disable-pip-version-check\n",
      "                              Don't periodically check PyPI to determine\n",
      "                              whether a new version of pip is available for\n",
      "                              download. Implied with --no-index.\n",
      "  --no-color                  Suppress colored output.\n",
      "  --no-python-version-warning\n",
      "                              Silence deprecation warnings for upcoming\n",
      "                              unsupported Pythons.\n",
      "  --use-feature <feature>     Enable new functionality, that may be backward\n",
      "                              incompatible.\n",
      "  --use-deprecated <feature>  Enable deprecated functionality, that will be\n",
      "                              removed in the future.\n",
      "Note: you may need to restart the kernel to use updated packages.\n"
     ]
    }
   ],
   "source": [
    "%pip install --help\n"
   ]
  },
  {
   "cell_type": "code",
   "execution_count": 1,
   "metadata": {},
   "outputs": [],
   "source": [
    "import pandas as pd\n",
    "import pylidc as pl\n",
    "import xml.etree.ElementTree as ET\n",
    "import matplotlib.pyplot as plt\n",
    "import numpy as np"
   ]
  },
  {
   "cell_type": "code",
   "execution_count": 2,
   "metadata": {},
   "outputs": [
    {
     "name": "stdout",
     "output_type": "stream",
     "text": [
      "c:\\Users\\Daniela\\Desktop\\Fac\\3ºano\\Lab_IACD\\Project1\\lung-cancer-classification\\pylidc\\__init__.py\n"
     ]
    }
   ],
   "source": [
    "print(pl.__file__)"
   ]
  },
  {
   "cell_type": "markdown",
   "metadata": {},
   "source": [
    "---"
   ]
  },
  {
   "cell_type": "markdown",
   "metadata": {},
   "source": [
    "## Importing XML files"
   ]
  },
  {
   "cell_type": "code",
   "execution_count": 10,
   "metadata": {},
   "outputs": [
    {
     "data": {
      "text/plain": [
       "<Figure size 640x480 with 0 Axes>"
      ]
     },
     "metadata": {},
     "output_type": "display_data"
    }
   ],
   "source": [
    "plt.set_cmap('gray')"
   ]
  },
  {
   "cell_type": "code",
   "execution_count": 6,
   "metadata": {},
   "outputs": [],
   "source": [
    "#%pip install xlrd"
   ]
  },
  {
   "cell_type": "code",
   "execution_count": 11,
   "metadata": {},
   "outputs": [
    {
     "ename": "ImportError",
     "evalue": "Missing optional dependency 'openpyxl'.  Use pip or conda to install openpyxl.",
     "output_type": "error",
     "traceback": [
      "\u001b[1;31m---------------------------------------------------------------------------\u001b[0m",
      "\u001b[1;31mModuleNotFoundError\u001b[0m                       Traceback (most recent call last)",
      "File \u001b[1;32mc:\\Users\\Daniela\\Documents\\Fisc\\envs\\base2\\Lib\\site-packages\\pandas\\compat\\_optional.py:135\u001b[0m, in \u001b[0;36mimport_optional_dependency\u001b[1;34m(name, extra, errors, min_version)\u001b[0m\n\u001b[0;32m    134\u001b[0m \u001b[38;5;28;01mtry\u001b[39;00m:\n\u001b[1;32m--> 135\u001b[0m     module \u001b[38;5;241m=\u001b[39m importlib\u001b[38;5;241m.\u001b[39mimport_module(name)\n\u001b[0;32m    136\u001b[0m \u001b[38;5;28;01mexcept\u001b[39;00m \u001b[38;5;167;01mImportError\u001b[39;00m:\n",
      "File \u001b[1;32mc:\\Users\\Daniela\\Documents\\Fisc\\envs\\base2\\Lib\\importlib\\__init__.py:90\u001b[0m, in \u001b[0;36mimport_module\u001b[1;34m(name, package)\u001b[0m\n\u001b[0;32m     89\u001b[0m         level \u001b[38;5;241m+\u001b[39m\u001b[38;5;241m=\u001b[39m \u001b[38;5;241m1\u001b[39m\n\u001b[1;32m---> 90\u001b[0m \u001b[38;5;28;01mreturn\u001b[39;00m _bootstrap\u001b[38;5;241m.\u001b[39m_gcd_import(name[level:], package, level)\n",
      "File \u001b[1;32m<frozen importlib._bootstrap>:1387\u001b[0m, in \u001b[0;36m_gcd_import\u001b[1;34m(name, package, level)\u001b[0m\n",
      "File \u001b[1;32m<frozen importlib._bootstrap>:1360\u001b[0m, in \u001b[0;36m_find_and_load\u001b[1;34m(name, import_)\u001b[0m\n",
      "File \u001b[1;32m<frozen importlib._bootstrap>:1324\u001b[0m, in \u001b[0;36m_find_and_load_unlocked\u001b[1;34m(name, import_)\u001b[0m\n",
      "\u001b[1;31mModuleNotFoundError\u001b[0m: No module named 'openpyxl'",
      "\nDuring handling of the above exception, another exception occurred:\n",
      "\u001b[1;31mImportError\u001b[0m                               Traceback (most recent call last)",
      "Cell \u001b[1;32mIn[11], line 1\u001b[0m\n\u001b[1;32m----> 1\u001b[0m nodule_counts_df \u001b[38;5;241m=\u001b[39m pd\u001b[38;5;241m.\u001b[39mread_excel(\u001b[38;5;124m'\u001b[39m\u001b[38;5;124mlidc-idri-nodule-counts-6-23-2015.xlsx\u001b[39m\u001b[38;5;124m'\u001b[39m)\n\u001b[0;32m      2\u001b[0m nodule_counts_df\n",
      "File \u001b[1;32mc:\\Users\\Daniela\\Documents\\Fisc\\envs\\base2\\Lib\\site-packages\\pandas\\io\\excel\\_base.py:495\u001b[0m, in \u001b[0;36mread_excel\u001b[1;34m(io, sheet_name, header, names, index_col, usecols, dtype, engine, converters, true_values, false_values, skiprows, nrows, na_values, keep_default_na, na_filter, verbose, parse_dates, date_parser, date_format, thousands, decimal, comment, skipfooter, storage_options, dtype_backend, engine_kwargs)\u001b[0m\n\u001b[0;32m    493\u001b[0m \u001b[38;5;28;01mif\u001b[39;00m \u001b[38;5;129;01mnot\u001b[39;00m \u001b[38;5;28misinstance\u001b[39m(io, ExcelFile):\n\u001b[0;32m    494\u001b[0m     should_close \u001b[38;5;241m=\u001b[39m \u001b[38;5;28;01mTrue\u001b[39;00m\n\u001b[1;32m--> 495\u001b[0m     io \u001b[38;5;241m=\u001b[39m ExcelFile(\n\u001b[0;32m    496\u001b[0m         io,\n\u001b[0;32m    497\u001b[0m         storage_options\u001b[38;5;241m=\u001b[39mstorage_options,\n\u001b[0;32m    498\u001b[0m         engine\u001b[38;5;241m=\u001b[39mengine,\n\u001b[0;32m    499\u001b[0m         engine_kwargs\u001b[38;5;241m=\u001b[39mengine_kwargs,\n\u001b[0;32m    500\u001b[0m     )\n\u001b[0;32m    501\u001b[0m \u001b[38;5;28;01melif\u001b[39;00m engine \u001b[38;5;129;01mand\u001b[39;00m engine \u001b[38;5;241m!=\u001b[39m io\u001b[38;5;241m.\u001b[39mengine:\n\u001b[0;32m    502\u001b[0m     \u001b[38;5;28;01mraise\u001b[39;00m \u001b[38;5;167;01mValueError\u001b[39;00m(\n\u001b[0;32m    503\u001b[0m         \u001b[38;5;124m\"\u001b[39m\u001b[38;5;124mEngine should not be specified when passing \u001b[39m\u001b[38;5;124m\"\u001b[39m\n\u001b[0;32m    504\u001b[0m         \u001b[38;5;124m\"\u001b[39m\u001b[38;5;124man ExcelFile - ExcelFile already has the engine set\u001b[39m\u001b[38;5;124m\"\u001b[39m\n\u001b[0;32m    505\u001b[0m     )\n",
      "File \u001b[1;32mc:\\Users\\Daniela\\Documents\\Fisc\\envs\\base2\\Lib\\site-packages\\pandas\\io\\excel\\_base.py:1567\u001b[0m, in \u001b[0;36mExcelFile.__init__\u001b[1;34m(self, path_or_buffer, engine, storage_options, engine_kwargs)\u001b[0m\n\u001b[0;32m   1564\u001b[0m \u001b[38;5;28mself\u001b[39m\u001b[38;5;241m.\u001b[39mengine \u001b[38;5;241m=\u001b[39m engine\n\u001b[0;32m   1565\u001b[0m \u001b[38;5;28mself\u001b[39m\u001b[38;5;241m.\u001b[39mstorage_options \u001b[38;5;241m=\u001b[39m storage_options\n\u001b[1;32m-> 1567\u001b[0m \u001b[38;5;28mself\u001b[39m\u001b[38;5;241m.\u001b[39m_reader \u001b[38;5;241m=\u001b[39m \u001b[38;5;28mself\u001b[39m\u001b[38;5;241m.\u001b[39m_engines[engine](\n\u001b[0;32m   1568\u001b[0m     \u001b[38;5;28mself\u001b[39m\u001b[38;5;241m.\u001b[39m_io,\n\u001b[0;32m   1569\u001b[0m     storage_options\u001b[38;5;241m=\u001b[39mstorage_options,\n\u001b[0;32m   1570\u001b[0m     engine_kwargs\u001b[38;5;241m=\u001b[39mengine_kwargs,\n\u001b[0;32m   1571\u001b[0m )\n",
      "File \u001b[1;32mc:\\Users\\Daniela\\Documents\\Fisc\\envs\\base2\\Lib\\site-packages\\pandas\\io\\excel\\_openpyxl.py:552\u001b[0m, in \u001b[0;36mOpenpyxlReader.__init__\u001b[1;34m(self, filepath_or_buffer, storage_options, engine_kwargs)\u001b[0m\n\u001b[0;32m    534\u001b[0m \u001b[38;5;129m@doc\u001b[39m(storage_options\u001b[38;5;241m=\u001b[39m_shared_docs[\u001b[38;5;124m\"\u001b[39m\u001b[38;5;124mstorage_options\u001b[39m\u001b[38;5;124m\"\u001b[39m])\n\u001b[0;32m    535\u001b[0m \u001b[38;5;28;01mdef\u001b[39;00m \u001b[38;5;21m__init__\u001b[39m(\n\u001b[0;32m    536\u001b[0m     \u001b[38;5;28mself\u001b[39m,\n\u001b[1;32m   (...)\u001b[0m\n\u001b[0;32m    539\u001b[0m     engine_kwargs: \u001b[38;5;28mdict\u001b[39m \u001b[38;5;241m|\u001b[39m \u001b[38;5;28;01mNone\u001b[39;00m \u001b[38;5;241m=\u001b[39m \u001b[38;5;28;01mNone\u001b[39;00m,\n\u001b[0;32m    540\u001b[0m ) \u001b[38;5;241m-\u001b[39m\u001b[38;5;241m>\u001b[39m \u001b[38;5;28;01mNone\u001b[39;00m:\n\u001b[0;32m    541\u001b[0m \u001b[38;5;250m    \u001b[39m\u001b[38;5;124;03m\"\"\"\u001b[39;00m\n\u001b[0;32m    542\u001b[0m \u001b[38;5;124;03m    Reader using openpyxl engine.\u001b[39;00m\n\u001b[0;32m    543\u001b[0m \n\u001b[1;32m   (...)\u001b[0m\n\u001b[0;32m    550\u001b[0m \u001b[38;5;124;03m        Arbitrary keyword arguments passed to excel engine.\u001b[39;00m\n\u001b[0;32m    551\u001b[0m \u001b[38;5;124;03m    \"\"\"\u001b[39;00m\n\u001b[1;32m--> 552\u001b[0m     import_optional_dependency(\u001b[38;5;124m\"\u001b[39m\u001b[38;5;124mopenpyxl\u001b[39m\u001b[38;5;124m\"\u001b[39m)\n\u001b[0;32m    553\u001b[0m     \u001b[38;5;28msuper\u001b[39m()\u001b[38;5;241m.\u001b[39m\u001b[38;5;21m__init__\u001b[39m(\n\u001b[0;32m    554\u001b[0m         filepath_or_buffer,\n\u001b[0;32m    555\u001b[0m         storage_options\u001b[38;5;241m=\u001b[39mstorage_options,\n\u001b[0;32m    556\u001b[0m         engine_kwargs\u001b[38;5;241m=\u001b[39mengine_kwargs,\n\u001b[0;32m    557\u001b[0m     )\n",
      "File \u001b[1;32mc:\\Users\\Daniela\\Documents\\Fisc\\envs\\base2\\Lib\\site-packages\\pandas\\compat\\_optional.py:138\u001b[0m, in \u001b[0;36mimport_optional_dependency\u001b[1;34m(name, extra, errors, min_version)\u001b[0m\n\u001b[0;32m    136\u001b[0m \u001b[38;5;28;01mexcept\u001b[39;00m \u001b[38;5;167;01mImportError\u001b[39;00m:\n\u001b[0;32m    137\u001b[0m     \u001b[38;5;28;01mif\u001b[39;00m errors \u001b[38;5;241m==\u001b[39m \u001b[38;5;124m\"\u001b[39m\u001b[38;5;124mraise\u001b[39m\u001b[38;5;124m\"\u001b[39m:\n\u001b[1;32m--> 138\u001b[0m         \u001b[38;5;28;01mraise\u001b[39;00m \u001b[38;5;167;01mImportError\u001b[39;00m(msg)\n\u001b[0;32m    139\u001b[0m     \u001b[38;5;28;01mreturn\u001b[39;00m \u001b[38;5;28;01mNone\u001b[39;00m\n\u001b[0;32m    141\u001b[0m \u001b[38;5;66;03m# Handle submodules: if we have submodule, grab parent module from sys.modules\u001b[39;00m\n",
      "\u001b[1;31mImportError\u001b[0m: Missing optional dependency 'openpyxl'.  Use pip or conda to install openpyxl."
     ]
    }
   ],
   "source": [
    "nodule_counts_df = pd.read_excel('lidc-idri-nodule-counts-6-23-2015.xlsx')\n",
    "nodule_counts_df\n",
    "#maybe eliminar quarta e quinta coluna"
   ]
  },
  {
   "cell_type": "code",
   "execution_count": null,
   "metadata": {},
   "outputs": [],
   "source": [
    "pacient_data_df = pd.read_excel('tcia-diagnosis-data-2012-04-20.xls')\n",
    "pacient_data_df \n",
    "#nem todos os pacientes têm historial registado (157 em 1010)"
   ]
  },
  {
   "cell_type": "markdown",
   "metadata": {},
   "source": [
    "---\n"
   ]
  },
  {
   "cell_type": "markdown",
   "metadata": {},
   "source": [
    "## Importing Annotations"
   ]
  },
  {
   "cell_type": "code",
   "execution_count": 2,
   "metadata": {},
   "outputs": [
    {
     "name": "stdout",
     "output_type": "stream",
     "text": [
      "LIDC-IDRI-0078\n"
     ]
    }
   ],
   "source": [
    "annotation = pl.query(pl.Annotation).first()\n",
    "print(annotation.scan.patient_id)"
   ]
  },
  {
   "cell_type": "code",
   "execution_count": 6,
   "metadata": {},
   "outputs": [
    {
     "name": "stdout",
     "output_type": "stream",
     "text": [
      "4\n"
     ]
    }
   ],
   "source": [
    "pid = 'LIDC-IDRI-0001'\n",
    "scan = pl.query(pl.Scan).filter(pl.Scan.patient_id == pid).first()\n",
    "print(len(scan.annotations))"
   ]
  },
  {
   "cell_type": "code",
   "execution_count": 7,
   "metadata": {},
   "outputs": [],
   "source": [
    "nods = scan.cluster_annotations()"
   ]
  },
  {
   "cell_type": "code",
   "execution_count": 8,
   "metadata": {},
   "outputs": [
    {
     "ename": "AttributeError",
     "evalue": "module 'matplotlib.cm' has no attribute 'cmap_d'",
     "output_type": "error",
     "traceback": [
      "\u001b[1;31m---------------------------------------------------------------------------\u001b[0m",
      "\u001b[1;31mAttributeError\u001b[0m                            Traceback (most recent call last)",
      "Cell \u001b[1;32mIn[8], line 1\u001b[0m\n\u001b[1;32m----> 1\u001b[0m annotation\u001b[38;5;241m.\u001b[39mvisualize_in_3d()\n",
      "File \u001b[1;32mc:\\Users\\Daniela\\Desktop\\Fac\\3ºano\\Lab_IACD\\Project1\\lung-cancer-classification\\pylidc\\Annotation.py:745\u001b[0m, in \u001b[0;36mAnnotation.visualize_in_3d\u001b[1;34m(self, edgecolor, cmap, step, figsize, backend)\u001b[0m\n\u001b[0;32m    742\u001b[0m     \u001b[38;5;28;01mraise\u001b[39;00m \u001b[38;5;167;01mValueError\u001b[39;00m(\u001b[38;5;124m\"\u001b[39m\u001b[38;5;124mbackend should be in \u001b[39m\u001b[38;5;132;01m%s\u001b[39;00m\u001b[38;5;124m.\u001b[39m\u001b[38;5;124m\"\u001b[39m \u001b[38;5;241m%\u001b[39m viz3dbackends)\n\u001b[0;32m    744\u001b[0m \u001b[38;5;28;01mif\u001b[39;00m backend \u001b[38;5;241m==\u001b[39m \u001b[38;5;124m'\u001b[39m\u001b[38;5;124mmatplotlib\u001b[39m\u001b[38;5;124m'\u001b[39m:\n\u001b[1;32m--> 745\u001b[0m     \u001b[38;5;28;01mif\u001b[39;00m cmap \u001b[38;5;129;01mnot\u001b[39;00m \u001b[38;5;129;01min\u001b[39;00m plt\u001b[38;5;241m.\u001b[39mcm\u001b[38;5;241m.\u001b[39mcmap_d\u001b[38;5;241m.\u001b[39mkeys():\n\u001b[0;32m    746\u001b[0m         \u001b[38;5;28;01mraise\u001b[39;00m \u001b[38;5;167;01mValueError\u001b[39;00m(\u001b[38;5;124m\"\u001b[39m\u001b[38;5;124mInvalid `cmap`. See `plt.cm.cmap_d.keys()`.\u001b[39m\u001b[38;5;124m\"\u001b[39m)\n\u001b[0;32m    748\u001b[0m \u001b[38;5;66;03m# Pad to cap the ends for masks that hit the edge.\u001b[39;00m\n",
      "\u001b[1;31mAttributeError\u001b[0m: module 'matplotlib.cm' has no attribute 'cmap_d'"
     ]
    }
   ],
   "source": [
    "annotation.visualize_in_3d()"
   ]
  },
  {
   "cell_type": "markdown",
   "metadata": {},
   "source": [
    "### Visualization of the annotated nodule"
   ]
  },
  {
   "cell_type": "code",
   "execution_count": 9,
   "metadata": {},
   "outputs": [
    {
     "name": "stdout",
     "output_type": "stream",
     "text": [
      "Loading dicom files ... This may take a moment.\n"
     ]
    },
    {
     "ename": "RuntimeError",
     "evalue": "Couldn't find DICOM files for Scan(id=1,patient_id=LIDC-IDRI-0078) in C:/Users/Daniela/Desktop/Fac/3ºano/Lab_IACD/Project1/manifest-1727162347556/LIDC-IDRI\\LIDC-IDRI-0078",
     "output_type": "error",
     "traceback": [
      "\u001b[1;31m---------------------------------------------------------------------------\u001b[0m",
      "\u001b[1;31mRuntimeError\u001b[0m                              Traceback (most recent call last)",
      "Cell \u001b[1;32mIn[9], line 1\u001b[0m\n\u001b[1;32m----> 1\u001b[0m volume \u001b[38;5;241m=\u001b[39m annotation\u001b[38;5;241m.\u001b[39mscan\u001b[38;5;241m.\u001b[39mto_volume()\n\u001b[0;32m      2\u001b[0m padding \u001b[38;5;241m=\u001b[39m [(\u001b[38;5;241m30\u001b[39m,\u001b[38;5;241m10\u001b[39m), (\u001b[38;5;241m10\u001b[39m,\u001b[38;5;241m25\u001b[39m), (\u001b[38;5;241m0\u001b[39m,\u001b[38;5;241m0\u001b[39m)]\n\u001b[0;32m      4\u001b[0m mask \u001b[38;5;241m=\u001b[39m annotation\u001b[38;5;241m.\u001b[39mboolean_mask(pad\u001b[38;5;241m=\u001b[39mpadding)\n",
      "File \u001b[1;32mc:\\Users\\Daniela\\Desktop\\Fac\\3ºano\\Lab_IACD\\Project1\\lung-cancer-classification\\pylidc\\Scan.py:647\u001b[0m, in \u001b[0;36mScan.to_volume\u001b[1;34m(self, verbose)\u001b[0m\n\u001b[0;32m    643\u001b[0m \u001b[38;5;28;01mdef\u001b[39;00m \u001b[38;5;21mto_volume\u001b[39m(\u001b[38;5;28mself\u001b[39m, verbose\u001b[38;5;241m=\u001b[39m\u001b[38;5;28;01mTrue\u001b[39;00m):\n\u001b[0;32m    644\u001b[0m \u001b[38;5;250m    \u001b[39m\u001b[38;5;124;03m\"\"\"\u001b[39;00m\n\u001b[0;32m    645\u001b[0m \u001b[38;5;124;03m    Return the scan as a 3D numpy array volume.\u001b[39;00m\n\u001b[0;32m    646\u001b[0m \u001b[38;5;124;03m    \"\"\"\u001b[39;00m\n\u001b[1;32m--> 647\u001b[0m     images \u001b[38;5;241m=\u001b[39m \u001b[38;5;28mself\u001b[39m\u001b[38;5;241m.\u001b[39mload_all_dicom_images(verbose\u001b[38;5;241m=\u001b[39mverbose)\n\u001b[0;32m    649\u001b[0m     volume \u001b[38;5;241m=\u001b[39m np\u001b[38;5;241m.\u001b[39mstack(\n\u001b[0;32m    650\u001b[0m         [\n\u001b[0;32m    651\u001b[0m             x\u001b[38;5;241m.\u001b[39mpixel_array \u001b[38;5;241m*\u001b[39m x\u001b[38;5;241m.\u001b[39mRescaleSlope \u001b[38;5;241m+\u001b[39m x\u001b[38;5;241m.\u001b[39mRescaleIntercept\n\u001b[1;32m   (...)\u001b[0m\n\u001b[0;32m    654\u001b[0m         axis\u001b[38;5;241m=\u001b[39m\u001b[38;5;241m-\u001b[39m\u001b[38;5;241m1\u001b[39m,\n\u001b[0;32m    655\u001b[0m     )\u001b[38;5;241m.\u001b[39mastype(np\u001b[38;5;241m.\u001b[39mint16)\n\u001b[0;32m    656\u001b[0m     \u001b[38;5;28;01mreturn\u001b[39;00m volume\n",
      "File \u001b[1;32mc:\\Users\\Daniela\\Desktop\\Fac\\3ºano\\Lab_IACD\\Project1\\lung-cancer-classification\\pylidc\\Scan.py:292\u001b[0m, in \u001b[0;36mScan.load_all_dicom_images\u001b[1;34m(self, verbose)\u001b[0m\n\u001b[0;32m    265\u001b[0m \u001b[38;5;250m\u001b[39m\u001b[38;5;124;03m\"\"\"\u001b[39;00m\n\u001b[0;32m    266\u001b[0m \u001b[38;5;124;03mLoad all the DICOM images assocated with this scan and return as list.\u001b[39;00m\n\u001b[0;32m    267\u001b[0m \n\u001b[1;32m   (...)\u001b[0m\n\u001b[0;32m    288\u001b[0m \n\u001b[0;32m    289\u001b[0m \u001b[38;5;124;03m\"\"\"\u001b[39;00m\n\u001b[0;32m    290\u001b[0m \u001b[38;5;28;01mif\u001b[39;00m verbose: \u001b[38;5;28mprint\u001b[39m(\u001b[38;5;124m\"\u001b[39m\u001b[38;5;124mLoading dicom files ... This may take a moment.\u001b[39m\u001b[38;5;124m\"\u001b[39m)\n\u001b[1;32m--> 292\u001b[0m path \u001b[38;5;241m=\u001b[39m \u001b[38;5;28mself\u001b[39m\u001b[38;5;241m.\u001b[39mget_path_to_dicom_files()\n\u001b[0;32m    293\u001b[0m fnames \u001b[38;5;241m=\u001b[39m [fname \u001b[38;5;28;01mfor\u001b[39;00m fname \u001b[38;5;129;01min\u001b[39;00m os\u001b[38;5;241m.\u001b[39mlistdir(path)\n\u001b[0;32m    294\u001b[0m                     \u001b[38;5;28;01mif\u001b[39;00m fname\u001b[38;5;241m.\u001b[39mendswith(\u001b[38;5;124m'\u001b[39m\u001b[38;5;124m.dcm\u001b[39m\u001b[38;5;124m'\u001b[39m) \u001b[38;5;129;01mand\u001b[39;00m \u001b[38;5;129;01mnot\u001b[39;00m fname\u001b[38;5;241m.\u001b[39mstartswith(\u001b[38;5;124m\"\u001b[39m\u001b[38;5;124m.\u001b[39m\u001b[38;5;124m\"\u001b[39m)]\n\u001b[0;32m    295\u001b[0m images \u001b[38;5;241m=\u001b[39m []\n",
      "File \u001b[1;32mc:\\Users\\Daniela\\Desktop\\Fac\\3ºano\\Lab_IACD\\Project1\\lung-cancer-classification\\pylidc\\Scan.py:225\u001b[0m, in \u001b[0;36mScan.get_path_to_dicom_files\u001b[1;34m(self)\u001b[0m\n\u001b[0;32m    223\u001b[0m \u001b[38;5;28;01mif\u001b[39;00m \u001b[38;5;129;01mnot\u001b[39;00m os\u001b[38;5;241m.\u001b[39mpath\u001b[38;5;241m.\u001b[39mexists(base):\n\u001b[0;32m    224\u001b[0m     msg \u001b[38;5;241m=\u001b[39m \u001b[38;5;124m\"\u001b[39m\u001b[38;5;124mCouldn\u001b[39m\u001b[38;5;124m'\u001b[39m\u001b[38;5;124mt find DICOM files for \u001b[39m\u001b[38;5;132;01m{}\u001b[39;00m\u001b[38;5;124m in \u001b[39m\u001b[38;5;132;01m{}\u001b[39;00m\u001b[38;5;124m\"\u001b[39m\n\u001b[1;32m--> 225\u001b[0m     \u001b[38;5;28;01mraise\u001b[39;00m \u001b[38;5;167;01mRuntimeError\u001b[39;00m(msg\u001b[38;5;241m.\u001b[39mformat(\u001b[38;5;28mself\u001b[39m, base))\n\u001b[0;32m    227\u001b[0m path \u001b[38;5;241m=\u001b[39m os\u001b[38;5;241m.\u001b[39mpath\u001b[38;5;241m.\u001b[39mjoin(base,\n\u001b[0;32m    228\u001b[0m                     \u001b[38;5;28mself\u001b[39m\u001b[38;5;241m.\u001b[39mstudy_instance_uid,\n\u001b[0;32m    229\u001b[0m                     \u001b[38;5;28mself\u001b[39m\u001b[38;5;241m.\u001b[39mseries_instance_uid)\n\u001b[0;32m    231\u001b[0m \u001b[38;5;66;03m# Check if old path first. If not found, do recursive search.\u001b[39;00m\n",
      "\u001b[1;31mRuntimeError\u001b[0m: Couldn't find DICOM files for Scan(id=1,patient_id=LIDC-IDRI-0078) in C:/Users/Daniela/Desktop/Fac/3ºano/Lab_IACD/Project1/manifest-1727162347556/LIDC-IDRI\\LIDC-IDRI-0078"
     ]
    }
   ],
   "source": [
    "volume = annotation.scan.to_volume()\n",
    "padding = [(30,10), (10,25), (0,0)]\n",
    "\n",
    "mask = annotation.boolean_mask(pad=padding)\n",
    "bbox = annotation.bbox(pad=padding)\n",
    "\n",
    "fig,ax = plt.subplots(1,2,figsize=(5,3))\n",
    "\n",
    "ax[0].imshow(vol[bbox][:,:,2], cmap=plt.cm.gray)\n",
    "ax[0].axis('off')\n",
    "\n",
    "ax[1].imshow(mask[:,:,2], cmap=plt.cm.gray)\n",
    "ax[1].axis('off')\n",
    "\n",
    "plt.tight_layout()\n",
    "plt.savefig(\"../images/mask_bbox.png\", bbox_inches=\"tight\")\n",
    "plt.show()"
   ]
  },
  {
   "cell_type": "markdown",
   "metadata": {},
   "source": [
    "### Surface Visualization"
   ]
  },
  {
   "cell_type": "code",
   "execution_count": null,
   "metadata": {},
   "outputs": [],
   "source": [
    "\n",
    "# Verifica os colormaps disponíveis\n",
    "print(plt.colormaps())\n",
    "\n",
    "# Carregar a anotação de lobulação 5\n",
    "ann = pl.query(pl.Annotation)\\\n",
    "        .filter(pl.Annotation.lobulation == 5).first()\n",
    "\n",
    "# Usar a função visualize_in_3d com colormap válido\n",
    "ann.visualize_in_3d(cmap='viridis') "
   ]
  },
  {
   "cell_type": "markdown",
   "metadata": {},
   "source": [
    "---"
   ]
  },
  {
   "cell_type": "code",
   "execution_count": 4,
   "metadata": {},
   "outputs": [],
   "source": [
    "path_to_annotations = 'LIDC-XML-only'"
   ]
  },
  {
   "cell_type": "code",
   "execution_count": 6,
   "metadata": {},
   "outputs": [],
   "source": [
    "path = 'C:/Users/Daniela/Desktop/Fac/3ºano/Lab_IACD/Project1/manifest-1727162347556/LIDC-IDRI'\n",
    "f = open('C:/Users/Daniela/pylidc.conf', 'w')\n",
    "f.write(f'[dicom]\\npath = {path}\\n\\n')\n",
    "f.close()"
   ]
  },
  {
   "cell_type": "code",
   "execution_count": 3,
   "metadata": {},
   "outputs": [],
   "source": [
    "pid = 'LIDC-IDRI-0001'\n",
    "scan = pl.query(pl.Scan).filter(pl.Scan.patient_id == pid).first()"
   ]
  },
  {
   "cell_type": "code",
   "execution_count": null,
   "metadata": {},
   "outputs": [],
   "source": [
    "vol = scan.to_volume()\n",
    "print(vol.shape) # (dim, dim, depth)\n",
    "\n",
    "plt.figure(figsize=(5, 5))\n",
    "plt.imshow(vol[:,:,0])\n",
    "plt.show() # show the first-level slice"
   ]
  },
  {
   "cell_type": "code",
   "execution_count": null,
   "metadata": {},
   "outputs": [],
   "source": [
    "#extract information from an XML file\n",
    "def parse_xml(file):\n",
    "    tree = ET.parse(file)\n",
    "    root = tree.getroot()\n",
    "\n",
    "    data = []\n",
    "    for nodule in root"
   ]
  }
 ],
 "metadata": {
  "kernelspec": {
   "display_name": "base",
   "language": "python",
   "name": "python3"
  },
  "language_info": {
   "codemirror_mode": {
    "name": "ipython",
    "version": 3
   },
   "file_extension": ".py",
   "mimetype": "text/x-python",
   "name": "python",
   "nbconvert_exporter": "python",
   "pygments_lexer": "ipython3",
   "version": "3.12.3"
  }
 },
 "nbformat": 4,
 "nbformat_minor": 2
}
