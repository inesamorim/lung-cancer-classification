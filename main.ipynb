{
 "cells": [
  {
   "cell_type": "markdown",
   "metadata": {},
   "source": [
    "---"
   ]
  },
  {
   "cell_type": "markdown",
   "metadata": {},
   "source": [
    "\n",
    "<h1 style=\"text-align:center\"> \n",
    "Lung Cancer Classification using CT Data (Smoke Detector)\n",
    "</h1><style>"
   ]
  },
  {
   "cell_type": "markdown",
   "metadata": {},
   "source": [
    "---"
   ]
  },
  {
   "cell_type": "markdown",
   "metadata": {},
   "source": [
    "- Constança Fernandes, nº\n",
    "- Daniela Osório, nº202208679\n",
    "- Inês Amorim, nº2021108108\n",
    "- Pedro Afonseca, nº202205394"
   ]
  },
  {
   "cell_type": "markdown",
   "metadata": {},
   "source": [
    "---"
   ]
  },
  {
   "cell_type": "markdown",
   "metadata": {},
   "source": [
    "## Introduction"
   ]
  },
  {
   "cell_type": "markdown",
   "metadata": {},
   "source": [
    "> The integration of artificial intelligence (AI) into lung cancer screening represents a transformative approach to early detection and diagnosis, as lung cancer has a high mortality rate and many times it is diagnosed in the middle and late stages, when few therapies are available. The late diagnose happens beacause there are no obvious symptoms at an early stage **[2]**. With the ability to analyze complex medical data, AI enhances the identification of pulmonary nodules, ultimately improving patient outcomes. \n",
    "\n",
    "> Innovations such as low-dose computed tomography (LDCT) and computer-aided detection (CAD) systems enable precise characterization of nodules, facilitating personalized treatment strategies. As the field advances, ongoing research continues to explore the intersection of imaging techniques and AI, aiming to refine diagnostic processes and minimize the need for invasive procedures. **[1]**"
   ]
  },
  {
   "cell_type": "markdown",
   "metadata": {},
   "source": [
    "--- \n",
    "## Libraries\n"
   ]
  },
  {
   "cell_type": "code",
   "execution_count": 1,
   "metadata": {},
   "outputs": [],
   "source": [
    "import pandas as pd\n",
    "import pylidc as pl\n",
    "import xml.etree.ElementTree as ET\n",
    "import matplotlib.pyplot as plt\n",
    "import numpy as np\n",
    "import seaborn as sns\n",
    "from utils import get_malignancy_class, cluster_annots, get_cropped_annot\n",
    "import pydicom\n",
    "from radiomics import featureextractor\n",
    "import SimpleITK as sitk\n",
    "import os\n",
    "from pathlib import Path\n",
    "from xgboost import XGBClassifier\n",
    "from sklearn.ensemble import RandomForestClassifier\n",
    "from sklearn.model_selection import train_test_split\n",
    "from sklearn.metrics import accuracy_score\n",
    "from sklearn.model_selection import StratifiedGroupKFold, RandomizedSearchCV, cross_validate\n",
    "from sklearn.preprocessing import StandardScaler\n",
    "from sklearn.compose import ColumnTransformer\n",
    "from sklearn.metrics import make_scorer, precision_score, f1_score, RocCurveDisplay, roc_auc_score, fbeta_score, balanced_accuracy_score, confusion_matrix, ConfusionMatrixDisplay\n",
    "from sklearn.pipeline import Pipeline\n",
    "from imblearn.over_sampling import SMOTE\n",
    "from typing import Tuple\n",
    "from collections import defaultdict"
   ]
  },
  {
   "cell_type": "code",
   "execution_count": 2,
   "metadata": {},
   "outputs": [
    {
     "name": "stdout",
     "output_type": "stream",
     "text": [
      "/home/inesamorim46/3ano1sem/labiacd/proj_1/lung-cancer-classification/pylidc/__init__.py\n"
     ]
    }
   ],
   "source": [
    "#pylidc must be in lung-cancer-classification directory\n",
    "print(pl.__file__)"
   ]
  },
  {
   "cell_type": "markdown",
   "metadata": {},
   "source": [
    "---"
   ]
  },
  {
   "cell_type": "markdown",
   "metadata": {},
   "source": [
    "## Importing XML files"
   ]
  },
  {
   "cell_type": "code",
   "execution_count": 3,
   "metadata": {},
   "outputs": [
    {
     "data": {
      "text/html": [
       "<div>\n",
       "<style scoped>\n",
       "    .dataframe tbody tr th:only-of-type {\n",
       "        vertical-align: middle;\n",
       "    }\n",
       "\n",
       "    .dataframe tbody tr th {\n",
       "        vertical-align: top;\n",
       "    }\n",
       "\n",
       "    .dataframe thead th {\n",
       "        text-align: right;\n",
       "    }\n",
       "</style>\n",
       "<table border=\"1\" class=\"dataframe\">\n",
       "  <thead>\n",
       "    <tr style=\"text-align: right;\">\n",
       "      <th></th>\n",
       "      <th>TCIA Patent ID</th>\n",
       "      <th>Total Number of Nodules*</th>\n",
       "      <th>Number of Nodules &gt;=3mm**</th>\n",
       "      <th>Number of Nodules &lt;3mm***</th>\n",
       "      <th>Unnamed: 4</th>\n",
       "      <th>Unnamed: 5</th>\n",
       "    </tr>\n",
       "  </thead>\n",
       "  <tbody>\n",
       "    <tr>\n",
       "      <th>0</th>\n",
       "      <td>LIDC-IDRI-0001</td>\n",
       "      <td>4</td>\n",
       "      <td>1</td>\n",
       "      <td>3</td>\n",
       "      <td>NaN</td>\n",
       "      <td>NaN</td>\n",
       "    </tr>\n",
       "    <tr>\n",
       "      <th>1</th>\n",
       "      <td>LIDC-IDRI-0002</td>\n",
       "      <td>12</td>\n",
       "      <td>1</td>\n",
       "      <td>11</td>\n",
       "      <td>NaN</td>\n",
       "      <td>*total number of lesions that received either ...</td>\n",
       "    </tr>\n",
       "    <tr>\n",
       "      <th>2</th>\n",
       "      <td>LIDC-IDRI-0003</td>\n",
       "      <td>4</td>\n",
       "      <td>4</td>\n",
       "      <td>0</td>\n",
       "      <td>NaN</td>\n",
       "      <td>**total number of lesions that received a \"nod...</td>\n",
       "    </tr>\n",
       "    <tr>\n",
       "      <th>3</th>\n",
       "      <td>LIDC-IDRI-0004</td>\n",
       "      <td>4</td>\n",
       "      <td>1</td>\n",
       "      <td>3</td>\n",
       "      <td>NaN</td>\n",
       "      <td>***total number of lesions that received a \"no...</td>\n",
       "    </tr>\n",
       "    <tr>\n",
       "      <th>4</th>\n",
       "      <td>LIDC-IDRI-0005</td>\n",
       "      <td>9</td>\n",
       "      <td>3</td>\n",
       "      <td>6</td>\n",
       "      <td>NaN</td>\n",
       "      <td>NaN</td>\n",
       "    </tr>\n",
       "  </tbody>\n",
       "</table>\n",
       "</div>"
      ],
      "text/plain": [
       "   TCIA Patent ID  Total Number of Nodules*   Number of Nodules >=3mm**  \\\n",
       "0  LIDC-IDRI-0001                          4                          1   \n",
       "1  LIDC-IDRI-0002                         12                          1   \n",
       "2  LIDC-IDRI-0003                          4                          4   \n",
       "3  LIDC-IDRI-0004                          4                          1   \n",
       "4  LIDC-IDRI-0005                          9                          3   \n",
       "\n",
       "   Number of Nodules <3mm***  Unnamed: 4  \\\n",
       "0                          3         NaN   \n",
       "1                         11         NaN   \n",
       "2                          0         NaN   \n",
       "3                          3         NaN   \n",
       "4                          6         NaN   \n",
       "\n",
       "                                          Unnamed: 5  \n",
       "0                                                NaN  \n",
       "1  *total number of lesions that received either ...  \n",
       "2  **total number of lesions that received a \"nod...  \n",
       "3  ***total number of lesions that received a \"no...  \n",
       "4                                                NaN  "
      ]
     },
     "execution_count": 3,
     "metadata": {},
     "output_type": "execute_result"
    }
   ],
   "source": [
    "nodule_counts_df = pd.read_excel('lidc-idri-nodule-counts-6-23-2015.xlsx')\n",
    "nodule_counts_df.head()"
   ]
  },
  {
   "cell_type": "markdown",
   "metadata": {},
   "source": [
    "> We chose not to use the Excel file containing nodule counts because it lacks the important information necessary for our analysis. Specifically, the file does not provide essential details about the characteristics or context of the nodules, which are necessary for accurately assessing their implications for lung cancer diagnosis and treatment."
   ]
  },
  {
   "cell_type": "code",
   "execution_count": 4,
   "metadata": {},
   "outputs": [
    {
     "data": {
      "text/html": [
       "<div>\n",
       "<style scoped>\n",
       "    .dataframe tbody tr th:only-of-type {\n",
       "        vertical-align: middle;\n",
       "    }\n",
       "\n",
       "    .dataframe tbody tr th {\n",
       "        vertical-align: top;\n",
       "    }\n",
       "\n",
       "    .dataframe thead th {\n",
       "        text-align: right;\n",
       "    }\n",
       "</style>\n",
       "<table border=\"1\" class=\"dataframe\">\n",
       "  <thead>\n",
       "    <tr style=\"text-align: right;\">\n",
       "      <th></th>\n",
       "      <th>TCIA Patient ID</th>\n",
       "      <th>Diagnosis at the Patient Level\\n0=Unknown\\n1=benign or non-malignant disease\\n2= malignant, primary lung cancer\\n3 = malignant metastatic\\n</th>\n",
       "      <th>Diagnosis Method\\n0 = unknown\\n1 = review of radiological images to show 2 years of stable nodule\\n2 = biopsy\\n3 = surgical resection\\n4 = progression or response</th>\n",
       "      <th>Primary tumor site for metastatic disease</th>\n",
       "      <th>Nodule 1\\nDiagnosis at the Nodule Level \\n0=Unknown\\n1=benign or non-malignant disease\\n2= malignant, primary lung cancer\\n3 = malignant metastatic)\\n</th>\n",
       "      <th>Nodule 1\\nDiagnosis Method at the Nodule Level\\n0 = unknown\\n1 = review of radiological images to show 2 years of stable nodule\\n2 = biopsy\\n3 = surgical resection\\n4 = progression or response\\n</th>\n",
       "      <th>Nodule 2\\nDiagnosis at the Nodule Level \\n0=Unknown\\n1=benign or non-malignant disease\\n2= malignant, primary lung cancer\\n3 = malignant metastatic)\\n</th>\n",
       "      <th>Nodule 2\\nDiagnosis Method at the Nodule Level\\n0 = unknown\\n1 = review of radiological images to show 2 years of stable nodule\\n2 = biopsy\\n3 = surgical resection\\n4 = progression or response\\n</th>\n",
       "      <th>Nodule 3\\nDiagnosis at the Nodule Level \\n0=Unknown\\n1=benign or non-malignant disease\\n2= malignant, primary lung cancer\\n3 = malignant metastatic)\\n</th>\n",
       "      <th>Nodule 3\\nDiagnosis Method at the Nodule Level\\n0 = unknown\\n1 = review of radiological images to show 2 years of stable nodule\\n2 = biopsy\\n3 = surgical resection\\n4 = progression or response\\n</th>\n",
       "      <th>Nodule 4\\nDiagnosis at the Nodule Level \\n0=Unknown\\n1=benign or non-malignant disease\\n2= malignant, primary lung cancer\\n3 = malignant metastatic)\\n</th>\n",
       "      <th>Nodule 4\\nDiagnosis Method at the Nodule Level\\n0 = unknown\\n1 = review of radiological images to show 2 years of stable nodule\\n2 = biopsy\\n3 = surgical resection\\n4 = progression or response\\n</th>\n",
       "      <th>Nodule 5\\nDiagnosis at the Nodule Level \\n0=Unknown\\n1=benign or non-malignant disease\\n2= malignant, primary lung cancer\\n3 = malignant metastatic)\\n</th>\n",
       "      <th>Nodule 5\\nDiagnosis Method at the Nodule Level\\n0 = unknown\\n1 = review of radiological images to show 2 years of stable nodule\\n2 = biopsy\\n3 = surgical resection\\n4 = progression or response\\n</th>\n",
       "    </tr>\n",
       "  </thead>\n",
       "  <tbody>\n",
       "    <tr>\n",
       "      <th>0</th>\n",
       "      <td>LIDC-IDRI-0068</td>\n",
       "      <td>3</td>\n",
       "      <td>4</td>\n",
       "      <td>Head &amp; Neck Cancer</td>\n",
       "      <td>3.0</td>\n",
       "      <td>4.0</td>\n",
       "      <td>NaN</td>\n",
       "      <td>NaN</td>\n",
       "      <td>NaN</td>\n",
       "      <td>NaN</td>\n",
       "      <td>NaN</td>\n",
       "      <td>NaN</td>\n",
       "      <td>NaN</td>\n",
       "      <td>NaN</td>\n",
       "    </tr>\n",
       "    <tr>\n",
       "      <th>1</th>\n",
       "      <td>LIDC-IDRI-0071</td>\n",
       "      <td>3</td>\n",
       "      <td>1</td>\n",
       "      <td>Head &amp; Neck</td>\n",
       "      <td>1.0</td>\n",
       "      <td>1.0</td>\n",
       "      <td>NaN</td>\n",
       "      <td>NaN</td>\n",
       "      <td>NaN</td>\n",
       "      <td>NaN</td>\n",
       "      <td>NaN</td>\n",
       "      <td>NaN</td>\n",
       "      <td>NaN</td>\n",
       "      <td>NaN</td>\n",
       "    </tr>\n",
       "    <tr>\n",
       "      <th>2</th>\n",
       "      <td>LIDC-IDRI-0072</td>\n",
       "      <td>2</td>\n",
       "      <td>4</td>\n",
       "      <td>Lung Cancer</td>\n",
       "      <td>1.0</td>\n",
       "      <td>4.0</td>\n",
       "      <td>NaN</td>\n",
       "      <td>NaN</td>\n",
       "      <td>NaN</td>\n",
       "      <td>NaN</td>\n",
       "      <td>NaN</td>\n",
       "      <td>NaN</td>\n",
       "      <td>NaN</td>\n",
       "      <td>NaN</td>\n",
       "    </tr>\n",
       "    <tr>\n",
       "      <th>3</th>\n",
       "      <td>LIDC-IDRI-0088</td>\n",
       "      <td>3</td>\n",
       "      <td>0</td>\n",
       "      <td>Uterine Cancer</td>\n",
       "      <td>0.0</td>\n",
       "      <td>0.0</td>\n",
       "      <td>NaN</td>\n",
       "      <td>NaN</td>\n",
       "      <td>NaN</td>\n",
       "      <td>NaN</td>\n",
       "      <td>NaN</td>\n",
       "      <td>NaN</td>\n",
       "      <td>NaN</td>\n",
       "      <td>NaN</td>\n",
       "    </tr>\n",
       "    <tr>\n",
       "      <th>4</th>\n",
       "      <td>LIDC-IDRI-0090</td>\n",
       "      <td>2</td>\n",
       "      <td>3</td>\n",
       "      <td>NSCLC</td>\n",
       "      <td>2.0</td>\n",
       "      <td>3.0</td>\n",
       "      <td>NaN</td>\n",
       "      <td>NaN</td>\n",
       "      <td>NaN</td>\n",
       "      <td>NaN</td>\n",
       "      <td>NaN</td>\n",
       "      <td>NaN</td>\n",
       "      <td>NaN</td>\n",
       "      <td>NaN</td>\n",
       "    </tr>\n",
       "  </tbody>\n",
       "</table>\n",
       "</div>"
      ],
      "text/plain": [
       "  TCIA Patient ID  \\\n",
       "0  LIDC-IDRI-0068   \n",
       "1  LIDC-IDRI-0071   \n",
       "2  LIDC-IDRI-0072   \n",
       "3  LIDC-IDRI-0088   \n",
       "4  LIDC-IDRI-0090   \n",
       "\n",
       "   Diagnosis at the Patient Level\\n0=Unknown\\n1=benign or non-malignant disease\\n2= malignant, primary lung cancer\\n3 = malignant metastatic\\n  \\\n",
       "0                                                  3                                                                                             \n",
       "1                                                  3                                                                                             \n",
       "2                                                  2                                                                                             \n",
       "3                                                  3                                                                                             \n",
       "4                                                  2                                                                                             \n",
       "\n",
       "   Diagnosis Method\\n0 = unknown\\n1 = review of radiological images to show 2 years of stable nodule\\n2 = biopsy\\n3 = surgical resection\\n4 = progression or response  \\\n",
       "0                                                  4                                                                                                                    \n",
       "1                                                  1                                                                                                                    \n",
       "2                                                  4                                                                                                                    \n",
       "3                                                  0                                                                                                                    \n",
       "4                                                  3                                                                                                                    \n",
       "\n",
       "  Primary tumor site for metastatic disease  \\\n",
       "0                        Head & Neck Cancer   \n",
       "1                              Head & Neck    \n",
       "2                               Lung Cancer   \n",
       "3                            Uterine Cancer   \n",
       "4                                     NSCLC   \n",
       "\n",
       "   Nodule 1\\nDiagnosis at the Nodule Level \\n0=Unknown\\n1=benign or non-malignant disease\\n2= malignant, primary lung cancer\\n3 = malignant metastatic)\\n  \\\n",
       "0                                                3.0                                                                                                        \n",
       "1                                                1.0                                                                                                        \n",
       "2                                                1.0                                                                                                        \n",
       "3                                                0.0                                                                                                        \n",
       "4                                                2.0                                                                                                        \n",
       "\n",
       "   Nodule 1\\nDiagnosis Method at the Nodule Level\\n0 = unknown\\n1 = review of radiological images to show 2 years of stable nodule\\n2 = biopsy\\n3 = surgical resection\\n4 = progression or response\\n  \\\n",
       "0                                                4.0                                                                                                                                                    \n",
       "1                                                1.0                                                                                                                                                    \n",
       "2                                                4.0                                                                                                                                                    \n",
       "3                                                0.0                                                                                                                                                    \n",
       "4                                                3.0                                                                                                                                                    \n",
       "\n",
       "   Nodule 2\\nDiagnosis at the Nodule Level \\n0=Unknown\\n1=benign or non-malignant disease\\n2= malignant, primary lung cancer\\n3 = malignant metastatic)\\n  \\\n",
       "0                                                NaN                                                                                                        \n",
       "1                                                NaN                                                                                                        \n",
       "2                                                NaN                                                                                                        \n",
       "3                                                NaN                                                                                                        \n",
       "4                                                NaN                                                                                                        \n",
       "\n",
       "   Nodule 2\\nDiagnosis Method at the Nodule Level\\n0 = unknown\\n1 = review of radiological images to show 2 years of stable nodule\\n2 = biopsy\\n3 = surgical resection\\n4 = progression or response\\n  \\\n",
       "0                                                NaN                                                                                                                                                    \n",
       "1                                                NaN                                                                                                                                                    \n",
       "2                                                NaN                                                                                                                                                    \n",
       "3                                                NaN                                                                                                                                                    \n",
       "4                                                NaN                                                                                                                                                    \n",
       "\n",
       "  Nodule 3\\nDiagnosis at the Nodule Level \\n0=Unknown\\n1=benign or non-malignant disease\\n2= malignant, primary lung cancer\\n3 = malignant metastatic)\\n  \\\n",
       "0                                                NaN                                                                                                       \n",
       "1                                                NaN                                                                                                       \n",
       "2                                                NaN                                                                                                       \n",
       "3                                                NaN                                                                                                       \n",
       "4                                                NaN                                                                                                       \n",
       "\n",
       "  Nodule 3\\nDiagnosis Method at the Nodule Level\\n0 = unknown\\n1 = review of radiological images to show 2 years of stable nodule\\n2 = biopsy\\n3 = surgical resection\\n4 = progression or response\\n  \\\n",
       "0                                                NaN                                                                                                                                                   \n",
       "1                                                NaN                                                                                                                                                   \n",
       "2                                                NaN                                                                                                                                                   \n",
       "3                                                NaN                                                                                                                                                   \n",
       "4                                                NaN                                                                                                                                                   \n",
       "\n",
       "   Nodule 4\\nDiagnosis at the Nodule Level \\n0=Unknown\\n1=benign or non-malignant disease\\n2= malignant, primary lung cancer\\n3 = malignant metastatic)\\n  \\\n",
       "0                                                NaN                                                                                                        \n",
       "1                                                NaN                                                                                                        \n",
       "2                                                NaN                                                                                                        \n",
       "3                                                NaN                                                                                                        \n",
       "4                                                NaN                                                                                                        \n",
       "\n",
       "   Nodule 4\\nDiagnosis Method at the Nodule Level\\n0 = unknown\\n1 = review of radiological images to show 2 years of stable nodule\\n2 = biopsy\\n3 = surgical resection\\n4 = progression or response\\n  \\\n",
       "0                                                NaN                                                                                                                                                    \n",
       "1                                                NaN                                                                                                                                                    \n",
       "2                                                NaN                                                                                                                                                    \n",
       "3                                                NaN                                                                                                                                                    \n",
       "4                                                NaN                                                                                                                                                    \n",
       "\n",
       "   Nodule 5\\nDiagnosis at the Nodule Level \\n0=Unknown\\n1=benign or non-malignant disease\\n2= malignant, primary lung cancer\\n3 = malignant metastatic)\\n  \\\n",
       "0                                                NaN                                                                                                        \n",
       "1                                                NaN                                                                                                        \n",
       "2                                                NaN                                                                                                        \n",
       "3                                                NaN                                                                                                        \n",
       "4                                                NaN                                                                                                        \n",
       "\n",
       "   Nodule 5\\nDiagnosis Method at the Nodule Level\\n0 = unknown\\n1 = review of radiological images to show 2 years of stable nodule\\n2 = biopsy\\n3 = surgical resection\\n4 = progression or response\\n  \n",
       "0                                                NaN                                                                                                                                                   \n",
       "1                                                NaN                                                                                                                                                   \n",
       "2                                                NaN                                                                                                                                                   \n",
       "3                                                NaN                                                                                                                                                   \n",
       "4                                                NaN                                                                                                                                                   "
      ]
     },
     "execution_count": 4,
     "metadata": {},
     "output_type": "execute_result"
    }
   ],
   "source": [
    "pacient_data_df = pd.read_excel('tcia-diagnosis-data-2012-04-20.xls')\n",
    "pacient_data_df.head()"
   ]
  },
  {
   "cell_type": "code",
   "execution_count": 5,
   "metadata": {},
   "outputs": [
    {
     "name": "stdout",
     "output_type": "stream",
     "text": [
      "(157, 14)\n"
     ]
    }
   ],
   "source": [
    "print(pacient_data_df.shape)"
   ]
  },
  {
   "cell_type": "markdown",
   "metadata": {},
   "source": [
    "> We decided not to use the Excel file containing patient data from previous scans and cancers due to its limited scope, as it only includes information for about 10% of the patients studied. "
   ]
  },
  {
   "cell_type": "markdown",
   "metadata": {},
   "source": [
    "---\n"
   ]
  },
  {
   "cell_type": "markdown",
   "metadata": {},
   "source": [
    "## Importing and Handling Annotations"
   ]
  },
  {
   "cell_type": "markdown",
   "metadata": {},
   "source": [
    "> Although extracting features from CT Scans using Radiomics and Neural Networks provides information that is not yet seen by humans at first sight, most of the researchers don't believe these methods will replace the radiologists' role. Instead, using expert-reviwed data enhances the reliability of the features obtained, leading to better clinical outcomes **[3]**. Having this into account, it is still relevant to use the annotations features.\n"
   ]
  },
  {
   "cell_type": "markdown",
   "metadata": {},
   "source": [
    "> As was done in **[4]**, the nodule annotations were used to obtain a consensus, where each feature is the average of the level assigned by each radiologist, rounded to the nearest integer. \n"
   ]
  },
  {
   "cell_type": "markdown",
   "metadata": {},
   "source": [
    "> The code used to obtain this dataset is written and explained  in **'process_anns.ipynb'**."
   ]
  },
  {
   "cell_type": "markdown",
   "metadata": {},
   "source": [
    "> To see the process done to obtain this dataframe, please see document **\"process_anns.ipynb\"**"
   ]
  },
  {
   "cell_type": "code",
   "execution_count": 6,
   "metadata": {},
   "outputs": [
    {
     "data": {
      "text/html": [
       "<div>\n",
       "<style scoped>\n",
       "    .dataframe tbody tr th:only-of-type {\n",
       "        vertical-align: middle;\n",
       "    }\n",
       "\n",
       "    .dataframe tbody tr th {\n",
       "        vertical-align: top;\n",
       "    }\n",
       "\n",
       "    .dataframe thead th {\n",
       "        text-align: right;\n",
       "    }\n",
       "</style>\n",
       "<table border=\"1\" class=\"dataframe\">\n",
       "  <thead>\n",
       "    <tr style=\"text-align: right;\">\n",
       "      <th></th>\n",
       "      <th>ID</th>\n",
       "      <th>Scan_ID</th>\n",
       "      <th>Patient_ID</th>\n",
       "      <th>Texture</th>\n",
       "      <th>Spiculation</th>\n",
       "      <th>Lobulation</th>\n",
       "      <th>Margin</th>\n",
       "      <th>Sphericity</th>\n",
       "      <th>Calcification</th>\n",
       "      <th>Internal Structure</th>\n",
       "      <th>Subtlety</th>\n",
       "      <th>Malignancy</th>\n",
       "    </tr>\n",
       "  </thead>\n",
       "  <tbody>\n",
       "    <tr>\n",
       "      <th>0</th>\n",
       "      <td>2</td>\n",
       "      <td>1</td>\n",
       "      <td>LIDC-IDRI-0078</td>\n",
       "      <td>5</td>\n",
       "      <td>2</td>\n",
       "      <td>2</td>\n",
       "      <td>3</td>\n",
       "      <td>4</td>\n",
       "      <td>6</td>\n",
       "      <td>1</td>\n",
       "      <td>4</td>\n",
       "      <td>4</td>\n",
       "    </tr>\n",
       "    <tr>\n",
       "      <th>1</th>\n",
       "      <td>1</td>\n",
       "      <td>1</td>\n",
       "      <td>LIDC-IDRI-0078</td>\n",
       "      <td>4</td>\n",
       "      <td>2</td>\n",
       "      <td>3</td>\n",
       "      <td>3</td>\n",
       "      <td>4</td>\n",
       "      <td>6</td>\n",
       "      <td>1</td>\n",
       "      <td>5</td>\n",
       "      <td>4</td>\n",
       "    </tr>\n",
       "    <tr>\n",
       "      <th>2</th>\n",
       "      <td>8</td>\n",
       "      <td>1</td>\n",
       "      <td>LIDC-IDRI-0078</td>\n",
       "      <td>5</td>\n",
       "      <td>1</td>\n",
       "      <td>1</td>\n",
       "      <td>5</td>\n",
       "      <td>5</td>\n",
       "      <td>5</td>\n",
       "      <td>1</td>\n",
       "      <td>4</td>\n",
       "      <td>1</td>\n",
       "    </tr>\n",
       "    <tr>\n",
       "      <th>3</th>\n",
       "      <td>3</td>\n",
       "      <td>1</td>\n",
       "      <td>LIDC-IDRI-0078</td>\n",
       "      <td>5</td>\n",
       "      <td>3</td>\n",
       "      <td>3</td>\n",
       "      <td>3</td>\n",
       "      <td>4</td>\n",
       "      <td>5</td>\n",
       "      <td>1</td>\n",
       "      <td>5</td>\n",
       "      <td>4</td>\n",
       "    </tr>\n",
       "    <tr>\n",
       "      <th>4</th>\n",
       "      <td>16</td>\n",
       "      <td>2</td>\n",
       "      <td>LIDC-IDRI-0069</td>\n",
       "      <td>5</td>\n",
       "      <td>4</td>\n",
       "      <td>4</td>\n",
       "      <td>4</td>\n",
       "      <td>4</td>\n",
       "      <td>6</td>\n",
       "      <td>1</td>\n",
       "      <td>2</td>\n",
       "      <td>3</td>\n",
       "    </tr>\n",
       "    <tr>\n",
       "      <th>...</th>\n",
       "      <td>...</td>\n",
       "      <td>...</td>\n",
       "      <td>...</td>\n",
       "      <td>...</td>\n",
       "      <td>...</td>\n",
       "      <td>...</td>\n",
       "      <td>...</td>\n",
       "      <td>...</td>\n",
       "      <td>...</td>\n",
       "      <td>...</td>\n",
       "      <td>...</td>\n",
       "      <td>...</td>\n",
       "    </tr>\n",
       "    <tr>\n",
       "      <th>2656</th>\n",
       "      <td>6850</td>\n",
       "      <td>1016</td>\n",
       "      <td>LIDC-IDRI-0639</td>\n",
       "      <td>3</td>\n",
       "      <td>3</td>\n",
       "      <td>2</td>\n",
       "      <td>2</td>\n",
       "      <td>4</td>\n",
       "      <td>6</td>\n",
       "      <td>1</td>\n",
       "      <td>4</td>\n",
       "      <td>4</td>\n",
       "    </tr>\n",
       "    <tr>\n",
       "      <th>2657</th>\n",
       "      <td>6851</td>\n",
       "      <td>1016</td>\n",
       "      <td>LIDC-IDRI-0639</td>\n",
       "      <td>1</td>\n",
       "      <td>2</td>\n",
       "      <td>1</td>\n",
       "      <td>2</td>\n",
       "      <td>4</td>\n",
       "      <td>6</td>\n",
       "      <td>1</td>\n",
       "      <td>2</td>\n",
       "      <td>4</td>\n",
       "    </tr>\n",
       "    <tr>\n",
       "      <th>2658</th>\n",
       "      <td>6856</td>\n",
       "      <td>1017</td>\n",
       "      <td>LIDC-IDRI-0638</td>\n",
       "      <td>5</td>\n",
       "      <td>1</td>\n",
       "      <td>2</td>\n",
       "      <td>4</td>\n",
       "      <td>4</td>\n",
       "      <td>6</td>\n",
       "      <td>1</td>\n",
       "      <td>3</td>\n",
       "      <td>4</td>\n",
       "    </tr>\n",
       "    <tr>\n",
       "      <th>2659</th>\n",
       "      <td>6855</td>\n",
       "      <td>1017</td>\n",
       "      <td>LIDC-IDRI-0638</td>\n",
       "      <td>5</td>\n",
       "      <td>1</td>\n",
       "      <td>1</td>\n",
       "      <td>5</td>\n",
       "      <td>4</td>\n",
       "      <td>6</td>\n",
       "      <td>1</td>\n",
       "      <td>5</td>\n",
       "      <td>2</td>\n",
       "    </tr>\n",
       "    <tr>\n",
       "      <th>2660</th>\n",
       "      <td>6858</td>\n",
       "      <td>1018</td>\n",
       "      <td>LIDC-IDRI-0127</td>\n",
       "      <td>5</td>\n",
       "      <td>3</td>\n",
       "      <td>3</td>\n",
       "      <td>5</td>\n",
       "      <td>5</td>\n",
       "      <td>4</td>\n",
       "      <td>1</td>\n",
       "      <td>5</td>\n",
       "      <td>2</td>\n",
       "    </tr>\n",
       "  </tbody>\n",
       "</table>\n",
       "<p>2661 rows × 12 columns</p>\n",
       "</div>"
      ],
      "text/plain": [
       "        ID  Scan_ID      Patient_ID  Texture  Spiculation  Lobulation  Margin  \\\n",
       "0        2        1  LIDC-IDRI-0078        5            2           2       3   \n",
       "1        1        1  LIDC-IDRI-0078        4            2           3       3   \n",
       "2        8        1  LIDC-IDRI-0078        5            1           1       5   \n",
       "3        3        1  LIDC-IDRI-0078        5            3           3       3   \n",
       "4       16        2  LIDC-IDRI-0069        5            4           4       4   \n",
       "...    ...      ...             ...      ...          ...         ...     ...   \n",
       "2656  6850     1016  LIDC-IDRI-0639        3            3           2       2   \n",
       "2657  6851     1016  LIDC-IDRI-0639        1            2           1       2   \n",
       "2658  6856     1017  LIDC-IDRI-0638        5            1           2       4   \n",
       "2659  6855     1017  LIDC-IDRI-0638        5            1           1       5   \n",
       "2660  6858     1018  LIDC-IDRI-0127        5            3           3       5   \n",
       "\n",
       "      Sphericity  Calcification  Internal Structure  Subtlety  Malignancy  \n",
       "0              4              6                   1         4           4  \n",
       "1              4              6                   1         5           4  \n",
       "2              5              5                   1         4           1  \n",
       "3              4              5                   1         5           4  \n",
       "4              4              6                   1         2           3  \n",
       "...          ...            ...                 ...       ...         ...  \n",
       "2656           4              6                   1         4           4  \n",
       "2657           4              6                   1         2           4  \n",
       "2658           4              6                   1         3           4  \n",
       "2659           4              6                   1         5           2  \n",
       "2660           5              4                   1         5           2  \n",
       "\n",
       "[2661 rows x 12 columns]"
      ]
     },
     "execution_count": 6,
     "metadata": {},
     "output_type": "execute_result"
    }
   ],
   "source": [
    "df_annotations = pd.read_csv('annotations_ds.csv', index_col=0)\n",
    "df_annotations "
   ]
  },
  {
   "cell_type": "markdown",
   "metadata": {},
   "source": [
    "---"
   ]
  },
  {
   "cell_type": "markdown",
   "metadata": {},
   "source": [
    "\n",
    "###  Analysing Class Distribution from Data Extracted from Annotations"
   ]
  },
  {
   "cell_type": "code",
   "execution_count": 7,
   "metadata": {},
   "outputs": [
    {
     "data": {
      "text/plain": [
       "array([<Axes: ylabel='Frequency'>, <Axes: ylabel='Frequency'>,\n",
       "       <Axes: ylabel='Frequency'>, <Axes: ylabel='Frequency'>,\n",
       "       <Axes: ylabel='Frequency'>, <Axes: ylabel='Frequency'>,\n",
       "       <Axes: ylabel='Frequency'>, <Axes: ylabel='Frequency'>,\n",
       "       <Axes: ylabel='Frequency'>], dtype=object)"
      ]
     },
     "execution_count": 7,
     "metadata": {},
     "output_type": "execute_result"
    },
    {
     "data": {
      "image/png": "[encoded data removed]",
      "text/plain": [
       "<Figure size 1000x2000 with 9 Axes>"
      ]
     },
     "metadata": {},
     "output_type": "display_data"
    }
   ],
   "source": [
    "df_annotations.drop([\"ID\", \"Scan_ID\", \"Patient_ID\"], axis=1).plot(kind=\"hist\", subplots=True, figsize=(10, 20))"
   ]
  },
  {
   "cell_type": "code",
   "execution_count": 8,
   "metadata": {},
   "outputs": [
    {
     "data": {
      "image/png": "[encoded data removed]",
      "text/plain": [
       "<Figure size 640x480 with 1 Axes>"
      ]
     },
     "metadata": {},
     "output_type": "display_data"
    }
   ],
   "source": [
    "unique_labels, counts = np.unique(df_annotations[\"Malignancy\"], return_counts=True)\n",
    "plt.bar(unique_labels, counts, color='pink')\n",
    "plt.xlabel(\"Malignancy\")\n",
    "plt.ylabel(\"Number of samples\")\n",
    "plt.title(\"Class distribution in dataset\")\n",
    "plt.show()"
   ]
  },
  {
   "cell_type": "code",
   "execution_count": 9,
   "metadata": {},
   "outputs": [
    {
     "data": {
      "image/png": "[encoded data removed]",
      "text/plain": [
       "<Figure size 640x480 with 1 Axes>"
      ]
     },
     "metadata": {},
     "output_type": "display_data"
    }
   ],
   "source": [
    "df_annotations[\"class\"] = df_annotations[\"Malignancy\"].apply(get_malignancy_class)\n",
    "\n",
    "unique_labels, counts = np.unique(df_annotations[\"class\"], return_counts=True)\n",
    "plt.bar(unique_labels, counts, color='pink')\n",
    "plt.xlabel(\"Malignancy\")\n",
    "plt.ylabel(\"Number of samples\")\n",
    "plt.title(\"Class distribution in dataset\")\n",
    "plt.show()"
   ]
  },
  {
   "cell_type": "code",
   "execution_count": 10,
   "metadata": {},
   "outputs": [
    {
     "data": {
      "text/plain": [
       "<Axes: >"
      ]
     },
     "execution_count": 10,
     "metadata": {},
     "output_type": "execute_result"
    },
    {
     "data": {
      "image/png": "[encoded data removed]",
      "text/plain": [
       "<Figure size 1100x900 with 2 Axes>"
      ]
     },
     "metadata": {},
     "output_type": "display_data"
    }
   ],
   "source": [
    "# Compute the correlation matrix\n",
    "corr = df_annotations.drop([\"ID\", \"Scan_ID\", \"Patient_ID\"], axis=1).corr()\n",
    "\n",
    "# Generate a mask for the upper triangle\n",
    "mask = np.triu(np.ones_like(corr, dtype=bool))\n",
    "\n",
    "# Set up the matplotlib figure\n",
    "f, ax = plt.subplots(figsize=(11, 9))\n",
    "\n",
    "# Generate a custom diverging colormap\n",
    "cmap = sns.diverging_palette(230, 20, as_cmap=True)\n",
    "\n",
    "# Draw the heatmap with the mask and correct aspect ratio\n",
    "sns.heatmap(corr, mask=mask, cmap=cmap, vmax=.3, center=0,\n",
    "            square=True, linewidths=.5, cbar_kws={\"shrink\": .5})"
   ]
  },
  {
   "cell_type": "markdown",
   "metadata": {},
   "source": [
    "---"
   ]
  },
  {
   "cell_type": "markdown",
   "metadata": {},
   "source": [
    "# DANI stuff"
   ]
  },
  {
   "cell_type": "code",
   "execution_count": 11,
   "metadata": {},
   "outputs": [],
   "source": [
    "path_to_annotations = 'LIDC-XML-only'"
   ]
  },
  {
   "cell_type": "code",
   "execution_count": 12,
   "metadata": {},
   "outputs": [
    {
     "ename": "FileNotFoundError",
     "evalue": "[Errno 2] No such file or directory: 'C:/Users/Daniela/pylidc.conf'",
     "output_type": "error",
     "traceback": [
      "\u001b[0;31m---------------------------------------------------------------------------\u001b[0m",
      "\u001b[0;31mFileNotFoundError\u001b[0m                         Traceback (most recent call last)",
      "Cell \u001b[0;32mIn[12], line 2\u001b[0m\n\u001b[1;32m      1\u001b[0m path \u001b[38;5;241m=\u001b[39m \u001b[38;5;124m'\u001b[39m\u001b[38;5;124mC:/Users/Daniela/Desktop/Fac/3ºano/Lab_IACD/Project1/manifest-1727162347556/LIDC-IDRI\u001b[39m\u001b[38;5;124m'\u001b[39m\n\u001b[0;32m----> 2\u001b[0m f \u001b[38;5;241m=\u001b[39m \u001b[38;5;28mopen\u001b[39m(\u001b[38;5;124m'\u001b[39m\u001b[38;5;124mC:/Users/Daniela/pylidc.conf\u001b[39m\u001b[38;5;124m'\u001b[39m, \u001b[38;5;124m'\u001b[39m\u001b[38;5;124mw\u001b[39m\u001b[38;5;124m'\u001b[39m)\n\u001b[1;32m      3\u001b[0m f\u001b[38;5;241m.\u001b[39mwrite(\u001b[38;5;124mf\u001b[39m\u001b[38;5;124m'\u001b[39m\u001b[38;5;124m[dicom]\u001b[39m\u001b[38;5;130;01m\\n\u001b[39;00m\u001b[38;5;124mpath = \u001b[39m\u001b[38;5;132;01m{\u001b[39;00mpath\u001b[38;5;132;01m}\u001b[39;00m\u001b[38;5;130;01m\\n\u001b[39;00m\u001b[38;5;130;01m\\n\u001b[39;00m\u001b[38;5;124m'\u001b[39m)\n\u001b[1;32m      4\u001b[0m f\u001b[38;5;241m.\u001b[39mclose()\n",
      "File \u001b[0;32m~/anaconda3/lib/python3.11/site-packages/IPython/core/interactiveshell.py:284\u001b[0m, in \u001b[0;36m_modified_open\u001b[0;34m(file, *args, **kwargs)\u001b[0m\n\u001b[1;32m    277\u001b[0m \u001b[38;5;28;01mif\u001b[39;00m file \u001b[38;5;129;01min\u001b[39;00m {\u001b[38;5;241m0\u001b[39m, \u001b[38;5;241m1\u001b[39m, \u001b[38;5;241m2\u001b[39m}:\n\u001b[1;32m    278\u001b[0m     \u001b[38;5;28;01mraise\u001b[39;00m \u001b[38;5;167;01mValueError\u001b[39;00m(\n\u001b[1;32m    279\u001b[0m         \u001b[38;5;124mf\u001b[39m\u001b[38;5;124m\"\u001b[39m\u001b[38;5;124mIPython won\u001b[39m\u001b[38;5;124m'\u001b[39m\u001b[38;5;124mt let you open fd=\u001b[39m\u001b[38;5;132;01m{\u001b[39;00mfile\u001b[38;5;132;01m}\u001b[39;00m\u001b[38;5;124m by default \u001b[39m\u001b[38;5;124m\"\u001b[39m\n\u001b[1;32m    280\u001b[0m         \u001b[38;5;124m\"\u001b[39m\u001b[38;5;124mas it is likely to crash IPython. If you know what you are doing, \u001b[39m\u001b[38;5;124m\"\u001b[39m\n\u001b[1;32m    281\u001b[0m         \u001b[38;5;124m\"\u001b[39m\u001b[38;5;124myou can use builtins\u001b[39m\u001b[38;5;124m'\u001b[39m\u001b[38;5;124m open.\u001b[39m\u001b[38;5;124m\"\u001b[39m\n\u001b[1;32m    282\u001b[0m     )\n\u001b[0;32m--> 284\u001b[0m \u001b[38;5;28;01mreturn\u001b[39;00m io_open(file, \u001b[38;5;241m*\u001b[39margs, \u001b[38;5;241m*\u001b[39m\u001b[38;5;241m*\u001b[39mkwargs)\n",
      "\u001b[0;31mFileNotFoundError\u001b[0m: [Errno 2] No such file or directory: 'C:/Users/Daniela/pylidc.conf'"
     ]
    }
   ],
   "source": [
    "path = 'C:/Users/Daniela/Desktop/Fac/3ºano/Lab_IACD/Project1/manifest-1727162347556/LIDC-IDRI'\n",
    "f = open('C:/Users/Daniela/pylidc.conf', 'w')\n",
    "f.write(f'[dicom]\\npath = {path}\\n\\n')\n",
    "f.close()"
   ]
  },
  {
   "cell_type": "code",
   "execution_count": 6,
   "metadata": {},
   "outputs": [],
   "source": [
    "pid = 'LIDC-IDRI-0001'\n",
    "scan = pl.query(pl.Scan).filter(pl.Scan.patient_id == pid).first()"
   ]
  },
  {
   "cell_type": "code",
   "execution_count": null,
   "metadata": {},
   "outputs": [],
   "source": [
    "vol = scan.to_volume()\n",
    "print(vol.shape) # (dim, dim, depth)\n",
    "\n",
    "plt.figure(figsize=(5, 5))\n",
    "plt.imshow(vol[:,:,0])\n",
    "plt.show() # show the first-level slice"
   ]
  },
  {
   "cell_type": "code",
   "execution_count": null,
   "metadata": {},
   "outputs": [],
   "source": [
    "#extract information from an XML file\n",
    "def parse_xml(file):\n",
    "    tree = ET.parse(file)\n",
    "    root = tree.getroot()\n",
    "\n",
    "    data = []\n",
    "    for nodule in root"
   ]
  },
  {
   "cell_type": "markdown",
   "metadata": {},
   "source": [
    "---"
   ]
  },
  {
   "cell_type": "markdown",
   "metadata": {},
   "source": [
    "## Feature Extraction from CT Scans"
   ]
  },
  {
   "cell_type": "markdown",
   "metadata": {},
   "source": [
    "These features describe various properties of the image, such as texture, shape, inetnsity, and spatial relationships, which may not be visible to the naked eye"
   ]
  },
  {
   "cell_type": "markdown",
   "metadata": {},
   "source": [
    "### 1. Radiomics"
   ]
  },
  {
   "cell_type": "markdown",
   "metadata": {},
   "source": [
    "> To see the process done to obtain the extracted features through *pyradiomics*, please see document **\"process_radiomics.ipynb\"**"
   ]
  },
  {
   "cell_type": "code",
   "execution_count": 13,
   "metadata": {},
   "outputs": [
    {
     "data": {
      "text/html": [
       "<div>\n",
       "<style scoped>\n",
       "    .dataframe tbody tr th:only-of-type {\n",
       "        vertical-align: middle;\n",
       "    }\n",
       "\n",
       "    .dataframe tbody tr th {\n",
       "        vertical-align: top;\n",
       "    }\n",
       "\n",
       "    .dataframe thead th {\n",
       "        text-align: right;\n",
       "    }\n",
       "</style>\n",
       "<table border=\"1\" class=\"dataframe\">\n",
       "  <thead>\n",
       "    <tr style=\"text-align: right;\">\n",
       "      <th></th>\n",
       "      <th>Unnamed: 0</th>\n",
       "      <th>original_shape_Elongation</th>\n",
       "      <th>original_shape_Flatness</th>\n",
       "      <th>original_shape_LeastAxisLength</th>\n",
       "      <th>original_shape_MajorAxisLength</th>\n",
       "      <th>original_shape_Maximum2DDiameterColumn</th>\n",
       "      <th>original_shape_Maximum2DDiameterRow</th>\n",
       "      <th>original_shape_Maximum2DDiameterSlice</th>\n",
       "      <th>original_shape_Maximum3DDiameter</th>\n",
       "      <th>original_shape_MeshVolume</th>\n",
       "      <th>...</th>\n",
       "      <th>original_glszm_ZoneEntropy</th>\n",
       "      <th>original_glszm_ZonePercentage</th>\n",
       "      <th>original_glszm_ZoneVariance</th>\n",
       "      <th>original_ngtdm_Busyness</th>\n",
       "      <th>original_ngtdm_Coarseness</th>\n",
       "      <th>original_ngtdm_Complexity</th>\n",
       "      <th>original_ngtdm_Contrast</th>\n",
       "      <th>original_ngtdm_Strength</th>\n",
       "      <th>Patient_ID</th>\n",
       "      <th>ID</th>\n",
       "    </tr>\n",
       "  </thead>\n",
       "  <tbody>\n",
       "    <tr>\n",
       "      <th>0</th>\n",
       "      <td>0</td>\n",
       "      <td>0.823485</td>\n",
       "      <td>0.422484</td>\n",
       "      <td>3.597711</td>\n",
       "      <td>8.515614</td>\n",
       "      <td>8.062258</td>\n",
       "      <td>9.848858</td>\n",
       "      <td>10.049876</td>\n",
       "      <td>10.246951</td>\n",
       "      <td>139.958333</td>\n",
       "      <td>...</td>\n",
       "      <td>1.000000e+00</td>\n",
       "      <td>0.013514</td>\n",
       "      <td>5329.0</td>\n",
       "      <td>0.181343</td>\n",
       "      <td>1.392715</td>\n",
       "      <td>0.009703</td>\n",
       "      <td>0.000078</td>\n",
       "      <td>1.165431</td>\n",
       "      <td>LIDC-IDRI-0848</td>\n",
       "      <td>5523</td>\n",
       "    </tr>\n",
       "    <tr>\n",
       "      <th>1</th>\n",
       "      <td>1</td>\n",
       "      <td>0.822030</td>\n",
       "      <td>0.332701</td>\n",
       "      <td>5.249749</td>\n",
       "      <td>15.779186</td>\n",
       "      <td>19.026298</td>\n",
       "      <td>18.248288</td>\n",
       "      <td>15.000000</td>\n",
       "      <td>19.052559</td>\n",
       "      <td>747.750000</td>\n",
       "      <td>...</td>\n",
       "      <td>-3.203427e-16</td>\n",
       "      <td>0.001312</td>\n",
       "      <td>0.0</td>\n",
       "      <td>0.000000</td>\n",
       "      <td>1000000.000000</td>\n",
       "      <td>0.000000</td>\n",
       "      <td>0.000000</td>\n",
       "      <td>0.000000</td>\n",
       "      <td>LIDC-IDRI-0159</td>\n",
       "      <td>1338</td>\n",
       "    </tr>\n",
       "    <tr>\n",
       "      <th>2</th>\n",
       "      <td>2</td>\n",
       "      <td>0.737988</td>\n",
       "      <td>0.325554</td>\n",
       "      <td>2.055999</td>\n",
       "      <td>6.315384</td>\n",
       "      <td>5.099020</td>\n",
       "      <td>7.071068</td>\n",
       "      <td>7.071068</td>\n",
       "      <td>7.141428</td>\n",
       "      <td>39.541667</td>\n",
       "      <td>...</td>\n",
       "      <td>-3.203427e-16</td>\n",
       "      <td>0.022222</td>\n",
       "      <td>0.0</td>\n",
       "      <td>0.000000</td>\n",
       "      <td>1000000.000000</td>\n",
       "      <td>0.000000</td>\n",
       "      <td>0.000000</td>\n",
       "      <td>0.000000</td>\n",
       "      <td>LIDC-IDRI-0159</td>\n",
       "      <td>1339</td>\n",
       "    </tr>\n",
       "    <tr>\n",
       "      <th>3</th>\n",
       "      <td>3</td>\n",
       "      <td>0.594263</td>\n",
       "      <td>0.285487</td>\n",
       "      <td>14.952101</td>\n",
       "      <td>52.373975</td>\n",
       "      <td>45.177428</td>\n",
       "      <td>48.836462</td>\n",
       "      <td>56.515485</td>\n",
       "      <td>63.419240</td>\n",
       "      <td>9251.583333</td>\n",
       "      <td>...</td>\n",
       "      <td>1.298795e+00</td>\n",
       "      <td>0.000861</td>\n",
       "      <td>9426162.0</td>\n",
       "      <td>2.276169</td>\n",
       "      <td>0.110029</td>\n",
       "      <td>0.001955</td>\n",
       "      <td>0.000002</td>\n",
       "      <td>0.101741</td>\n",
       "      <td>LIDC-IDRI-0829</td>\n",
       "      <td>5630</td>\n",
       "    </tr>\n",
       "    <tr>\n",
       "      <th>4</th>\n",
       "      <td>4</td>\n",
       "      <td>0.935982</td>\n",
       "      <td>0.601938</td>\n",
       "      <td>4.003552</td>\n",
       "      <td>6.651108</td>\n",
       "      <td>7.280110</td>\n",
       "      <td>8.062258</td>\n",
       "      <td>7.211103</td>\n",
       "      <td>8.124038</td>\n",
       "      <td>110.583333</td>\n",
       "      <td>...</td>\n",
       "      <td>-3.203427e-16</td>\n",
       "      <td>0.008547</td>\n",
       "      <td>0.0</td>\n",
       "      <td>0.000000</td>\n",
       "      <td>1000000.000000</td>\n",
       "      <td>0.000000</td>\n",
       "      <td>0.000000</td>\n",
       "      <td>0.000000</td>\n",
       "      <td>LIDC-IDRI-0830</td>\n",
       "      <td>5627</td>\n",
       "    </tr>\n",
       "    <tr>\n",
       "      <th>...</th>\n",
       "      <td>...</td>\n",
       "      <td>...</td>\n",
       "      <td>...</td>\n",
       "      <td>...</td>\n",
       "      <td>...</td>\n",
       "      <td>...</td>\n",
       "      <td>...</td>\n",
       "      <td>...</td>\n",
       "      <td>...</td>\n",
       "      <td>...</td>\n",
       "      <td>...</td>\n",
       "      <td>...</td>\n",
       "      <td>...</td>\n",
       "      <td>...</td>\n",
       "      <td>...</td>\n",
       "      <td>...</td>\n",
       "      <td>...</td>\n",
       "      <td>...</td>\n",
       "      <td>...</td>\n",
       "      <td>...</td>\n",
       "      <td>...</td>\n",
       "    </tr>\n",
       "    <tr>\n",
       "      <th>2656</th>\n",
       "      <td>2656</td>\n",
       "      <td>0.612233</td>\n",
       "      <td>0.352484</td>\n",
       "      <td>2.305650</td>\n",
       "      <td>6.541145</td>\n",
       "      <td>4.123106</td>\n",
       "      <td>7.280110</td>\n",
       "      <td>7.000000</td>\n",
       "      <td>7.348469</td>\n",
       "      <td>31.833333</td>\n",
       "      <td>...</td>\n",
       "      <td>-3.203427e-16</td>\n",
       "      <td>0.027027</td>\n",
       "      <td>0.0</td>\n",
       "      <td>0.000000</td>\n",
       "      <td>1000000.000000</td>\n",
       "      <td>0.000000</td>\n",
       "      <td>0.000000</td>\n",
       "      <td>0.000000</td>\n",
       "      <td>LIDC-IDRI-0201</td>\n",
       "      <td>1700</td>\n",
       "    </tr>\n",
       "    <tr>\n",
       "      <th>2657</th>\n",
       "      <td>2657</td>\n",
       "      <td>0.789584</td>\n",
       "      <td>0.411954</td>\n",
       "      <td>2.864976</td>\n",
       "      <td>6.954600</td>\n",
       "      <td>8.000000</td>\n",
       "      <td>8.544004</td>\n",
       "      <td>6.082763</td>\n",
       "      <td>8.544004</td>\n",
       "      <td>74.750000</td>\n",
       "      <td>...</td>\n",
       "      <td>-3.203427e-16</td>\n",
       "      <td>0.012346</td>\n",
       "      <td>0.0</td>\n",
       "      <td>0.000000</td>\n",
       "      <td>1000000.000000</td>\n",
       "      <td>0.000000</td>\n",
       "      <td>0.000000</td>\n",
       "      <td>0.000000</td>\n",
       "      <td>LIDC-IDRI-0201</td>\n",
       "      <td>1702</td>\n",
       "    </tr>\n",
       "    <tr>\n",
       "      <th>2658</th>\n",
       "      <td>2658</td>\n",
       "      <td>0.871072</td>\n",
       "      <td>0.394275</td>\n",
       "      <td>2.357012</td>\n",
       "      <td>5.978092</td>\n",
       "      <td>6.082763</td>\n",
       "      <td>6.403124</td>\n",
       "      <td>6.082763</td>\n",
       "      <td>7.280110</td>\n",
       "      <td>44.291667</td>\n",
       "      <td>...</td>\n",
       "      <td>-3.203427e-16</td>\n",
       "      <td>0.020000</td>\n",
       "      <td>0.0</td>\n",
       "      <td>0.000000</td>\n",
       "      <td>1000000.000000</td>\n",
       "      <td>0.000000</td>\n",
       "      <td>0.000000</td>\n",
       "      <td>0.000000</td>\n",
       "      <td>LIDC-IDRI-0201</td>\n",
       "      <td>1699</td>\n",
       "    </tr>\n",
       "    <tr>\n",
       "      <th>2659</th>\n",
       "      <td>2659</td>\n",
       "      <td>0.824329</td>\n",
       "      <td>0.585070</td>\n",
       "      <td>6.185429</td>\n",
       "      <td>10.572110</td>\n",
       "      <td>9.848858</td>\n",
       "      <td>12.649111</td>\n",
       "      <td>12.529964</td>\n",
       "      <td>12.649111</td>\n",
       "      <td>393.375000</td>\n",
       "      <td>...</td>\n",
       "      <td>-3.203427e-16</td>\n",
       "      <td>0.002481</td>\n",
       "      <td>0.0</td>\n",
       "      <td>0.000000</td>\n",
       "      <td>1000000.000000</td>\n",
       "      <td>0.000000</td>\n",
       "      <td>0.000000</td>\n",
       "      <td>0.000000</td>\n",
       "      <td>LIDC-IDRI-0676</td>\n",
       "      <td>6581</td>\n",
       "    </tr>\n",
       "    <tr>\n",
       "      <th>2660</th>\n",
       "      <td>2660</td>\n",
       "      <td>0.821554</td>\n",
       "      <td>0.216666</td>\n",
       "      <td>6.603835</td>\n",
       "      <td>30.479289</td>\n",
       "      <td>35.355339</td>\n",
       "      <td>35.777088</td>\n",
       "      <td>29.017236</td>\n",
       "      <td>36.687873</td>\n",
       "      <td>3352.416667</td>\n",
       "      <td>...</td>\n",
       "      <td>-3.203427e-16</td>\n",
       "      <td>0.000295</td>\n",
       "      <td>0.0</td>\n",
       "      <td>0.000000</td>\n",
       "      <td>1000000.000000</td>\n",
       "      <td>0.000000</td>\n",
       "      <td>0.000000</td>\n",
       "      <td>0.000000</td>\n",
       "      <td>LIDC-IDRI-0242</td>\n",
       "      <td>1930</td>\n",
       "    </tr>\n",
       "  </tbody>\n",
       "</table>\n",
       "<p>2661 rows × 110 columns</p>\n",
       "</div>"
      ],
      "text/plain": [
       "      Unnamed: 0  original_shape_Elongation  original_shape_Flatness  \\\n",
       "0              0                   0.823485                 0.422484   \n",
       "1              1                   0.822030                 0.332701   \n",
       "2              2                   0.737988                 0.325554   \n",
       "3              3                   0.594263                 0.285487   \n",
       "4              4                   0.935982                 0.601938   \n",
       "...          ...                        ...                      ...   \n",
       "2656        2656                   0.612233                 0.352484   \n",
       "2657        2657                   0.789584                 0.411954   \n",
       "2658        2658                   0.871072                 0.394275   \n",
       "2659        2659                   0.824329                 0.585070   \n",
       "2660        2660                   0.821554                 0.216666   \n",
       "\n",
       "      original_shape_LeastAxisLength  original_shape_MajorAxisLength  \\\n",
       "0                           3.597711                        8.515614   \n",
       "1                           5.249749                       15.779186   \n",
       "2                           2.055999                        6.315384   \n",
       "3                          14.952101                       52.373975   \n",
       "4                           4.003552                        6.651108   \n",
       "...                              ...                             ...   \n",
       "2656                        2.305650                        6.541145   \n",
       "2657                        2.864976                        6.954600   \n",
       "2658                        2.357012                        5.978092   \n",
       "2659                        6.185429                       10.572110   \n",
       "2660                        6.603835                       30.479289   \n",
       "\n",
       "      original_shape_Maximum2DDiameterColumn  \\\n",
       "0                                   8.062258   \n",
       "1                                  19.026298   \n",
       "2                                   5.099020   \n",
       "3                                  45.177428   \n",
       "4                                   7.280110   \n",
       "...                                      ...   \n",
       "2656                                4.123106   \n",
       "2657                                8.000000   \n",
       "2658                                6.082763   \n",
       "2659                                9.848858   \n",
       "2660                               35.355339   \n",
       "\n",
       "      original_shape_Maximum2DDiameterRow  \\\n",
       "0                                9.848858   \n",
       "1                               18.248288   \n",
       "2                                7.071068   \n",
       "3                               48.836462   \n",
       "4                                8.062258   \n",
       "...                                   ...   \n",
       "2656                             7.280110   \n",
       "2657                             8.544004   \n",
       "2658                             6.403124   \n",
       "2659                            12.649111   \n",
       "2660                            35.777088   \n",
       "\n",
       "      original_shape_Maximum2DDiameterSlice  original_shape_Maximum3DDiameter  \\\n",
       "0                                 10.049876                         10.246951   \n",
       "1                                 15.000000                         19.052559   \n",
       "2                                  7.071068                          7.141428   \n",
       "3                                 56.515485                         63.419240   \n",
       "4                                  7.211103                          8.124038   \n",
       "...                                     ...                               ...   \n",
       "2656                               7.000000                          7.348469   \n",
       "2657                               6.082763                          8.544004   \n",
       "2658                               6.082763                          7.280110   \n",
       "2659                              12.529964                         12.649111   \n",
       "2660                              29.017236                         36.687873   \n",
       "\n",
       "      original_shape_MeshVolume  ...  original_glszm_ZoneEntropy  \\\n",
       "0                    139.958333  ...                1.000000e+00   \n",
       "1                    747.750000  ...               -3.203427e-16   \n",
       "2                     39.541667  ...               -3.203427e-16   \n",
       "3                   9251.583333  ...                1.298795e+00   \n",
       "4                    110.583333  ...               -3.203427e-16   \n",
       "...                         ...  ...                         ...   \n",
       "2656                  31.833333  ...               -3.203427e-16   \n",
       "2657                  74.750000  ...               -3.203427e-16   \n",
       "2658                  44.291667  ...               -3.203427e-16   \n",
       "2659                 393.375000  ...               -3.203427e-16   \n",
       "2660                3352.416667  ...               -3.203427e-16   \n",
       "\n",
       "      original_glszm_ZonePercentage  original_glszm_ZoneVariance  \\\n",
       "0                          0.013514                       5329.0   \n",
       "1                          0.001312                          0.0   \n",
       "2                          0.022222                          0.0   \n",
       "3                          0.000861                    9426162.0   \n",
       "4                          0.008547                          0.0   \n",
       "...                             ...                          ...   \n",
       "2656                       0.027027                          0.0   \n",
       "2657                       0.012346                          0.0   \n",
       "2658                       0.020000                          0.0   \n",
       "2659                       0.002481                          0.0   \n",
       "2660                       0.000295                          0.0   \n",
       "\n",
       "      original_ngtdm_Busyness  original_ngtdm_Coarseness  \\\n",
       "0                    0.181343                   1.392715   \n",
       "1                    0.000000             1000000.000000   \n",
       "2                    0.000000             1000000.000000   \n",
       "3                    2.276169                   0.110029   \n",
       "4                    0.000000             1000000.000000   \n",
       "...                       ...                        ...   \n",
       "2656                 0.000000             1000000.000000   \n",
       "2657                 0.000000             1000000.000000   \n",
       "2658                 0.000000             1000000.000000   \n",
       "2659                 0.000000             1000000.000000   \n",
       "2660                 0.000000             1000000.000000   \n",
       "\n",
       "      original_ngtdm_Complexity  original_ngtdm_Contrast  \\\n",
       "0                      0.009703                 0.000078   \n",
       "1                      0.000000                 0.000000   \n",
       "2                      0.000000                 0.000000   \n",
       "3                      0.001955                 0.000002   \n",
       "4                      0.000000                 0.000000   \n",
       "...                         ...                      ...   \n",
       "2656                   0.000000                 0.000000   \n",
       "2657                   0.000000                 0.000000   \n",
       "2658                   0.000000                 0.000000   \n",
       "2659                   0.000000                 0.000000   \n",
       "2660                   0.000000                 0.000000   \n",
       "\n",
       "      original_ngtdm_Strength      Patient_ID    ID  \n",
       "0                    1.165431  LIDC-IDRI-0848  5523  \n",
       "1                    0.000000  LIDC-IDRI-0159  1338  \n",
       "2                    0.000000  LIDC-IDRI-0159  1339  \n",
       "3                    0.101741  LIDC-IDRI-0829  5630  \n",
       "4                    0.000000  LIDC-IDRI-0830  5627  \n",
       "...                       ...             ...   ...  \n",
       "2656                 0.000000  LIDC-IDRI-0201  1700  \n",
       "2657                 0.000000  LIDC-IDRI-0201  1702  \n",
       "2658                 0.000000  LIDC-IDRI-0201  1699  \n",
       "2659                 0.000000  LIDC-IDRI-0676  6581  \n",
       "2660                 0.000000  LIDC-IDRI-0242  1930  \n",
       "\n",
       "[2661 rows x 110 columns]"
      ]
     },
     "execution_count": 13,
     "metadata": {},
     "output_type": "execute_result"
    }
   ],
   "source": [
    "df_radiomics = pd.read_csv('radiomics.csv')\n",
    "df_radiomics"
   ]
  },
  {
   "cell_type": "markdown",
   "metadata": {},
   "source": [
    "### 2. CNN"
   ]
  },
  {
   "cell_type": "markdown",
   "metadata": {},
   "source": [
    "> To see the process done to obtain the extracted features through *cnn's*, please see document **\"cnn_feature_extractor.ipynb\"**"
   ]
  },
  {
   "cell_type": "markdown",
   "metadata": {},
   "source": [
    "#### Deep Features"
   ]
  },
  {
   "cell_type": "code",
   "execution_count": 3,
   "metadata": {},
   "outputs": [
    {
     "data": {
      "text/html": [
       "<div>\n",
       "<style scoped>\n",
       "    .dataframe tbody tr th:only-of-type {\n",
       "        vertical-align: middle;\n",
       "    }\n",
       "\n",
       "    .dataframe tbody tr th {\n",
       "        vertical-align: top;\n",
       "    }\n",
       "\n",
       "    .dataframe thead th {\n",
       "        text-align: right;\n",
       "    }\n",
       "</style>\n",
       "<table border=\"1\" class=\"dataframe\">\n",
       "  <thead>\n",
       "    <tr style=\"text-align: right;\">\n",
       "      <th></th>\n",
       "      <th>Unnamed: 0</th>\n",
       "      <th>cnn_0</th>\n",
       "      <th>cnn_1</th>\n",
       "      <th>cnn_2</th>\n",
       "      <th>cnn_3</th>\n",
       "      <th>cnn_4</th>\n",
       "      <th>cnn_5</th>\n",
       "      <th>cnn_6</th>\n",
       "      <th>cnn_7</th>\n",
       "      <th>cnn_8</th>\n",
       "      <th>...</th>\n",
       "      <th>cnn_23</th>\n",
       "      <th>cnn_24</th>\n",
       "      <th>cnn_25</th>\n",
       "      <th>cnn_26</th>\n",
       "      <th>cnn_27</th>\n",
       "      <th>cnn_28</th>\n",
       "      <th>cnn_29</th>\n",
       "      <th>cnn_30</th>\n",
       "      <th>cnn_31</th>\n",
       "      <th>ID</th>\n",
       "    </tr>\n",
       "  </thead>\n",
       "  <tbody>\n",
       "    <tr>\n",
       "      <th>0</th>\n",
       "      <td>0</td>\n",
       "      <td>1.241468</td>\n",
       "      <td>0.000000</td>\n",
       "      <td>0.000000</td>\n",
       "      <td>0.000000</td>\n",
       "      <td>0.000000</td>\n",
       "      <td>0.0</td>\n",
       "      <td>0.000000</td>\n",
       "      <td>0.066853</td>\n",
       "      <td>0.990587</td>\n",
       "      <td>...</td>\n",
       "      <td>0.285106</td>\n",
       "      <td>0.231232</td>\n",
       "      <td>0.0</td>\n",
       "      <td>0.625406</td>\n",
       "      <td>0.000000</td>\n",
       "      <td>0.000000</td>\n",
       "      <td>2.069331</td>\n",
       "      <td>0.0</td>\n",
       "      <td>0.547192</td>\n",
       "      <td>102</td>\n",
       "    </tr>\n",
       "    <tr>\n",
       "      <th>1</th>\n",
       "      <td>1</td>\n",
       "      <td>0.000000</td>\n",
       "      <td>1.232410</td>\n",
       "      <td>0.000000</td>\n",
       "      <td>1.063928</td>\n",
       "      <td>1.120160</td>\n",
       "      <td>0.0</td>\n",
       "      <td>0.828725</td>\n",
       "      <td>0.000000</td>\n",
       "      <td>0.000000</td>\n",
       "      <td>...</td>\n",
       "      <td>0.000000</td>\n",
       "      <td>0.915816</td>\n",
       "      <td>0.0</td>\n",
       "      <td>0.000000</td>\n",
       "      <td>1.252468</td>\n",
       "      <td>1.223173</td>\n",
       "      <td>0.000000</td>\n",
       "      <td>0.0</td>\n",
       "      <td>0.000000</td>\n",
       "      <td>103</td>\n",
       "    </tr>\n",
       "    <tr>\n",
       "      <th>2</th>\n",
       "      <td>2</td>\n",
       "      <td>0.000000</td>\n",
       "      <td>1.342468</td>\n",
       "      <td>0.043411</td>\n",
       "      <td>1.226732</td>\n",
       "      <td>1.113360</td>\n",
       "      <td>0.0</td>\n",
       "      <td>0.763096</td>\n",
       "      <td>0.000000</td>\n",
       "      <td>0.000000</td>\n",
       "      <td>...</td>\n",
       "      <td>0.000000</td>\n",
       "      <td>1.023974</td>\n",
       "      <td>0.0</td>\n",
       "      <td>0.000000</td>\n",
       "      <td>1.148508</td>\n",
       "      <td>0.987634</td>\n",
       "      <td>0.000000</td>\n",
       "      <td>0.0</td>\n",
       "      <td>0.000000</td>\n",
       "      <td>109</td>\n",
       "    </tr>\n",
       "    <tr>\n",
       "      <th>3</th>\n",
       "      <td>3</td>\n",
       "      <td>0.000000</td>\n",
       "      <td>0.861694</td>\n",
       "      <td>0.000000</td>\n",
       "      <td>0.798592</td>\n",
       "      <td>0.769274</td>\n",
       "      <td>0.0</td>\n",
       "      <td>0.557115</td>\n",
       "      <td>0.000000</td>\n",
       "      <td>0.000000</td>\n",
       "      <td>...</td>\n",
       "      <td>0.000000</td>\n",
       "      <td>0.719021</td>\n",
       "      <td>0.0</td>\n",
       "      <td>0.000000</td>\n",
       "      <td>0.775924</td>\n",
       "      <td>0.684797</td>\n",
       "      <td>0.000000</td>\n",
       "      <td>0.0</td>\n",
       "      <td>0.000000</td>\n",
       "      <td>116</td>\n",
       "    </tr>\n",
       "    <tr>\n",
       "      <th>4</th>\n",
       "      <td>4</td>\n",
       "      <td>0.000000</td>\n",
       "      <td>0.000000</td>\n",
       "      <td>0.000000</td>\n",
       "      <td>0.000000</td>\n",
       "      <td>0.000000</td>\n",
       "      <td>0.0</td>\n",
       "      <td>0.050138</td>\n",
       "      <td>0.157876</td>\n",
       "      <td>0.077221</td>\n",
       "      <td>...</td>\n",
       "      <td>0.055109</td>\n",
       "      <td>0.156057</td>\n",
       "      <td>0.0</td>\n",
       "      <td>0.350073</td>\n",
       "      <td>0.027086</td>\n",
       "      <td>0.081437</td>\n",
       "      <td>0.373397</td>\n",
       "      <td>0.0</td>\n",
       "      <td>0.256892</td>\n",
       "      <td>123</td>\n",
       "    </tr>\n",
       "    <tr>\n",
       "      <th>...</th>\n",
       "      <td>...</td>\n",
       "      <td>...</td>\n",
       "      <td>...</td>\n",
       "      <td>...</td>\n",
       "      <td>...</td>\n",
       "      <td>...</td>\n",
       "      <td>...</td>\n",
       "      <td>...</td>\n",
       "      <td>...</td>\n",
       "      <td>...</td>\n",
       "      <td>...</td>\n",
       "      <td>...</td>\n",
       "      <td>...</td>\n",
       "      <td>...</td>\n",
       "      <td>...</td>\n",
       "      <td>...</td>\n",
       "      <td>...</td>\n",
       "      <td>...</td>\n",
       "      <td>...</td>\n",
       "      <td>...</td>\n",
       "      <td>...</td>\n",
       "    </tr>\n",
       "    <tr>\n",
       "      <th>2656</th>\n",
       "      <td>2665</td>\n",
       "      <td>0.000000</td>\n",
       "      <td>0.410857</td>\n",
       "      <td>0.000000</td>\n",
       "      <td>0.335077</td>\n",
       "      <td>0.382398</td>\n",
       "      <td>0.0</td>\n",
       "      <td>0.308489</td>\n",
       "      <td>0.000000</td>\n",
       "      <td>0.000000</td>\n",
       "      <td>...</td>\n",
       "      <td>0.000000</td>\n",
       "      <td>0.321696</td>\n",
       "      <td>0.0</td>\n",
       "      <td>0.000000</td>\n",
       "      <td>0.511903</td>\n",
       "      <td>0.479820</td>\n",
       "      <td>0.000000</td>\n",
       "      <td>0.0</td>\n",
       "      <td>0.000000</td>\n",
       "      <td>4519</td>\n",
       "    </tr>\n",
       "    <tr>\n",
       "      <th>2657</th>\n",
       "      <td>2666</td>\n",
       "      <td>0.000000</td>\n",
       "      <td>1.975172</td>\n",
       "      <td>0.000000</td>\n",
       "      <td>1.593027</td>\n",
       "      <td>1.804445</td>\n",
       "      <td>0.0</td>\n",
       "      <td>1.260259</td>\n",
       "      <td>0.000000</td>\n",
       "      <td>0.000000</td>\n",
       "      <td>...</td>\n",
       "      <td>0.000000</td>\n",
       "      <td>1.312931</td>\n",
       "      <td>0.0</td>\n",
       "      <td>0.000000</td>\n",
       "      <td>1.857454</td>\n",
       "      <td>1.895398</td>\n",
       "      <td>0.000000</td>\n",
       "      <td>0.0</td>\n",
       "      <td>0.000000</td>\n",
       "      <td>4522</td>\n",
       "    </tr>\n",
       "    <tr>\n",
       "      <th>2658</th>\n",
       "      <td>2667</td>\n",
       "      <td>0.000000</td>\n",
       "      <td>1.506138</td>\n",
       "      <td>0.102357</td>\n",
       "      <td>1.392534</td>\n",
       "      <td>1.253237</td>\n",
       "      <td>0.0</td>\n",
       "      <td>0.868991</td>\n",
       "      <td>0.000000</td>\n",
       "      <td>0.000000</td>\n",
       "      <td>...</td>\n",
       "      <td>0.000000</td>\n",
       "      <td>1.167139</td>\n",
       "      <td>0.0</td>\n",
       "      <td>0.000000</td>\n",
       "      <td>1.263877</td>\n",
       "      <td>1.108913</td>\n",
       "      <td>0.000000</td>\n",
       "      <td>0.0</td>\n",
       "      <td>0.000000</td>\n",
       "      <td>4524</td>\n",
       "    </tr>\n",
       "    <tr>\n",
       "      <th>2659</th>\n",
       "      <td>2668</td>\n",
       "      <td>0.000000</td>\n",
       "      <td>1.338855</td>\n",
       "      <td>0.000000</td>\n",
       "      <td>1.193478</td>\n",
       "      <td>1.151428</td>\n",
       "      <td>0.0</td>\n",
       "      <td>0.795956</td>\n",
       "      <td>0.000000</td>\n",
       "      <td>0.000000</td>\n",
       "      <td>...</td>\n",
       "      <td>0.000000</td>\n",
       "      <td>0.996575</td>\n",
       "      <td>0.0</td>\n",
       "      <td>0.000000</td>\n",
       "      <td>1.185952</td>\n",
       "      <td>1.080413</td>\n",
       "      <td>0.000000</td>\n",
       "      <td>0.0</td>\n",
       "      <td>0.000000</td>\n",
       "      <td>4526</td>\n",
       "    </tr>\n",
       "    <tr>\n",
       "      <th>2660</th>\n",
       "      <td>2669</td>\n",
       "      <td>0.000000</td>\n",
       "      <td>1.202708</td>\n",
       "      <td>0.000000</td>\n",
       "      <td>0.936127</td>\n",
       "      <td>1.114799</td>\n",
       "      <td>0.0</td>\n",
       "      <td>0.758156</td>\n",
       "      <td>0.000000</td>\n",
       "      <td>0.000000</td>\n",
       "      <td>...</td>\n",
       "      <td>0.000000</td>\n",
       "      <td>0.734727</td>\n",
       "      <td>0.0</td>\n",
       "      <td>0.000000</td>\n",
       "      <td>1.234649</td>\n",
       "      <td>1.243567</td>\n",
       "      <td>0.000000</td>\n",
       "      <td>0.0</td>\n",
       "      <td>0.000000</td>\n",
       "      <td>4500</td>\n",
       "    </tr>\n",
       "  </tbody>\n",
       "</table>\n",
       "<p>2661 rows × 34 columns</p>\n",
       "</div>"
      ],
      "text/plain": [
       "      Unnamed: 0     cnn_0     cnn_1     cnn_2     cnn_3     cnn_4  cnn_5  \\\n",
       "0              0  1.241468  0.000000  0.000000  0.000000  0.000000    0.0   \n",
       "1              1  0.000000  1.232410  0.000000  1.063928  1.120160    0.0   \n",
       "2              2  0.000000  1.342468  0.043411  1.226732  1.113360    0.0   \n",
       "3              3  0.000000  0.861694  0.000000  0.798592  0.769274    0.0   \n",
       "4              4  0.000000  0.000000  0.000000  0.000000  0.000000    0.0   \n",
       "...          ...       ...       ...       ...       ...       ...    ...   \n",
       "2656        2665  0.000000  0.410857  0.000000  0.335077  0.382398    0.0   \n",
       "2657        2666  0.000000  1.975172  0.000000  1.593027  1.804445    0.0   \n",
       "2658        2667  0.000000  1.506138  0.102357  1.392534  1.253237    0.0   \n",
       "2659        2668  0.000000  1.338855  0.000000  1.193478  1.151428    0.0   \n",
       "2660        2669  0.000000  1.202708  0.000000  0.936127  1.114799    0.0   \n",
       "\n",
       "         cnn_6     cnn_7     cnn_8  ...    cnn_23    cnn_24  cnn_25    cnn_26  \\\n",
       "0     0.000000  0.066853  0.990587  ...  0.285106  0.231232     0.0  0.625406   \n",
       "1     0.828725  0.000000  0.000000  ...  0.000000  0.915816     0.0  0.000000   \n",
       "2     0.763096  0.000000  0.000000  ...  0.000000  1.023974     0.0  0.000000   \n",
       "3     0.557115  0.000000  0.000000  ...  0.000000  0.719021     0.0  0.000000   \n",
       "4     0.050138  0.157876  0.077221  ...  0.055109  0.156057     0.0  0.350073   \n",
       "...        ...       ...       ...  ...       ...       ...     ...       ...   \n",
       "2656  0.308489  0.000000  0.000000  ...  0.000000  0.321696     0.0  0.000000   \n",
       "2657  1.260259  0.000000  0.000000  ...  0.000000  1.312931     0.0  0.000000   \n",
       "2658  0.868991  0.000000  0.000000  ...  0.000000  1.167139     0.0  0.000000   \n",
       "2659  0.795956  0.000000  0.000000  ...  0.000000  0.996575     0.0  0.000000   \n",
       "2660  0.758156  0.000000  0.000000  ...  0.000000  0.734727     0.0  0.000000   \n",
       "\n",
       "        cnn_27    cnn_28    cnn_29  cnn_30    cnn_31    ID  \n",
       "0     0.000000  0.000000  2.069331     0.0  0.547192   102  \n",
       "1     1.252468  1.223173  0.000000     0.0  0.000000   103  \n",
       "2     1.148508  0.987634  0.000000     0.0  0.000000   109  \n",
       "3     0.775924  0.684797  0.000000     0.0  0.000000   116  \n",
       "4     0.027086  0.081437  0.373397     0.0  0.256892   123  \n",
       "...        ...       ...       ...     ...       ...   ...  \n",
       "2656  0.511903  0.479820  0.000000     0.0  0.000000  4519  \n",
       "2657  1.857454  1.895398  0.000000     0.0  0.000000  4522  \n",
       "2658  1.263877  1.108913  0.000000     0.0  0.000000  4524  \n",
       "2659  1.185952  1.080413  0.000000     0.0  0.000000  4526  \n",
       "2660  1.234649  1.243567  0.000000     0.0  0.000000  4500  \n",
       "\n",
       "[2661 rows x 34 columns]"
      ]
     },
     "execution_count": 3,
     "metadata": {},
     "output_type": "execute_result"
    }
   ],
   "source": [
    "df_cnn_deep = pd.read_csv(\"cnn_deep.csv\")\n",
    "df_cnn_deep"
   ]
  },
  {
   "cell_type": "markdown",
   "metadata": {},
   "source": [
    "#### Pre-trained Model Features"
   ]
  },
  {
   "cell_type": "code",
   "execution_count": 5,
   "metadata": {},
   "outputs": [
    {
     "data": {
      "text/html": [
       "<div>\n",
       "<style scoped>\n",
       "    .dataframe tbody tr th:only-of-type {\n",
       "        vertical-align: middle;\n",
       "    }\n",
       "\n",
       "    .dataframe tbody tr th {\n",
       "        vertical-align: top;\n",
       "    }\n",
       "\n",
       "    .dataframe thead th {\n",
       "        text-align: right;\n",
       "    }\n",
       "</style>\n",
       "<table border=\"1\" class=\"dataframe\">\n",
       "  <thead>\n",
       "    <tr style=\"text-align: right;\">\n",
       "      <th></th>\n",
       "      <th>Unnamed: 0</th>\n",
       "      <th>pca0</th>\n",
       "      <th>pca1</th>\n",
       "      <th>pca2</th>\n",
       "      <th>pca3</th>\n",
       "      <th>pca4</th>\n",
       "      <th>pca5</th>\n",
       "      <th>pca6</th>\n",
       "      <th>pca7</th>\n",
       "      <th>pca8</th>\n",
       "      <th>...</th>\n",
       "      <th>pca191</th>\n",
       "      <th>pca192</th>\n",
       "      <th>pca193</th>\n",
       "      <th>pca194</th>\n",
       "      <th>pca195</th>\n",
       "      <th>pca196</th>\n",
       "      <th>pca197</th>\n",
       "      <th>pca198</th>\n",
       "      <th>pca199</th>\n",
       "      <th>ID</th>\n",
       "    </tr>\n",
       "  </thead>\n",
       "  <tbody>\n",
       "    <tr>\n",
       "      <th>0</th>\n",
       "      <td>0</td>\n",
       "      <td>-28.862408</td>\n",
       "      <td>3.752524</td>\n",
       "      <td>-12.629104</td>\n",
       "      <td>3.694289</td>\n",
       "      <td>-3.617787</td>\n",
       "      <td>8.736332</td>\n",
       "      <td>2.377903</td>\n",
       "      <td>-2.257868</td>\n",
       "      <td>-12.693306</td>\n",
       "      <td>...</td>\n",
       "      <td>-0.475949</td>\n",
       "      <td>1.763081</td>\n",
       "      <td>-1.035181</td>\n",
       "      <td>0.129095</td>\n",
       "      <td>-1.971602</td>\n",
       "      <td>-1.417496</td>\n",
       "      <td>1.054354</td>\n",
       "      <td>0.349048</td>\n",
       "      <td>1.423461</td>\n",
       "      <td>102</td>\n",
       "    </tr>\n",
       "    <tr>\n",
       "      <th>1</th>\n",
       "      <td>1</td>\n",
       "      <td>10.284248</td>\n",
       "      <td>4.924620</td>\n",
       "      <td>-2.747968</td>\n",
       "      <td>-1.245035</td>\n",
       "      <td>-1.307115</td>\n",
       "      <td>1.780016</td>\n",
       "      <td>1.354484</td>\n",
       "      <td>-2.506646</td>\n",
       "      <td>3.570466</td>\n",
       "      <td>...</td>\n",
       "      <td>0.145580</td>\n",
       "      <td>-0.639781</td>\n",
       "      <td>-0.347615</td>\n",
       "      <td>-0.030194</td>\n",
       "      <td>0.080013</td>\n",
       "      <td>0.045747</td>\n",
       "      <td>0.513203</td>\n",
       "      <td>0.225490</td>\n",
       "      <td>-1.190453</td>\n",
       "      <td>103</td>\n",
       "    </tr>\n",
       "    <tr>\n",
       "      <th>2</th>\n",
       "      <td>2</td>\n",
       "      <td>8.985373</td>\n",
       "      <td>2.576475</td>\n",
       "      <td>0.109423</td>\n",
       "      <td>1.403091</td>\n",
       "      <td>-0.456045</td>\n",
       "      <td>0.923358</td>\n",
       "      <td>1.409719</td>\n",
       "      <td>1.615725</td>\n",
       "      <td>1.140846</td>\n",
       "      <td>...</td>\n",
       "      <td>-0.668258</td>\n",
       "      <td>-0.268869</td>\n",
       "      <td>0.791192</td>\n",
       "      <td>0.386122</td>\n",
       "      <td>0.175140</td>\n",
       "      <td>-0.042782</td>\n",
       "      <td>-0.682645</td>\n",
       "      <td>-0.879624</td>\n",
       "      <td>0.164075</td>\n",
       "      <td>109</td>\n",
       "    </tr>\n",
       "    <tr>\n",
       "      <th>3</th>\n",
       "      <td>3</td>\n",
       "      <td>7.977247</td>\n",
       "      <td>1.219759</td>\n",
       "      <td>1.210066</td>\n",
       "      <td>1.638670</td>\n",
       "      <td>-1.578279</td>\n",
       "      <td>-3.928095</td>\n",
       "      <td>1.803608</td>\n",
       "      <td>1.403588</td>\n",
       "      <td>-1.157376</td>\n",
       "      <td>...</td>\n",
       "      <td>-0.500650</td>\n",
       "      <td>0.258099</td>\n",
       "      <td>-0.181931</td>\n",
       "      <td>0.919360</td>\n",
       "      <td>0.235270</td>\n",
       "      <td>0.274724</td>\n",
       "      <td>1.416356</td>\n",
       "      <td>1.671143</td>\n",
       "      <td>-0.680947</td>\n",
       "      <td>116</td>\n",
       "    </tr>\n",
       "    <tr>\n",
       "      <th>4</th>\n",
       "      <td>4</td>\n",
       "      <td>-9.503909</td>\n",
       "      <td>-11.624536</td>\n",
       "      <td>2.111700</td>\n",
       "      <td>-4.423035</td>\n",
       "      <td>2.308307</td>\n",
       "      <td>0.628816</td>\n",
       "      <td>-5.473779</td>\n",
       "      <td>-2.100862</td>\n",
       "      <td>2.955586</td>\n",
       "      <td>...</td>\n",
       "      <td>0.988510</td>\n",
       "      <td>0.783137</td>\n",
       "      <td>-2.684016</td>\n",
       "      <td>0.540568</td>\n",
       "      <td>1.012633</td>\n",
       "      <td>0.173970</td>\n",
       "      <td>-0.242350</td>\n",
       "      <td>-1.454935</td>\n",
       "      <td>-0.304751</td>\n",
       "      <td>123</td>\n",
       "    </tr>\n",
       "    <tr>\n",
       "      <th>...</th>\n",
       "      <td>...</td>\n",
       "      <td>...</td>\n",
       "      <td>...</td>\n",
       "      <td>...</td>\n",
       "      <td>...</td>\n",
       "      <td>...</td>\n",
       "      <td>...</td>\n",
       "      <td>...</td>\n",
       "      <td>...</td>\n",
       "      <td>...</td>\n",
       "      <td>...</td>\n",
       "      <td>...</td>\n",
       "      <td>...</td>\n",
       "      <td>...</td>\n",
       "      <td>...</td>\n",
       "      <td>...</td>\n",
       "      <td>...</td>\n",
       "      <td>...</td>\n",
       "      <td>...</td>\n",
       "      <td>...</td>\n",
       "      <td>...</td>\n",
       "    </tr>\n",
       "    <tr>\n",
       "      <th>2656</th>\n",
       "      <td>2665</td>\n",
       "      <td>6.878442</td>\n",
       "      <td>-1.322916</td>\n",
       "      <td>4.547146</td>\n",
       "      <td>5.457790</td>\n",
       "      <td>-0.543405</td>\n",
       "      <td>-4.435112</td>\n",
       "      <td>0.193059</td>\n",
       "      <td>5.457479</td>\n",
       "      <td>-3.327473</td>\n",
       "      <td>...</td>\n",
       "      <td>-0.470241</td>\n",
       "      <td>0.106813</td>\n",
       "      <td>-0.258970</td>\n",
       "      <td>-0.153676</td>\n",
       "      <td>-0.229152</td>\n",
       "      <td>0.078406</td>\n",
       "      <td>0.096592</td>\n",
       "      <td>-0.089086</td>\n",
       "      <td>-0.842193</td>\n",
       "      <td>4519</td>\n",
       "    </tr>\n",
       "    <tr>\n",
       "      <th>2657</th>\n",
       "      <td>2666</td>\n",
       "      <td>9.652906</td>\n",
       "      <td>3.155041</td>\n",
       "      <td>-0.060737</td>\n",
       "      <td>1.592898</td>\n",
       "      <td>2.945357</td>\n",
       "      <td>0.978017</td>\n",
       "      <td>1.330562</td>\n",
       "      <td>1.024554</td>\n",
       "      <td>1.152521</td>\n",
       "      <td>...</td>\n",
       "      <td>-0.050992</td>\n",
       "      <td>0.103570</td>\n",
       "      <td>0.485398</td>\n",
       "      <td>-0.188950</td>\n",
       "      <td>-0.292568</td>\n",
       "      <td>-0.181481</td>\n",
       "      <td>0.069825</td>\n",
       "      <td>0.102156</td>\n",
       "      <td>-0.105623</td>\n",
       "      <td>4522</td>\n",
       "    </tr>\n",
       "    <tr>\n",
       "      <th>2658</th>\n",
       "      <td>2667</td>\n",
       "      <td>11.231087</td>\n",
       "      <td>6.418330</td>\n",
       "      <td>-4.255191</td>\n",
       "      <td>-2.717045</td>\n",
       "      <td>-1.276963</td>\n",
       "      <td>-0.961450</td>\n",
       "      <td>-0.396524</td>\n",
       "      <td>-0.489676</td>\n",
       "      <td>-1.044307</td>\n",
       "      <td>...</td>\n",
       "      <td>-0.382508</td>\n",
       "      <td>-0.191141</td>\n",
       "      <td>0.039196</td>\n",
       "      <td>0.245216</td>\n",
       "      <td>0.109593</td>\n",
       "      <td>0.064033</td>\n",
       "      <td>-0.036009</td>\n",
       "      <td>0.288020</td>\n",
       "      <td>0.139713</td>\n",
       "      <td>4524</td>\n",
       "    </tr>\n",
       "    <tr>\n",
       "      <th>2659</th>\n",
       "      <td>2668</td>\n",
       "      <td>10.449172</td>\n",
       "      <td>4.864744</td>\n",
       "      <td>-2.176744</td>\n",
       "      <td>0.034756</td>\n",
       "      <td>-1.147599</td>\n",
       "      <td>0.108293</td>\n",
       "      <td>0.323538</td>\n",
       "      <td>1.584202</td>\n",
       "      <td>0.433010</td>\n",
       "      <td>...</td>\n",
       "      <td>-0.298237</td>\n",
       "      <td>0.171113</td>\n",
       "      <td>-0.479163</td>\n",
       "      <td>0.759911</td>\n",
       "      <td>-0.227797</td>\n",
       "      <td>-0.082521</td>\n",
       "      <td>-0.283985</td>\n",
       "      <td>0.149991</td>\n",
       "      <td>-0.475655</td>\n",
       "      <td>4526</td>\n",
       "    </tr>\n",
       "    <tr>\n",
       "      <th>2660</th>\n",
       "      <td>2669</td>\n",
       "      <td>8.758789</td>\n",
       "      <td>1.298166</td>\n",
       "      <td>2.178214</td>\n",
       "      <td>4.191873</td>\n",
       "      <td>1.300232</td>\n",
       "      <td>-1.725830</td>\n",
       "      <td>-0.227437</td>\n",
       "      <td>5.316638</td>\n",
       "      <td>-2.050547</td>\n",
       "      <td>...</td>\n",
       "      <td>-0.351040</td>\n",
       "      <td>0.587455</td>\n",
       "      <td>-0.407136</td>\n",
       "      <td>-0.435246</td>\n",
       "      <td>0.383144</td>\n",
       "      <td>0.073991</td>\n",
       "      <td>-0.093358</td>\n",
       "      <td>-0.099420</td>\n",
       "      <td>0.312359</td>\n",
       "      <td>4500</td>\n",
       "    </tr>\n",
       "  </tbody>\n",
       "</table>\n",
       "<p>2661 rows × 202 columns</p>\n",
       "</div>"
      ],
      "text/plain": [
       "      Unnamed: 0       pca0       pca1       pca2      pca3      pca4  \\\n",
       "0              0 -28.862408   3.752524 -12.629104  3.694289 -3.617787   \n",
       "1              1  10.284248   4.924620  -2.747968 -1.245035 -1.307115   \n",
       "2              2   8.985373   2.576475   0.109423  1.403091 -0.456045   \n",
       "3              3   7.977247   1.219759   1.210066  1.638670 -1.578279   \n",
       "4              4  -9.503909 -11.624536   2.111700 -4.423035  2.308307   \n",
       "...          ...        ...        ...        ...       ...       ...   \n",
       "2656        2665   6.878442  -1.322916   4.547146  5.457790 -0.543405   \n",
       "2657        2666   9.652906   3.155041  -0.060737  1.592898  2.945357   \n",
       "2658        2667  11.231087   6.418330  -4.255191 -2.717045 -1.276963   \n",
       "2659        2668  10.449172   4.864744  -2.176744  0.034756 -1.147599   \n",
       "2660        2669   8.758789   1.298166   2.178214  4.191873  1.300232   \n",
       "\n",
       "          pca5      pca6      pca7       pca8  ...    pca191    pca192  \\\n",
       "0     8.736332  2.377903 -2.257868 -12.693306  ... -0.475949  1.763081   \n",
       "1     1.780016  1.354484 -2.506646   3.570466  ...  0.145580 -0.639781   \n",
       "2     0.923358  1.409719  1.615725   1.140846  ... -0.668258 -0.268869   \n",
       "3    -3.928095  1.803608  1.403588  -1.157376  ... -0.500650  0.258099   \n",
       "4     0.628816 -5.473779 -2.100862   2.955586  ...  0.988510  0.783137   \n",
       "...        ...       ...       ...        ...  ...       ...       ...   \n",
       "2656 -4.435112  0.193059  5.457479  -3.327473  ... -0.470241  0.106813   \n",
       "2657  0.978017  1.330562  1.024554   1.152521  ... -0.050992  0.103570   \n",
       "2658 -0.961450 -0.396524 -0.489676  -1.044307  ... -0.382508 -0.191141   \n",
       "2659  0.108293  0.323538  1.584202   0.433010  ... -0.298237  0.171113   \n",
       "2660 -1.725830 -0.227437  5.316638  -2.050547  ... -0.351040  0.587455   \n",
       "\n",
       "        pca193    pca194    pca195    pca196    pca197    pca198    pca199  \\\n",
       "0    -1.035181  0.129095 -1.971602 -1.417496  1.054354  0.349048  1.423461   \n",
       "1    -0.347615 -0.030194  0.080013  0.045747  0.513203  0.225490 -1.190453   \n",
       "2     0.791192  0.386122  0.175140 -0.042782 -0.682645 -0.879624  0.164075   \n",
       "3    -0.181931  0.919360  0.235270  0.274724  1.416356  1.671143 -0.680947   \n",
       "4    -2.684016  0.540568  1.012633  0.173970 -0.242350 -1.454935 -0.304751   \n",
       "...        ...       ...       ...       ...       ...       ...       ...   \n",
       "2656 -0.258970 -0.153676 -0.229152  0.078406  0.096592 -0.089086 -0.842193   \n",
       "2657  0.485398 -0.188950 -0.292568 -0.181481  0.069825  0.102156 -0.105623   \n",
       "2658  0.039196  0.245216  0.109593  0.064033 -0.036009  0.288020  0.139713   \n",
       "2659 -0.479163  0.759911 -0.227797 -0.082521 -0.283985  0.149991 -0.475655   \n",
       "2660 -0.407136 -0.435246  0.383144  0.073991 -0.093358 -0.099420  0.312359   \n",
       "\n",
       "        ID  \n",
       "0      102  \n",
       "1      103  \n",
       "2      109  \n",
       "3      116  \n",
       "4      123  \n",
       "...    ...  \n",
       "2656  4519  \n",
       "2657  4522  \n",
       "2658  4524  \n",
       "2659  4526  \n",
       "2660  4500  \n",
       "\n",
       "[2661 rows x 202 columns]"
      ]
     },
     "execution_count": 5,
     "metadata": {},
     "output_type": "execute_result"
    }
   ],
   "source": [
    "df_cnn_pre_trained = pd.read_csv(\"cnn_pca_pretrained.csv\")\n",
    "df_cnn_pre_trained"
   ]
  },
  {
   "cell_type": "markdown",
   "metadata": {},
   "source": [
    "#### Shallow Features"
   ]
  },
  {
   "cell_type": "code",
   "execution_count": 6,
   "metadata": {},
   "outputs": [
    {
     "data": {
      "text/html": [
       "<div>\n",
       "<style scoped>\n",
       "    .dataframe tbody tr th:only-of-type {\n",
       "        vertical-align: middle;\n",
       "    }\n",
       "\n",
       "    .dataframe tbody tr th {\n",
       "        vertical-align: top;\n",
       "    }\n",
       "\n",
       "    .dataframe thead th {\n",
       "        text-align: right;\n",
       "    }\n",
       "</style>\n",
       "<table border=\"1\" class=\"dataframe\">\n",
       "  <thead>\n",
       "    <tr style=\"text-align: right;\">\n",
       "      <th></th>\n",
       "      <th>Unnamed: 0</th>\n",
       "      <th>pca0</th>\n",
       "      <th>pca1</th>\n",
       "      <th>pca2</th>\n",
       "      <th>pca3</th>\n",
       "      <th>pca4</th>\n",
       "      <th>pca5</th>\n",
       "      <th>pca6</th>\n",
       "      <th>pca7</th>\n",
       "      <th>pca8</th>\n",
       "      <th>...</th>\n",
       "      <th>pca191</th>\n",
       "      <th>pca192</th>\n",
       "      <th>pca193</th>\n",
       "      <th>pca194</th>\n",
       "      <th>pca195</th>\n",
       "      <th>pca196</th>\n",
       "      <th>pca197</th>\n",
       "      <th>pca198</th>\n",
       "      <th>pca199</th>\n",
       "      <th>ID</th>\n",
       "    </tr>\n",
       "  </thead>\n",
       "  <tbody>\n",
       "    <tr>\n",
       "      <th>0</th>\n",
       "      <td>0</td>\n",
       "      <td>18.507799</td>\n",
       "      <td>-3.979196</td>\n",
       "      <td>-1.464212</td>\n",
       "      <td>-8.249301</td>\n",
       "      <td>-1.511281</td>\n",
       "      <td>-0.097843</td>\n",
       "      <td>-1.964366</td>\n",
       "      <td>6.425084</td>\n",
       "      <td>-9.777150</td>\n",
       "      <td>...</td>\n",
       "      <td>-0.188038</td>\n",
       "      <td>-0.287847</td>\n",
       "      <td>0.185013</td>\n",
       "      <td>-0.304888</td>\n",
       "      <td>0.635551</td>\n",
       "      <td>-0.320602</td>\n",
       "      <td>0.520961</td>\n",
       "      <td>-0.050294</td>\n",
       "      <td>-0.329315</td>\n",
       "      <td>102</td>\n",
       "    </tr>\n",
       "    <tr>\n",
       "      <th>1</th>\n",
       "      <td>1</td>\n",
       "      <td>-4.250829</td>\n",
       "      <td>-1.281081</td>\n",
       "      <td>0.436666</td>\n",
       "      <td>-1.098827</td>\n",
       "      <td>-0.974764</td>\n",
       "      <td>1.090660</td>\n",
       "      <td>-0.674656</td>\n",
       "      <td>-2.024909</td>\n",
       "      <td>-1.488662</td>\n",
       "      <td>...</td>\n",
       "      <td>0.039800</td>\n",
       "      <td>-0.048407</td>\n",
       "      <td>0.035358</td>\n",
       "      <td>-0.130424</td>\n",
       "      <td>-0.079888</td>\n",
       "      <td>0.016756</td>\n",
       "      <td>-0.102583</td>\n",
       "      <td>0.092161</td>\n",
       "      <td>0.098691</td>\n",
       "      <td>103</td>\n",
       "    </tr>\n",
       "    <tr>\n",
       "      <th>2</th>\n",
       "      <td>2</td>\n",
       "      <td>-4.975577</td>\n",
       "      <td>-3.055070</td>\n",
       "      <td>-1.504835</td>\n",
       "      <td>0.237379</td>\n",
       "      <td>0.371976</td>\n",
       "      <td>-0.352268</td>\n",
       "      <td>-0.019358</td>\n",
       "      <td>0.190688</td>\n",
       "      <td>0.163588</td>\n",
       "      <td>...</td>\n",
       "      <td>0.084992</td>\n",
       "      <td>-0.060501</td>\n",
       "      <td>0.078606</td>\n",
       "      <td>-0.048059</td>\n",
       "      <td>0.063553</td>\n",
       "      <td>0.045959</td>\n",
       "      <td>-0.048258</td>\n",
       "      <td>-0.075211</td>\n",
       "      <td>0.088765</td>\n",
       "      <td>109</td>\n",
       "    </tr>\n",
       "    <tr>\n",
       "      <th>3</th>\n",
       "      <td>3</td>\n",
       "      <td>-4.693306</td>\n",
       "      <td>-2.727945</td>\n",
       "      <td>-1.592518</td>\n",
       "      <td>0.335238</td>\n",
       "      <td>0.449730</td>\n",
       "      <td>-0.929249</td>\n",
       "      <td>0.105895</td>\n",
       "      <td>0.085130</td>\n",
       "      <td>0.382369</td>\n",
       "      <td>...</td>\n",
       "      <td>0.115303</td>\n",
       "      <td>0.037878</td>\n",
       "      <td>-0.017470</td>\n",
       "      <td>-0.163283</td>\n",
       "      <td>0.129294</td>\n",
       "      <td>0.011924</td>\n",
       "      <td>-0.003593</td>\n",
       "      <td>0.015148</td>\n",
       "      <td>-0.098916</td>\n",
       "      <td>116</td>\n",
       "    </tr>\n",
       "    <tr>\n",
       "      <th>4</th>\n",
       "      <td>4</td>\n",
       "      <td>5.008068</td>\n",
       "      <td>7.774472</td>\n",
       "      <td>2.010175</td>\n",
       "      <td>-2.677969</td>\n",
       "      <td>2.351102</td>\n",
       "      <td>1.659552</td>\n",
       "      <td>-4.834831</td>\n",
       "      <td>-0.240802</td>\n",
       "      <td>0.664957</td>\n",
       "      <td>...</td>\n",
       "      <td>0.022431</td>\n",
       "      <td>0.093454</td>\n",
       "      <td>0.228445</td>\n",
       "      <td>-0.153856</td>\n",
       "      <td>0.190015</td>\n",
       "      <td>0.393490</td>\n",
       "      <td>-0.188809</td>\n",
       "      <td>-0.054659</td>\n",
       "      <td>0.534190</td>\n",
       "      <td>123</td>\n",
       "    </tr>\n",
       "    <tr>\n",
       "      <th>...</th>\n",
       "      <td>...</td>\n",
       "      <td>...</td>\n",
       "      <td>...</td>\n",
       "      <td>...</td>\n",
       "      <td>...</td>\n",
       "      <td>...</td>\n",
       "      <td>...</td>\n",
       "      <td>...</td>\n",
       "      <td>...</td>\n",
       "      <td>...</td>\n",
       "      <td>...</td>\n",
       "      <td>...</td>\n",
       "      <td>...</td>\n",
       "      <td>...</td>\n",
       "      <td>...</td>\n",
       "      <td>...</td>\n",
       "      <td>...</td>\n",
       "      <td>...</td>\n",
       "      <td>...</td>\n",
       "      <td>...</td>\n",
       "      <td>...</td>\n",
       "    </tr>\n",
       "    <tr>\n",
       "      <th>2656</th>\n",
       "      <td>2665</td>\n",
       "      <td>-4.011442</td>\n",
       "      <td>-1.228873</td>\n",
       "      <td>-0.360800</td>\n",
       "      <td>0.251840</td>\n",
       "      <td>0.875796</td>\n",
       "      <td>-0.516059</td>\n",
       "      <td>-0.572818</td>\n",
       "      <td>1.275961</td>\n",
       "      <td>0.857650</td>\n",
       "      <td>...</td>\n",
       "      <td>0.012727</td>\n",
       "      <td>0.015679</td>\n",
       "      <td>-0.091654</td>\n",
       "      <td>-0.069153</td>\n",
       "      <td>0.017380</td>\n",
       "      <td>-0.128829</td>\n",
       "      <td>0.069251</td>\n",
       "      <td>0.048517</td>\n",
       "      <td>0.107039</td>\n",
       "      <td>4519</td>\n",
       "    </tr>\n",
       "    <tr>\n",
       "      <th>2657</th>\n",
       "      <td>2666</td>\n",
       "      <td>-3.893099</td>\n",
       "      <td>-0.133541</td>\n",
       "      <td>1.890239</td>\n",
       "      <td>-0.115855</td>\n",
       "      <td>-0.775877</td>\n",
       "      <td>1.852403</td>\n",
       "      <td>1.224801</td>\n",
       "      <td>0.510861</td>\n",
       "      <td>0.487906</td>\n",
       "      <td>...</td>\n",
       "      <td>-0.080948</td>\n",
       "      <td>-0.032327</td>\n",
       "      <td>-0.176588</td>\n",
       "      <td>-0.020396</td>\n",
       "      <td>0.049191</td>\n",
       "      <td>0.115357</td>\n",
       "      <td>0.083434</td>\n",
       "      <td>-0.025168</td>\n",
       "      <td>-0.052190</td>\n",
       "      <td>4522</td>\n",
       "    </tr>\n",
       "    <tr>\n",
       "      <th>2658</th>\n",
       "      <td>2667</td>\n",
       "      <td>-4.934571</td>\n",
       "      <td>-2.952329</td>\n",
       "      <td>-1.358606</td>\n",
       "      <td>0.087699</td>\n",
       "      <td>0.100700</td>\n",
       "      <td>-0.197082</td>\n",
       "      <td>0.062460</td>\n",
       "      <td>-0.235171</td>\n",
       "      <td>-0.063018</td>\n",
       "      <td>...</td>\n",
       "      <td>-0.066094</td>\n",
       "      <td>-0.096277</td>\n",
       "      <td>0.054241</td>\n",
       "      <td>0.145780</td>\n",
       "      <td>0.010509</td>\n",
       "      <td>-0.064955</td>\n",
       "      <td>0.052617</td>\n",
       "      <td>-0.009317</td>\n",
       "      <td>-0.026682</td>\n",
       "      <td>4524</td>\n",
       "    </tr>\n",
       "    <tr>\n",
       "      <th>2659</th>\n",
       "      <td>2668</td>\n",
       "      <td>-4.570329</td>\n",
       "      <td>-2.025797</td>\n",
       "      <td>-0.370149</td>\n",
       "      <td>-0.301723</td>\n",
       "      <td>-0.198063</td>\n",
       "      <td>0.454411</td>\n",
       "      <td>-0.254986</td>\n",
       "      <td>-0.278002</td>\n",
       "      <td>-0.388061</td>\n",
       "      <td>...</td>\n",
       "      <td>-0.163988</td>\n",
       "      <td>0.189690</td>\n",
       "      <td>-0.078068</td>\n",
       "      <td>-0.073425</td>\n",
       "      <td>-0.070037</td>\n",
       "      <td>0.058576</td>\n",
       "      <td>0.060794</td>\n",
       "      <td>0.068982</td>\n",
       "      <td>0.032420</td>\n",
       "      <td>4526</td>\n",
       "    </tr>\n",
       "    <tr>\n",
       "      <th>2660</th>\n",
       "      <td>2669</td>\n",
       "      <td>-3.842533</td>\n",
       "      <td>-0.260322</td>\n",
       "      <td>1.250206</td>\n",
       "      <td>-0.077015</td>\n",
       "      <td>0.330519</td>\n",
       "      <td>0.951478</td>\n",
       "      <td>-0.385319</td>\n",
       "      <td>1.552699</td>\n",
       "      <td>0.784249</td>\n",
       "      <td>...</td>\n",
       "      <td>-0.021900</td>\n",
       "      <td>-0.026611</td>\n",
       "      <td>-0.047805</td>\n",
       "      <td>-0.084979</td>\n",
       "      <td>-0.028191</td>\n",
       "      <td>-0.103811</td>\n",
       "      <td>0.073924</td>\n",
       "      <td>0.001372</td>\n",
       "      <td>0.016031</td>\n",
       "      <td>4500</td>\n",
       "    </tr>\n",
       "  </tbody>\n",
       "</table>\n",
       "<p>2661 rows × 202 columns</p>\n",
       "</div>"
      ],
      "text/plain": [
       "      Unnamed: 0       pca0      pca1      pca2      pca3      pca4      pca5  \\\n",
       "0              0  18.507799 -3.979196 -1.464212 -8.249301 -1.511281 -0.097843   \n",
       "1              1  -4.250829 -1.281081  0.436666 -1.098827 -0.974764  1.090660   \n",
       "2              2  -4.975577 -3.055070 -1.504835  0.237379  0.371976 -0.352268   \n",
       "3              3  -4.693306 -2.727945 -1.592518  0.335238  0.449730 -0.929249   \n",
       "4              4   5.008068  7.774472  2.010175 -2.677969  2.351102  1.659552   \n",
       "...          ...        ...       ...       ...       ...       ...       ...   \n",
       "2656        2665  -4.011442 -1.228873 -0.360800  0.251840  0.875796 -0.516059   \n",
       "2657        2666  -3.893099 -0.133541  1.890239 -0.115855 -0.775877  1.852403   \n",
       "2658        2667  -4.934571 -2.952329 -1.358606  0.087699  0.100700 -0.197082   \n",
       "2659        2668  -4.570329 -2.025797 -0.370149 -0.301723 -0.198063  0.454411   \n",
       "2660        2669  -3.842533 -0.260322  1.250206 -0.077015  0.330519  0.951478   \n",
       "\n",
       "          pca6      pca7      pca8  ...    pca191    pca192    pca193  \\\n",
       "0    -1.964366  6.425084 -9.777150  ... -0.188038 -0.287847  0.185013   \n",
       "1    -0.674656 -2.024909 -1.488662  ...  0.039800 -0.048407  0.035358   \n",
       "2    -0.019358  0.190688  0.163588  ...  0.084992 -0.060501  0.078606   \n",
       "3     0.105895  0.085130  0.382369  ...  0.115303  0.037878 -0.017470   \n",
       "4    -4.834831 -0.240802  0.664957  ...  0.022431  0.093454  0.228445   \n",
       "...        ...       ...       ...  ...       ...       ...       ...   \n",
       "2656 -0.572818  1.275961  0.857650  ...  0.012727  0.015679 -0.091654   \n",
       "2657  1.224801  0.510861  0.487906  ... -0.080948 -0.032327 -0.176588   \n",
       "2658  0.062460 -0.235171 -0.063018  ... -0.066094 -0.096277  0.054241   \n",
       "2659 -0.254986 -0.278002 -0.388061  ... -0.163988  0.189690 -0.078068   \n",
       "2660 -0.385319  1.552699  0.784249  ... -0.021900 -0.026611 -0.047805   \n",
       "\n",
       "        pca194    pca195    pca196    pca197    pca198    pca199    ID  \n",
       "0    -0.304888  0.635551 -0.320602  0.520961 -0.050294 -0.329315   102  \n",
       "1    -0.130424 -0.079888  0.016756 -0.102583  0.092161  0.098691   103  \n",
       "2    -0.048059  0.063553  0.045959 -0.048258 -0.075211  0.088765   109  \n",
       "3    -0.163283  0.129294  0.011924 -0.003593  0.015148 -0.098916   116  \n",
       "4    -0.153856  0.190015  0.393490 -0.188809 -0.054659  0.534190   123  \n",
       "...        ...       ...       ...       ...       ...       ...   ...  \n",
       "2656 -0.069153  0.017380 -0.128829  0.069251  0.048517  0.107039  4519  \n",
       "2657 -0.020396  0.049191  0.115357  0.083434 -0.025168 -0.052190  4522  \n",
       "2658  0.145780  0.010509 -0.064955  0.052617 -0.009317 -0.026682  4524  \n",
       "2659 -0.073425 -0.070037  0.058576  0.060794  0.068982  0.032420  4526  \n",
       "2660 -0.084979 -0.028191 -0.103811  0.073924  0.001372  0.016031  4500  \n",
       "\n",
       "[2661 rows x 202 columns]"
      ]
     },
     "execution_count": 6,
     "metadata": {},
     "output_type": "execute_result"
    }
   ],
   "source": [
    "df_cnn_shallow = pd.read_csv(\"cnn_pca_shallow.csv\")\n",
    "df_cnn_shallow"
   ]
  },
  {
   "cell_type": "markdown",
   "metadata": {},
   "source": [
    "---"
   ]
  },
  {
   "cell_type": "markdown",
   "metadata": {},
   "source": [
    "## Binary vs Multiclass Classification"
   ]
  },
  {
   "cell_type": "markdown",
   "metadata": {},
   "source": [
    "Studies have explored both binary and multiclass classification approaches for lung cancer detection, each with its own advantages, but both reasonable options."
   ]
  },
  {
   "cell_type": "markdown",
   "metadata": {},
   "source": [
    "> **Binary Classification** typically focuses on distinguishing between bening and malignant, making it simpler and often more efficient in clinical settings. \n",
    "\n",
    "> In contrast, **Multiclass Classification** can provide deeper insights into various lung cancer subtypes, which can inform treatment strategies. Research shows that multiclass models can enhance diagnostic accuracy by capturing the complexity of tumor presentations, although they may require larger datasets and more sophisticated algorithms. Apart from this, a multiclass classification can lead to a smaller number of false negatives and can give insight on which treatment to use. **[5]**"
   ]
  },
  {
   "cell_type": "markdown",
   "metadata": {},
   "source": [
    "We chose to use Binary Classification, as our main goal is to categorize lung nodules into malignant and non-maligant categories and we found more studies than not that used this approach. However, using Multiclass Classification could be a work for the future."
   ]
  },
  {
   "cell_type": "markdown",
   "metadata": {},
   "source": [
    "---"
   ]
  },
  {
   "cell_type": "markdown",
   "metadata": {},
   "source": [
    "## Data Cleaning"
   ]
  },
  {
   "cell_type": "markdown",
   "metadata": {},
   "source": [
    "### 1. Nodule Classification Ajustment"
   ]
  },
  {
   "cell_type": "markdown",
   "metadata": {},
   "source": [
    "Because we opted for Binary Classification, we need to reduce the 5 existing categories into 2. There are many ways to do this, some better that others."
   ]
  },
  {
   "cell_type": "markdown",
   "metadata": {},
   "source": [
    "> The general idea between studies that use this type of classification is to is to categorize the malignancy values below 3 (i.e, 1 and 2) as **benign** and the values above 3 (i.e, 4 and 5) as **malign**. In this case, the nodules with malignancy value of 3 are eliminated.\n",
    "\n",
    "> Another option is to, instead of excluding the nodules with malignancy value of 3, includes these in the category of malignant, so there is not a loss in data. Assigning them as malignant is always better that to assigning them as the opposotive, as in medicine is considered worst to have a false-negative than a false-positive."
   ]
  },
  {
   "cell_type": "markdown",
   "metadata": {},
   "source": [
    "### 2. Treating Class Imbalance"
   ]
  },
  {
   "cell_type": "code",
   "execution_count": 14,
   "metadata": {},
   "outputs": [
    {
     "name": "stdout",
     "output_type": "stream",
     "text": [
      "Malignant Samples: 507\n",
      "Benign Samples: 1124\n"
     ]
    }
   ],
   "source": [
    "df_annotations[\"class\"] = df_annotations[\"Malignancy\"].apply(get_malignancy_class)\n",
    "unique_labels, counts = np.unique(df_annotations[\"class\"], return_counts=True)\n",
    "print(f\"Malignant Samples: {counts[2]}\")\n",
    "print(f\"Benign Samples: {counts[0]}\")"
   ]
  },
  {
   "cell_type": "markdown",
   "metadata": {},
   "source": [
    "As we see, because we decided to use binary classification, we ended up with more than a two-time difference between the number of malignant samples and benign samples. "
   ]
  },
  {
   "cell_type": "markdown",
   "metadata": {},
   "source": [
    "- SMOTE"
   ]
  },
  {
   "cell_type": "markdown",
   "metadata": {},
   "source": [
    "> A good way to treat this problem is by using SMOTE, an oversampling mthod that generates synthetic samples for the minority class (in this case, the 'malignant' class) by interpolating between existing samples. When compared to simple oversampling (that duplicates existing examples), this method introduces variability. This is applied during the training preparation process and can be seen in the subsection **'Hyperparameter Tunning'**"
   ]
  },
  {
   "cell_type": "markdown",
   "metadata": {},
   "source": [
    "- Tailored Oversampling Method"
   ]
  },
  {
   "cell_type": "markdown",
   "metadata": {},
   "source": [
    "> **Dani explains her method**"
   ]
  },
  {
   "cell_type": "markdown",
   "metadata": {},
   "source": [
    "---"
   ]
  },
  {
   "cell_type": "markdown",
   "metadata": {},
   "source": [
    "## Training Preparation"
   ]
  },
  {
   "cell_type": "markdown",
   "metadata": {},
   "source": [
    "> In our analysis, we will utilize XGBoost, Random Forest, and potentially Support Vector Machines (SVM) as our primary machine learning algorithms. These algorithms are particularly well-suited for our dataset, which comprises over 100 features extracted from the LIDC-IDRI dataset. The goal is to compare the performance of the 3."
   ]
  },
  {
   "cell_type": "markdown",
   "metadata": {},
   "source": [
    "- **XGBoost** is known for its high performance and efficiency in handling large datasets with many features, as it employs a gradient boosting framework that optimizes model training.\n",
    "- **Random Forest** provides an ensemble learning approach, combining multiple decision trees to enhance predictive accuracy while also allowing us to assess feature importance through its built-in measures.\n",
    "- **Support Vector Machines** are effective for high-dimensional spaces and are particularly useful for binary classification tasks."
   ]
  },
  {
   "cell_type": "markdown",
   "metadata": {},
   "source": [
    "### 1. Merge CSVs"
   ]
  },
  {
   "cell_type": "code",
   "execution_count": 15,
   "metadata": {},
   "outputs": [],
   "source": [
    "# Function to merge CSV files\n",
    "def merge_csvs(csv_list):\n",
    "    # Load the first CSV\n",
    "    merged_df = pd.read_csv(csv_list[0], index_col=0)\n",
    "    \n",
    "    # Merge the remaining CSVs\n",
    "    for csv in csv_list[1:]:\n",
    "        temp_df = pd.read_csv(csv)\n",
    "        merged_df = merged_df.merge(temp_df, on=(\"ID\", \"Patient_ID\"))\n",
    "    \n",
    "    return merged_df"
   ]
  },
  {
   "cell_type": "markdown",
   "metadata": {},
   "source": [
    "### 2. Split Datasets"
   ]
  },
  {
   "cell_type": "markdown",
   "metadata": {},
   "source": [
    "A common pitfalls when evaluating and testing a classification model for potential lung nodule malignancy is not considering the nodules of the same patient to be completely separated into the training set or the validation set **[4]**."
   ]
  },
  {
   "cell_type": "code",
   "execution_count": 37,
   "metadata": {},
   "outputs": [],
   "source": [
    "def split_dataset(df: pd.DataFrame) -> Tuple[pd.DataFrame, pd.DataFrame]:\n",
    "    # Step 1: Get unique patient_ids\n",
    "    unique_patients = df['Patient_ID'].unique()\n",
    "\n",
    "    # Step 2: Split unique patient_ids\n",
    "    train_patients, test_patients = train_test_split(unique_patients, test_size=0.2, random_state=42)\n",
    "\n",
    "    # Step 3: Filter original dataset based on the split patient_ids\n",
    "    train_set = df[df['Patient_ID'].isin(train_patients)]\n",
    "    test_set = df[df['Patient_ID'].isin(test_patients)]\n",
    "    return train_set, test_set"
   ]
  },
  {
   "cell_type": "code",
   "execution_count": 38,
   "metadata": {},
   "outputs": [],
   "source": [
    "def prepare_df(merged_df):\n",
    "    merged_df = merged_df[merged_df[\"Malignancy\"] != 3] # Remove Indeterminate malignancy\n",
    "    merged_df.loc[merged_df[\"Malignancy\"] < 3, \"Malignancy\"] = 0\n",
    "    merged_df.loc[merged_df[\"Malignancy\"] > 3, \"Malignancy\"] = 1\n",
    "\n",
    "    train_set, test_set = split_dataset(merged_df)\n",
    "\n",
    "    # Define features and target\n",
    "    X_train = train_set.drop(columns=[\"ID\", \"Scan_ID\", \"Patient_ID\", \"Malignancy\"])  # Exclude \"ID\", \"Scan_ID\", \"Patient_ID\" and \"Malignancy\" from features\n",
    "    y_train = train_set[\"Malignancy\"]  # Target variable\n",
    "    groups_train = train_set[\"Patient_ID\"]\n",
    "\n",
    "    X_test = test_set.drop(columns=[\"ID\", \"Scan_ID\", \"Patient_ID\", \"Malignancy\"])  # Exclude \"ID\", \"Scan_ID\", \"Patient_ID\" and \"Malignancy\" from features\n",
    "    y_test = test_set[\"Malignancy\"]  # Target variable\n",
    "\n",
    "    return X_train, y_train, groups_train, X_test, y_test"
   ]
  },
  {
   "cell_type": "markdown",
   "metadata": {},
   "source": [
    "### 3. Hyperparameter Tunning"
   ]
  },
  {
   "cell_type": "markdown",
   "metadata": {},
   "source": [
    "We used the **RandomizedSearchCV** method, that allows for randomized sampling of hyperparameters to optimize the machine learning method.\n",
    "The function accepts a classifier, a set of hyperparameter distributions to search over, the input data X and labels y, and a name for the model."
   ]
  },
  {
   "cell_type": "markdown",
   "metadata": {},
   "source": [
    "> **Preprocessing:** We created a **ColumnTransformer**, which applies **StandardScaler()** to scale the numeric features. This is crucial, especially for algorithms sensitive to feature scaling like XGBoost."
   ]
  },
  {
   "cell_type": "markdown",
   "metadata": {},
   "source": [
    "> **Pipeline Setup:** We created a pipeline that consists of the preprocessing step and the classifying step."
   ]
  },
  {
   "cell_type": "markdown",
   "metadata": {},
   "source": [
    "> **Cross-Validation:** We used **StratifiedKFold** cross-validation, which splits the data into 5 folds while ensuring that the distribution of classes remains balanced in each fold."
   ]
  },
  {
   "cell_type": "markdown",
   "metadata": {},
   "source": [
    "> **RandomizedSearchCV:** The next step is to perform hyperparameter tuning by randomly selecting hyperparameter combinations from the provided **param_distributions**."
   ]
  },
  {
   "cell_type": "markdown",
   "metadata": {},
   "source": [
    "> **Fitting the Model and Displaying Results:** After the tuning process and the fitting of each model, the function prints the best hyperparameters and the highest AUC score achieved during cross-validation."
   ]
  },
  {
   "cell_type": "code",
   "execution_count": 39,
   "metadata": {},
   "outputs": [],
   "source": [
    "# Function to perform RandomizedSearchCV\n",
    "def tune_model(classifier, param_distributions, X, y, groups, model_name):\n",
    "    #Synthetic Oversampling\n",
    "    smote = SMOTE(random_state=42)\n",
    "    X_resampled, y_resampled = smote.fit_resample(X, y)\n",
    "\n",
    "    # Define the preprocessor (if needed)\n",
    "    # Here, we\"ll standardize the numeric features\n",
    "    numeric_features = X.select_dtypes(include=[\"float64\", \"int64\"]).columns\n",
    "    preprocessor = ColumnTransformer(\n",
    "        transformers=[\n",
    "            (\"num\", StandardScaler(), numeric_features)  # Standardize numeric features\n",
    "        ]\n",
    "    )\n",
    "\n",
    "    # Create the pipeline\n",
    "    pipeline = Pipeline(steps=[\n",
    "        (\"preprocessor\", preprocessor),  # Preprocessing step\n",
    "        (\"classifier\", classifier)  # Classifier passed as parameter\n",
    "    ])\n",
    "\n",
    "    # Setup StratifiedKFold cross-validation\n",
    "    kf = StratifiedGroupKFold(n_splits=5, shuffle=True, random_state=42)\n",
    "\n",
    "    # Setup RandomizedSearchCV\n",
    "    random_search = RandomizedSearchCV(\n",
    "        pipeline,\n",
    "        param_distributions,\n",
    "        n_iter=150,  # Number of random combinations to try\n",
    "        scoring=\"recall\",  # Use recall as the scoring metric\n",
    "        cv=kf,\n",
    "        random_state=42,\n",
    "        n_jobs=-1,  # Use all available cores\n",
    "        return_train_score=True,\n",
    "        # error_score='raise',\n",
    "    )\n",
    "\n",
    "    # Perform RandomizedSearchCV\n",
    "    groups_resampled = groups.append(pd.Series([f\"smoted-{i}\" for i in range(len(X_resampled)- len(X))]))\n",
    "    random_search.fit(X_resampled, y_resampled, groups=groups_resampled)\n",
    "\n",
    "    # Display the best parameters and score\n",
    "    print(f\"{model_name} - Best parameters: {random_search.best_params_}\")\n",
    "    print(f\"{model_name} - Best Recall score: {random_search.best_score_:.4f}\")\n",
    "\n",
    "    return random_search.best_estimator_, random_search.best_params_"
   ]
  },
  {
   "cell_type": "code",
   "execution_count": 64,
   "metadata": {},
   "outputs": [],
   "source": [
    "def plot_metrics(models, X_test, y_test):\n",
    "    _, ax = plt.subplots()\n",
    "    for name, pipeline in models:\n",
    "        RocCurveDisplay.from_estimator(pipeline, X_test, y_test, ax=ax, name=name)\n",
    "    plt.title(\"ROC Curve\")\n",
    "    plt.show()\n",
    "\n",
    "    metrics = defaultdict(list)\n",
    "    names = []\n",
    "    for name, pipeline in models:\n",
    "        names.append(name)\n",
    "        preds = pipeline.predict(X_test)\n",
    "\n",
    "        metrics[\"precision\"].append(precision_score(y_test, preds))\n",
    "        metrics[\"f1_scores\"].append(f1_score(y_test, preds))\n",
    "        metrics[\"f2_scores\"].append(fbeta_score(y_test, preds, beta=2))\n",
    "        metrics[\"balanced_accuracy\"].append(balanced_accuracy_score(y_test, preds))\n",
    "        metrics[\"aucs\"].append(roc_auc_score(y_test, pipeline.predict_proba(X_test)[:, 1]))\n",
    "\n",
    "    plt.figure(figsize=(15, 10))\n",
    "    for i, column in enumerate(metrics.keys()):\n",
    "        plt.subplot(2, 3, i + 1)\n",
    "        plt.bar(names, metrics[column], color='pink')\n",
    "        plt.ylabel(\"scale\")\n",
    "        plt.title(column)\n",
    "        plt.ylim(bottom=0.65)\n",
    "    plt.show()\n",
    "\n",
    "    plt.figure(figsize=(12, 5))\n",
    "    plt.suptitle(\"Evaluation of the Best Models\")\n",
    "    for i, (name, pipeline) in enumerate(models):\n",
    "        ax = plt.subplot(2, 3, i + 1)\n",
    "        plt.title(name)\n",
    "        ConfusionMatrixDisplay.from_estimator(pipeline, X_test, y_test, ax=ax)\n",
    "    plt.plot()"
   ]
  },
  {
   "cell_type": "markdown",
   "metadata": {},
   "source": [
    "###  XGBoost (xgb_param_distributions): "
   ]
  },
  {
   "cell_type": "markdown",
   "metadata": {},
   "source": [
    "\n",
    "- **n_estimators:** Number of boosting rounds or trees to grow, with values ranging from 50 to 300 in steps of 50.\n",
    "- **max_depth:** Maximum depth of each tree, which controls the complexity of the model, sampled between 3 and 15.\n",
    "- **learning_rate:** The step size at each iteration, ranging from 0.01 to 0.2 to control the contribution of each tree.\n",
    "- **subsample:** Fraction of samples to be used in each boosting round, with values of 0.5, 0.7, and 1.0.\n",
    "- **colsample_bytree:** Fraction of features used when building each tree, with values of 0.5, 0.7, and 1.0.\n",
    "- **gamma:** Minimum loss reduction required to make a further partition in a leaf node, ranging from 0 to 5 in steps of 0.5."
   ]
  },
  {
   "cell_type": "code",
   "execution_count": 65,
   "metadata": {},
   "outputs": [],
   "source": [
    "# Parameter distributions for each classifier\n",
    "xgb_param_distributions = {\n",
    "    \"classifier__n_estimators\": np.arange(50, 300, 50),\n",
    "    \"classifier__max_depth\": np.arange(3, 15),\n",
    "    \"classifier__learning_rate\": [0.01, 0.05, 0.1, 0.2],\n",
    "    \"classifier__subsample\": [0.5, 0.7, 1.0],\n",
    "    \"classifier__colsample_bytree\": [0.5, 0.7, 1.0],\n",
    "    \"classifier__gamma\": np.arange(0, 5, 0.5),\n",
    "}"
   ]
  },
  {
   "cell_type": "markdown",
   "metadata": {},
   "source": [
    "### Random Forest (rf_param_distributions):"
   ]
  },
  {
   "cell_type": "markdown",
   "metadata": {},
   "source": [
    "- **n_estimators:** Number of trees in the forest, sampled between 50 and 300 in steps of 50.\n",
    "- **max_depth:** Maximum depth of each tree, sampled between 3 and 15.\n",
    "- **min_samples_split:** Minimum number of samples required to split an internal node, with options of 2, 5, and 10.\n",
    "- **min_samples_leaf:** Minimum number of samples required to be at a leaf node, with values of 1, 2, and 4.\n",
    "- **max_features:** The number of features to consider when looking for the best split, with options \"auto\" and \"sqrt\"."
   ]
  },
  {
   "cell_type": "code",
   "execution_count": 66,
   "metadata": {},
   "outputs": [],
   "source": [
    "rf_param_distributions = {\n",
    "    \"classifier__n_estimators\": np.arange(50, 300, 50),\n",
    "    \"classifier__max_depth\": np.arange(3, 15),\n",
    "    \"classifier__min_samples_split\": [2, 5, 10],\n",
    "    \"classifier__min_samples_leaf\": [1, 2, 4],\n",
    "    \"classifier__max_features\": [\"log2\", \"sqrt\"],\n",
    "}"
   ]
  },
  {
   "cell_type": "markdown",
   "metadata": {},
   "source": [
    "---"
   ]
  },
  {
   "cell_type": "markdown",
   "metadata": {},
   "source": [
    "## Performance Metrics"
   ]
  },
  {
   "cell_type": "markdown",
   "metadata": {},
   "source": [
    "For our binary classification task, we used a set of performance metrics to evaluate the models' ability to correctly classify benign and malignant nodules. Here are the ones we found to be the most interesting and valuable:"
   ]
  },
  {
   "cell_type": "markdown",
   "metadata": {},
   "source": [
    "1. **F1-Score:**  This balances **Precision** and **Recall**, providing a harmonic mean between the two. It is especialle useful when the dataset has imbalanced classes as it gives a good balance between false positives and false negatives."
   ]
  },
  {
   "cell_type": "markdown",
   "metadata": {},
   "source": [
    "$$\n",
    "F1 = 2 \\times \\frac{\\text{Precision} \\times \\text{Recall}}{\\text{Precision} + \\text{Recall}}\n",
    "$$"
   ]
  },
  {
   "cell_type": "markdown",
   "metadata": {},
   "source": [
    "2. **F2-Score:** This is a variation of the F1-score that gives more weight to the **Recall** when compared to the Precision. This is especially important in the medical field, where minimizing false negatives is crucial, because failing to detect a malignant nodule can have severe consequences."
   ]
  },
  {
   "cell_type": "markdown",
   "metadata": {},
   "source": [
    "$$\n",
    "F2 = 5 \\times \\frac{\\text{Precision} \\times \\text{Recall}}{4 \\times \\text{Precision} + \\text{Recall}}\n",
    "$$"
   ]
  },
  {
   "cell_type": "markdown",
   "metadata": {},
   "source": [
    "3. **Precision:** Measures how many of the predicted postives are actually postives, in this case, it is used to ensure that the predictions marked as malignant are actually malignant."
   ]
  },
  {
   "cell_type": "markdown",
   "metadata": {},
   "source": [
    "$$\n",
    "\\text{Precision} = \\frac{TP}{TP + FP}\n",
    "$$"
   ]
  },
  {
   "cell_type": "markdown",
   "metadata": {},
   "source": [
    "4. **Recall (Sensitivity):**  Focuses on how well the model identifies actuall positives. A high recall ensures that most malignant nodules are detected."
   ]
  },
  {
   "cell_type": "markdown",
   "metadata": {},
   "source": [
    "\n",
    "$$\n",
    "\\text{Recall} = \\frac{TP}{TP + FN}\n",
    "$$"
   ]
  },
  {
   "cell_type": "markdown",
   "metadata": {},
   "source": [
    "5. **ROC AUC:** The Are Under Curve is used to measure the overall models' ability to distinguish between classes, as the ROC Curve plots the true positive rate against the false positive rate. AUC is a value between 0 and 1, where 1 indicates perfect classification and 0.5 represents random guessing."
   ]
  },
  {
   "cell_type": "markdown",
   "metadata": {},
   "source": [
    "6. **Balanced Accuracy:** This is the average of recall for both classes (benign and malignant), making it particularly useful when dealing with imbalanced datasets. It ensures that both classes are treated equally, avoiding bias towards the more frequent class. As we've seen before there is more cases of non-malignant nodules."
   ]
  },
  {
   "cell_type": "markdown",
   "metadata": {},
   "source": [
    "$$\n",
    "\\text{Balanced Accuracy} = \\frac{1}{2} \\left( \\frac{TP}{TP + FN} + \\frac{TN}{TN + FP} \\right)\n",
    "$$"
   ]
  },
  {
   "cell_type": "markdown",
   "metadata": {},
   "source": [
    "---"
   ]
  },
  {
   "cell_type": "markdown",
   "metadata": {},
   "source": [
    "## Training Results"
   ]
  },
  {
   "cell_type": "markdown",
   "metadata": {},
   "source": [
    "### 1. Annotations (Baseline)"
   ]
  },
  {
   "cell_type": "code",
   "execution_count": 67,
   "metadata": {},
   "outputs": [],
   "source": [
    "merged_df = merge_csvs([\"annotations_ds.csv\"])\n",
    "X_train, y_train, groups_train, X_test, y_test = prepare_df(merged_df)"
   ]
  },
  {
   "cell_type": "code",
   "execution_count": 68,
   "metadata": {},
   "outputs": [
    {
     "name": "stderr",
     "output_type": "stream",
     "text": [
      "/tmp/ipykernel_4350/834114205.py:39: FutureWarning: The series.append method is deprecated and will be removed from pandas in a future version. Use pandas.concat instead.\n",
      "  groups_resampled = groups.append(pd.Series([f\"smoted-{i}\" for i in range(len(X_resampled)- len(X))]))\n"
     ]
    },
    {
     "name": "stdout",
     "output_type": "stream",
     "text": [
      "XGBoost - Best parameters: {'classifier__subsample': 0.7, 'classifier__n_estimators': 150, 'classifier__max_depth': 11, 'classifier__learning_rate': 0.2, 'classifier__gamma': 0.5, 'classifier__colsample_bytree': 1.0}\n",
      "XGBoost - Best Recall score: 0.8593\n"
     ]
    },
    {
     "name": "stderr",
     "output_type": "stream",
     "text": [
      "/tmp/ipykernel_4350/834114205.py:39: FutureWarning: The series.append method is deprecated and will be removed from pandas in a future version. Use pandas.concat instead.\n",
      "  groups_resampled = groups.append(pd.Series([f\"smoted-{i}\" for i in range(len(X_resampled)- len(X))]))\n",
      "/home/inesamorim46/anaconda3/lib/python3.11/site-packages/numpy/ma/core.py:2820: RuntimeWarning: invalid value encountered in cast\n",
      "  _data = np.array(data, dtype=dtype, copy=copy,\n"
     ]
    },
    {
     "name": "stdout",
     "output_type": "stream",
     "text": [
      "Random Forest - Best parameters: {'classifier__n_estimators': 250, 'classifier__min_samples_split': 2, 'classifier__min_samples_leaf': 1, 'classifier__max_features': 'sqrt', 'classifier__max_depth': 13}\n",
      "Random Forest - Best Recall score: 0.8686\n"
     ]
    }
   ],
   "source": [
    "# Tune models\n",
    "best_xgb_model, best_xgb_params = tune_model(XGBClassifier(eval_metric=\"mlogloss\"), xgb_param_distributions, X_train, y_train, groups_train, \"XGBoost\")\n",
    "best_rf_model, best_rf_params = tune_model(RandomForestClassifier(random_state=42), rf_param_distributions, X_train, y_train, groups_train, \"Random Forest\")"
   ]
  },
  {
   "cell_type": "code",
   "execution_count": 69,
   "metadata": {},
   "outputs": [
    {
     "data": {
      "image/png": "[encoded data removed]",
      "text/plain": [
       "<Figure size 640x480 with 1 Axes>"
      ]
     },
     "metadata": {},
     "output_type": "display_data"
    },
    {
     "data": {
      "image/png": "[encoded data removed]",
      "text/plain": [
       "<Figure size 1500x1000 with 5 Axes>"
      ]
     },
     "metadata": {},
     "output_type": "display_data"
    },
    {
     "data": {
      "image/png": "[encoded data removed]",
      "text/plain": [
       "<Figure size 1200x500 with 4 Axes>"
      ]
     },
     "metadata": {},
     "output_type": "display_data"
    }
   ],
   "source": [
    "models = [\n",
    "    (\"XgBoost\", best_xgb_model),\n",
    "    (\"Random Forest\", best_rf_model),\n",
    "]\n",
    "plot_metrics(models, X_test, y_test)"
   ]
  },
  {
   "cell_type": "markdown",
   "metadata": {},
   "source": [
    "### 2. Annotations + Radiomics"
   ]
  },
  {
   "cell_type": "code",
   "execution_count": 71,
   "metadata": {},
   "outputs": [],
   "source": [
    "merged_df = merge_csvs([\"annotations_ds.csv\", \"radiomics.csv\"])\n",
    "X_train, y_train, groups_train, X_test, y_test = prepare_df(merged_df)"
   ]
  },
  {
   "cell_type": "code",
   "execution_count": 72,
   "metadata": {},
   "outputs": [
    {
     "name": "stderr",
     "output_type": "stream",
     "text": [
      "/tmp/ipykernel_4350/834114205.py:39: FutureWarning: The series.append method is deprecated and will be removed from pandas in a future version. Use pandas.concat instead.\n",
      "  groups_resampled = groups.append(pd.Series([f\"smoted-{i}\" for i in range(len(X_resampled)- len(X))]))\n"
     ]
    },
    {
     "name": "stdout",
     "output_type": "stream",
     "text": [
      "XGBoost - Best parameters: {'classifier__subsample': 0.5, 'classifier__n_estimators': 250, 'classifier__max_depth': 5, 'classifier__learning_rate': 0.1, 'classifier__gamma': 0.5, 'classifier__colsample_bytree': 0.7}\n",
      "XGBoost - Best Recall score: 0.9308\n"
     ]
    },
    {
     "name": "stderr",
     "output_type": "stream",
     "text": [
      "/tmp/ipykernel_4350/834114205.py:39: FutureWarning: The series.append method is deprecated and will be removed from pandas in a future version. Use pandas.concat instead.\n",
      "  groups_resampled = groups.append(pd.Series([f\"smoted-{i}\" for i in range(len(X_resampled)- len(X))]))\n",
      "/home/inesamorim46/anaconda3/lib/python3.11/site-packages/numpy/ma/core.py:2820: RuntimeWarning: invalid value encountered in cast\n",
      "  _data = np.array(data, dtype=dtype, copy=copy,\n"
     ]
    },
    {
     "name": "stdout",
     "output_type": "stream",
     "text": [
      "Random Forest - Best parameters: {'classifier__n_estimators': 150, 'classifier__min_samples_split': 2, 'classifier__min_samples_leaf': 1, 'classifier__max_features': 'sqrt', 'classifier__max_depth': 10}\n",
      "Random Forest - Best Recall score: 0.9187\n"
     ]
    }
   ],
   "source": [
    "# Tune models\n",
    "best_xgb_model, best_xgb_params = tune_model(XGBClassifier(eval_metric=\"mlogloss\"), xgb_param_distributions, X_train, y_train, groups_train, \"XGBoost\")\n",
    "best_rf_model, best_rf_params = tune_model(RandomForestClassifier(random_state=42), rf_param_distributions, X_train, y_train, groups_train, \"Random Forest\")"
   ]
  },
  {
   "cell_type": "code",
   "execution_count": 73,
   "metadata": {},
   "outputs": [
    {
     "data": {
      "image/png": "[encoded data removed]",
      "text/plain": [
       "<Figure size 640x480 with 1 Axes>"
      ]
     },
     "metadata": {},
     "output_type": "display_data"
    },
    {
     "data": {
      "image/png": "[encoded data removed]",
      "text/plain": [
       "<Figure size 1500x1000 with 5 Axes>"
      ]
     },
     "metadata": {},
     "output_type": "display_data"
    },
    {
     "data": {
      "image/png": "[encoded data removed]",
      "text/plain": [
       "<Figure size 1200x500 with 4 Axes>"
      ]
     },
     "metadata": {},
     "output_type": "display_data"
    }
   ],
   "source": [
    "models = [\n",
    "    (\"XgBoost\", best_xgb_model),\n",
    "    (\"Random Forest\", best_rf_model),\n",
    "]\n",
    "plot_metrics(models, X_test, y_test)"
   ]
  },
  {
   "cell_type": "markdown",
   "metadata": {},
   "source": [
    "### 3. CNN "
   ]
  },
  {
   "cell_type": "markdown",
   "metadata": {},
   "source": [
    "#### 3.1. CNN Shalow Features"
   ]
  },
  {
   "cell_type": "markdown",
   "metadata": {},
   "source": [
    "#### 3.2. CNN Deep Features"
   ]
  },
  {
   "cell_type": "markdown",
   "metadata": {},
   "source": [
    "#### 3.3. CNN PCA pre-treined "
   ]
  },
  {
   "cell_type": "markdown",
   "metadata": {},
   "source": [
    "### 4. Annotations + CNN"
   ]
  },
  {
   "cell_type": "markdown",
   "metadata": {},
   "source": [
    "Because ... obtained the best results along the three dataframes, we used this one to compare with the other combinations."
   ]
  },
  {
   "cell_type": "code",
   "execution_count": null,
   "metadata": {},
   "outputs": [],
   "source": [
    "merged_df = merge_csvs([\"annotations_ds.csv\", \"cnn_shallow.csv\"])\n",
    "X_train, y_train, groups_train, X_test, y_test = prepare_df(merged_df)"
   ]
  },
  {
   "cell_type": "code",
   "execution_count": null,
   "metadata": {},
   "outputs": [],
   "source": [
    "# Tune models\n",
    "best_xgb_model, best_xgb_params = tune_model(XGBClassifier(eval_metric=\"mlogloss\"), xgb_param_distributions, X_train, y_train, groups_train, \"XGBoost\")\n",
    "best_rf_model, best_rf_params = tune_model(RandomForestClassifier(random_state=42), rf_param_distributions, X_train, y_train, groups_train, \"Random Forest\")"
   ]
  },
  {
   "cell_type": "code",
   "execution_count": null,
   "metadata": {},
   "outputs": [],
   "source": [
    "models = [\n",
    "    (\"XgBoost\", best_xgb_model),\n",
    "    (\"Random Forest\", best_rf_model),\n",
    "]\n",
    "plot_metrics(models, X_test, y_test)"
   ]
  },
  {
   "cell_type": "code",
   "execution_count": null,
   "metadata": {},
   "outputs": [],
   "source": [
    "merged_df = merge_csvs([\"annotations_ds.csv\", \"cnn_deep.csv\"])\n",
    "X_train, y_train, groups_train, X_test, y_test = prepare_df(merged_df)"
   ]
  },
  {
   "cell_type": "code",
   "execution_count": null,
   "metadata": {},
   "outputs": [],
   "source": [
    "# Tune models\n",
    "best_xgb_model, best_xgb_params = tune_model(XGBClassifier(eval_metric=\"mlogloss\"), xgb_param_distributions, X_train, y_train, groups_train, \"XGBoost\")\n",
    "best_rf_model, best_rf_params = tune_model(RandomForestClassifier(random_state=42), rf_param_distributions, X_train, y_train, groups_train, \"Random Forest\")"
   ]
  },
  {
   "cell_type": "code",
   "execution_count": null,
   "metadata": {},
   "outputs": [],
   "source": [
    "models = [\n",
    "    (\"XgBoost\", best_xgb_model),\n",
    "    (\"Random Forest\", best_rf_model),\n",
    "]\n",
    "plot_metrics(models, X_test, y_test)"
   ]
  },
  {
   "cell_type": "code",
   "execution_count": null,
   "metadata": {},
   "outputs": [],
   "source": [
    "merged_df = merge_csvs([\"annotations_ds.csv\", \"cnn_pca_pretrained.csv\"])\n",
    "X_train, y_train, groups_train, X_test, y_test = prepare_df(merged_df)"
   ]
  },
  {
   "cell_type": "code",
   "execution_count": null,
   "metadata": {},
   "outputs": [],
   "source": [
    "# Tune models\n",
    "best_xgb_model, best_xgb_params = tune_model(XGBClassifier(eval_metric=\"mlogloss\"), xgb_param_distributions, X_train, y_train, groups_train, \"XGBoost\")\n",
    "best_rf_model, best_rf_params = tune_model(RandomForestClassifier(random_state=42), rf_param_distributions, X_train, y_train, groups_train, \"Random Forest\")"
   ]
  },
  {
   "cell_type": "code",
   "execution_count": null,
   "metadata": {},
   "outputs": [],
   "source": [
    "models = [\n",
    "    (\"XgBoost\", best_xgb_model),\n",
    "    (\"Random Forest\", best_rf_model),\n",
    "]\n",
    "plot_metrics(models, X_test, y_test)"
   ]
  },
  {
   "cell_type": "markdown",
   "metadata": {},
   "source": [
    "### 5. Annotations + Radiomics + NN"
   ]
  },
  {
   "cell_type": "code",
   "execution_count": null,
   "metadata": {},
   "outputs": [],
   "source": [
    "merged_df = merge_csvs([\"annotations_ds.csv\", \"radiomics.csv\", \"cnn_shallow.csv\"]) #use best nn dataframe\n",
    "X_train, y_train, groups_train, X_test, y_test = prepare_df(merged_df)"
   ]
  },
  {
   "cell_type": "code",
   "execution_count": null,
   "metadata": {},
   "outputs": [],
   "source": [
    "# Tune models\n",
    "best_xgb_model, best_xgb_params = tune_model(XGBClassifier(eval_metric=\"mlogloss\"), xgb_param_distributions, X_train, y_train, groups_train, \"XGBoost\")\n",
    "best_rf_model, best_rf_params = tune_model(RandomForestClassifier(random_state=42), rf_param_distributions, X_train, y_train, groups_train, \"Random Forest\")"
   ]
  },
  {
   "cell_type": "code",
   "execution_count": null,
   "metadata": {},
   "outputs": [],
   "source": [
    "models = [\n",
    "    (\"XgBoost\", best_xgb_model),\n",
    "    (\"Random Forest\", best_rf_model),\n",
    "]\n",
    "plot_metrics(models, X_test, y_test)"
   ]
  },
  {
   "cell_type": "markdown",
   "metadata": {},
   "source": [
    "### 5. Annotations + Sound"
   ]
  },
  {
   "cell_type": "markdown",
   "metadata": {},
   "source": [
    "### 6. Annotations + Radiomics + Sound"
   ]
  },
  {
   "cell_type": "markdown",
   "metadata": {},
   "source": [
    "### 7. Annotations + NN + Sound"
   ]
  },
  {
   "cell_type": "markdown",
   "metadata": {},
   "source": [
    "### 8. Annotations + Radiomics + NN + Sound"
   ]
  },
  {
   "cell_type": "markdown",
   "metadata": {},
   "source": [
    "---"
   ]
  },
  {
   "cell_type": "markdown",
   "metadata": {},
   "source": [
    "## Discussion and Conclusions"
   ]
  },
  {
   "cell_type": "markdown",
   "metadata": {},
   "source": [
    "---"
   ]
  },
  {
   "cell_type": "markdown",
   "metadata": {},
   "source": [
    "## References"
   ]
  },
  {
   "cell_type": "markdown",
   "metadata": {},
   "source": [
    "- [1] Cellina, M., Cacioppa, L.M., Cè, M., Chiarpenello, V., Costa, M., Vincenzo, Z., Pais, D., Bausano, M.V., Rossini, N., Bruno, A. and Floridi, C. (2023). Artificial Intelligence in Lung Cancer Screening: The Future Is Now. Cancers, [online] 15(17), p.4344. doi:https://doi.org/10.3390/cancers15174344."
   ]
  },
  {
   "cell_type": "markdown",
   "metadata": {},
   "source": [
    "- [2] Lv, E., Liu, W., Wen, P. and Kang, X. (2021). Classification of Benign and Malignant Lung Nodules Based on Deep Convolutional Network Feature Extraction. Journal of Healthcare Engineering, 2021, pp.1–11. doi:https://doi.org/10.1155/2021/8769652."
   ]
  },
  {
   "cell_type": "markdown",
   "metadata": {},
   "source": [
    "- [3] Lee, G., Park, H., Bak, S.H. and Lee, H.Y. (2020). Radiomics in Lung Cancer from Basic to Advanced: Current Status and Future Directions. Korean Journal of Radiology, 21(2), p.159. doi:https://doi.org/10.3348/kjr.2019.0630."
   ]
  },
  {
   "cell_type": "markdown",
   "metadata": {},
   "source": [
    "- [4] Causey, J.L., Zhang, J., Ma, S., Jiang, B., Qualls, J.A., Politte, D.G., Prior, F., Zhang, S. and Huang, X. (2018). Highly accurate model for prediction of lung nodule malignancy with CT scans. Scientific Reports, 8(1). doi:https://doi.org/10.1038/s41598-018-27569-w."
   ]
  },
  {
   "cell_type": "markdown",
   "metadata": {},
   "source": [
    "- [5] Bhattacharjee, A., Sameh Rabea, Bhattacharjee, A., Elkaeed, E.B., R. Murugan, Refat, M., Ram Kumar Sahu, Shazly, G.A. and Salem, M. (2023). A multi-class deep learning model for early lung cancer and chronic kidney disease detection using computed tomography images. Frontiers in oncology, 13. doi:https://doi.org/10.3389/fonc.2023.1193746."
   ]
  },
  {
   "cell_type": "markdown",
   "metadata": {},
   "source": [
    "- Github.io. (2018). Scan — pylidc  documentation. [online] Available at: https://pylidc.github.io/scan.html [Accessed 15 Oct. 2024]."
   ]
  }
 ],
 "metadata": {
  "kernelspec": {
   "display_name": "base",
   "language": "python",
   "name": "python3"
  },
  "language_info": {
   "codemirror_mode": {
    "name": "ipython",
    "version": 3
   },
   "file_extension": ".py",
   "mimetype": "text/x-python",
   "name": "python",
   "nbconvert_exporter": "python",
   "pygments_lexer": "ipython3",
   "version": "3.11.4"
  }
 },
 "nbformat": 4,
 "nbformat_minor": 2
}
