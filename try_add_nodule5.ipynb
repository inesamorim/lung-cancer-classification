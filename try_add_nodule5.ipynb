{
 "cells": [
  {
   "cell_type": "markdown",
   "metadata": {},
   "source": [
    "---\n",
    "teorias para como lidar com esta conspiração\n",
    "\n",
    "tentar (ver como)\n",
    "manter modelo 1 mas aumentar a % de (1 e) 5 pois são os q têm mais certeza\n",
    "teoria, sendo q 5 têm mais concenço sobre ser mau\n",
    "em vez de usar a média usar cada uma como sendo um nódulo diff\n",
    "\n",
    "---\n",
    "\n",
    "\n",
    "\n",
    "acrescentar mais nudulos aos já existentes\n",
    "\n",
    "guardar numero de nodulos existentes  n = ...  \n",
    "ou ver maior ID(de nódulo)\n",
    "\n",
    "nodulo para todos os nodulos :\n",
    "\n",
    "\tse classificado com malignanci == 5:\n",
    "\t\tn = multiply(nodulo, n) \n",
    "\n",
    "\n",
    "multiply(nodulo, n):\n",
    "\n",
    "\tapinião para todas as opiniões:\n",
    "\t\tse opinião == malign\n",
    "\t\t\tcriar nodulo n+1 => imagem e mascara da opinião\n",
    "\t\t\tacrescentá-la a nn_data\\images a imagem e mascara\n",
    "\t\t\tn +=1\n",
    "\treturn n\n",
    "\t\n",
    "ver como obter radiomics e annotations_ds of seperate ones(worst case add copy of the mean)"
   ]
  },
  {
   "cell_type": "code",
   "execution_count": 2,
   "metadata": {},
   "outputs": [
    {
     "name": "stderr",
     "output_type": "stream",
     "text": [
      "c:\\Users\\Daniela\\Desktop\\Fac\\3ºano\\Lab_IACD\\Project1\\lung-cancer-classification\\utils.py:20: SyntaxWarning: invalid escape sequence '\\_'\n",
      "  \"\"\"\n"
     ]
    }
   ],
   "source": [
    "import pylidc as pl\n",
    "#from pylidc.utils import consensus\n",
    "import matplotlib.pyplot as plt\n",
    "import numpy as np\n",
    "#import os\n",
    "#from pathlib import Path\n",
    "from utils import get_nodule_class, filename_from_annotation, cluster_annots"
   ]
  },
  {
   "cell_type": "code",
   "execution_count": 17,
   "metadata": {},
   "outputs": [
    {
     "name": "stdout",
     "output_type": "stream",
     "text": [
      "SELECT annotations.id AS annotations_id, annotations.scan_id AS annotations_scan_id, annotations._nodule_id AS annotations__nodule_id, annotations.subtlety AS annotations_subtlety, annotations.\"internalStructure\" AS \"annotations_internalStructure\", annotations.calcification AS annotations_calcification, annotations.sphericity AS annotations_sphericity, annotations.margin AS annotations_margin, annotations.lobulation AS annotations_lobulation, annotations.spiculation AS annotations_spiculation, annotations.texture AS annotations_texture, annotations.malignancy AS annotations_malignancy \n",
      "FROM annotations \n",
      "WHERE annotations.malignancy = ?\n"
     ]
    }
   ],
   "source": [
    "anns = pl.query(pl.Annotation).filter(pl.Annotation.malignancy == 5)\n",
    "\n",
    "'''\n",
    "print(anns.count())\n",
    "ann = anns.first()\n",
    "\n",
    "print(ann.malignancy) \n",
    "\n",
    "for ann in anns:\n",
    "    get_img(ann.scan.patient_id)\n",
    "    \n",
    "\n",
    "'''\n",
    "\n",
    "print(anns)\n"
   ]
  },
  {
   "cell_type": "code",
   "execution_count": 1,
   "metadata": {},
   "outputs": [
    {
     "name": "stdout",
     "output_type": "stream",
     "text": [
      ":)\n"
     ]
    }
   ],
   "source": [
    "print(\":)\")"
   ]
  },
  {
   "cell_type": "code",
   "execution_count": 13,
   "metadata": {},
   "outputs": [
    {
     "name": "stdout",
     "output_type": "stream",
     "text": [
      "Nodule in scan LIDC-IDRI-0007 with malignancy 5:\n",
      "Nodule details: [Annotation(id=125,scan_id=18)]\n",
      "Nodule in scan LIDC-IDRI-0020 with malignancy 5:\n",
      "Nodule details: [Annotation(id=265,scan_id=31)]\n",
      "Nodule in scan LIDC-IDRI-0029 with malignancy 5:\n",
      "Nodule details: [Annotation(id=314,scan_id=40)]\n",
      "Failed to reduce all groups to <= 4 Annotations.\n",
      "Some nodules may be close and must be grouped manually.\n",
      "ClusterError: Skipping scan LIDC-IDRI-0055 due to clustering issue.\n",
      "Nodule in scan LIDC-IDRI-0058 with malignancy 5:\n",
      "Nodule details: [Annotation(id=606,scan_id=69), Annotation(id=609,scan_id=69), Annotation(id=612,scan_id=69)]\n",
      "Nodule in scan LIDC-IDRI-0060 with malignancy 5:\n",
      "Nodule details: [Annotation(id=620,scan_id=71), Annotation(id=626,scan_id=71)]\n",
      "Nodule in scan LIDC-IDRI-0060 with malignancy 5:\n",
      "Nodule details: [Annotation(id=625,scan_id=71)]\n",
      "Nodule in scan LIDC-IDRI-0072 with malignancy 5:\n",
      "Nodule details: [Annotation(id=725,scan_id=82), Annotation(id=726,scan_id=82), Annotation(id=727,scan_id=82)]\n",
      "Nodule in scan LIDC-IDRI-0075 with malignancy 5:\n",
      "Nodule details: [Annotation(id=739,scan_id=85), Annotation(id=740,scan_id=85), Annotation(id=746,scan_id=85)]\n",
      "Nodule in scan LIDC-IDRI-0080 with malignancy 5:\n",
      "Nodule details: [Annotation(id=760,scan_id=88), Annotation(id=761,scan_id=88), Annotation(id=764,scan_id=88), Annotation(id=765,scan_id=88)]\n",
      "Failed to reduce all groups to <= 4 Annotations.\n",
      "Some nodules may be close and must be grouped manually.\n",
      "ClusterError: Skipping scan LIDC-IDRI-0092 due to clustering issue.\n",
      "Failed to reduce all groups to <= 4 Annotations.\n",
      "Some nodules may be close and must be grouped manually.\n",
      "ClusterError: Skipping scan LIDC-IDRI-0137 due to clustering issue.\n",
      "Nodule in scan LIDC-IDRI-0139 with malignancy 5:\n",
      "Nodule details: [Annotation(id=1197,scan_id=142), Annotation(id=1201,scan_id=142)]\n",
      "Failed to reduce all groups to <= 4 Annotations.\n",
      "Some nodules may be close and must be grouped manually.\n",
      "ClusterError: Skipping scan LIDC-IDRI-0204 due to clustering issue.\n",
      "Failed to reduce all groups to <= 4 Annotations.\n",
      "Some nodules may be close and must be grouped manually.\n",
      "ClusterError: Skipping scan LIDC-IDRI-0252 due to clustering issue.\n",
      "Nodule in scan LIDC-IDRI-0267 with malignancy 5:\n",
      "Nodule details: [Annotation(id=2056,scan_id=267), Annotation(id=2058,scan_id=267), Annotation(id=2059,scan_id=267)]\n",
      "Nodule in scan LIDC-IDRI-0311 with malignancy 5:\n",
      "Nodule details: [Annotation(id=2275,scan_id=311), Annotation(id=2277,scan_id=311)]\n",
      "Nodule in scan LIDC-IDRI-0313 with malignancy 5:\n",
      "Nodule details: [Annotation(id=2291,scan_id=313), Annotation(id=2292,scan_id=313), Annotation(id=2293,scan_id=313), Annotation(id=2294,scan_id=313)]\n",
      "Nodule in scan LIDC-IDRI-0332 with malignancy 5:\n",
      "Nodule details: [Annotation(id=2388,scan_id=333), Annotation(id=2391,scan_id=333), Annotation(id=2393,scan_id=333), Annotation(id=2394,scan_id=333)]\n",
      "Failed to reduce all groups to <= 4 Annotations.\n",
      "Some nodules may be close and must be grouped manually.\n",
      "ClusterError: Skipping scan LIDC-IDRI-0332 due to clustering issue.\n",
      "Nodule in scan LIDC-IDRI-0337 with malignancy 5:\n",
      "Nodule details: [Annotation(id=2438,scan_id=339), Annotation(id=2440,scan_id=339), Annotation(id=2442,scan_id=339), Annotation(id=2444,scan_id=339)]\n",
      "Failed to reduce all groups to <= 4 Annotations.\n",
      "Some nodules may be close and must be grouped manually.\n",
      "ClusterError: Skipping scan LIDC-IDRI-0340 due to clustering issue.\n",
      "Failed to reduce all groups to <= 4 Annotations.\n",
      "Some nodules may be close and must be grouped manually.\n",
      "ClusterError: Skipping scan LIDC-IDRI-0366 due to clustering issue.\n"
     ]
    },
    {
     "ename": "KeyboardInterrupt",
     "evalue": "",
     "output_type": "error",
     "traceback": [
      "\u001b[1;31m---------------------------------------------------------------------------\u001b[0m",
      "\u001b[1;31mKeyboardInterrupt\u001b[0m                         Traceback (most recent call last)",
      "Cell \u001b[1;32mIn[13], line 9\u001b[0m\n\u001b[0;32m      5\u001b[0m \u001b[38;5;28;01mfor\u001b[39;00m scan \u001b[38;5;129;01min\u001b[39;00m scans:\n\u001b[0;32m      7\u001b[0m     \u001b[38;5;28;01mtry\u001b[39;00m:\n\u001b[0;32m      8\u001b[0m         \u001b[38;5;66;03m# Get all nodules for the scan with increased tolerance\u001b[39;00m\n\u001b[1;32m----> 9\u001b[0m         nodules \u001b[38;5;241m=\u001b[39m scan\u001b[38;5;241m.\u001b[39mcluster_annotations(tol\u001b[38;5;241m=\u001b[39m\u001b[38;5;241m10\u001b[39m)  \u001b[38;5;66;03m# Increase the tolerance if needed\u001b[39;00m\n\u001b[0;32m     10\u001b[0m     \u001b[38;5;28;01mexcept\u001b[39;00m ClusterError:\n\u001b[0;32m     11\u001b[0m         \u001b[38;5;28mprint\u001b[39m(\u001b[38;5;124mf\u001b[39m\u001b[38;5;124m\"\u001b[39m\u001b[38;5;124mClusterError: Skipping scan \u001b[39m\u001b[38;5;132;01m{\u001b[39;00mscan\u001b[38;5;241m.\u001b[39mpatient_id\u001b[38;5;132;01m}\u001b[39;00m\u001b[38;5;124m due to clustering issue.\u001b[39m\u001b[38;5;124m\"\u001b[39m)\n",
      "File \u001b[1;32mc:\\Users\\Daniela\\Desktop\\Fac\\3ºano\\Lab_IACD\\Project1\\lung-cancer-classification\\pylidc\\Scan.py:443\u001b[0m, in \u001b[0;36mScan.cluster_annotations\u001b[1;34m(self, metric, tol, factor, min_tol, return_distance_matrix, verbose)\u001b[0m\n\u001b[0;32m    441\u001b[0m \u001b[38;5;28;01mfor\u001b[39;00m i \u001b[38;5;129;01min\u001b[39;00m \u001b[38;5;28mrange\u001b[39m(N):\n\u001b[0;32m    442\u001b[0m     \u001b[38;5;28;01mfor\u001b[39;00m j \u001b[38;5;129;01min\u001b[39;00m \u001b[38;5;28mrange\u001b[39m(i\u001b[38;5;241m+\u001b[39m\u001b[38;5;241m1\u001b[39m,N):\n\u001b[1;32m--> 443\u001b[0m         D[i,j] \u001b[38;5;241m=\u001b[39m D[j,i] \u001b[38;5;241m=\u001b[39m metric(\u001b[38;5;28mself\u001b[39m\u001b[38;5;241m.\u001b[39mannotations[i],\n\u001b[0;32m    444\u001b[0m                                  \u001b[38;5;28mself\u001b[39m\u001b[38;5;241m.\u001b[39mannotations[j])\n\u001b[0;32m    446\u001b[0m adjacency \u001b[38;5;241m=\u001b[39m D \u001b[38;5;241m<\u001b[39m\u001b[38;5;241m=\u001b[39m tol\n\u001b[0;32m    447\u001b[0m nnods, cids \u001b[38;5;241m=\u001b[39m connected_components(adjacency, directed\u001b[38;5;241m=\u001b[39m\u001b[38;5;28;01mFalse\u001b[39;00m)\n",
      "File \u001b[1;32mc:\\Users\\Daniela\\Desktop\\Fac\\3ºano\\Lab_IACD\\Project1\\lung-cancer-classification\\pylidc\\annotation_distance_metrics.py:27\u001b[0m, in \u001b[0;36m<lambda>\u001b[1;34m(a, b)\u001b[0m\n\u001b[0;32m     24\u001b[0m     \u001b[38;5;28;01melse\u001b[39;00m:\n\u001b[0;32m     25\u001b[0m         \u001b[38;5;28;01mraise\u001b[39;00m \u001b[38;5;167;01mValueError\u001b[39;00m(\u001b[38;5;124m'\u001b[39m\u001b[38;5;124minvalid `which` value.\u001b[39m\u001b[38;5;124m'\u001b[39m)\n\u001b[1;32m---> 27\u001b[0m metrics[\u001b[38;5;124m'\u001b[39m\u001b[38;5;124mmin\u001b[39m\u001b[38;5;124m'\u001b[39m] \u001b[38;5;241m=\u001b[39m \u001b[38;5;28;01mlambda\u001b[39;00m a,b: pairdist(a,b,\u001b[38;5;124m'\u001b[39m\u001b[38;5;124mmin\u001b[39m\u001b[38;5;124m'\u001b[39m)\n\u001b[0;32m     28\u001b[0m metrics[\u001b[38;5;124m'\u001b[39m\u001b[38;5;124mmax\u001b[39m\u001b[38;5;124m'\u001b[39m] \u001b[38;5;241m=\u001b[39m \u001b[38;5;28;01mlambda\u001b[39;00m a,b: pairdist(a,b,\u001b[38;5;124m'\u001b[39m\u001b[38;5;124mmax\u001b[39m\u001b[38;5;124m'\u001b[39m)\n\u001b[0;32m     29\u001b[0m metrics[\u001b[38;5;124m'\u001b[39m\u001b[38;5;124mavg\u001b[39m\u001b[38;5;124m'\u001b[39m] \u001b[38;5;241m=\u001b[39m \u001b[38;5;28;01mlambda\u001b[39;00m a,b: pairdist(a,b,\u001b[38;5;124m'\u001b[39m\u001b[38;5;124mavg\u001b[39m\u001b[38;5;124m'\u001b[39m)\n",
      "File \u001b[1;32mc:\\Users\\Daniela\\Desktop\\Fac\\3ºano\\Lab_IACD\\Project1\\lung-cancer-classification\\pylidc\\annotation_distance_metrics.py:16\u001b[0m, in \u001b[0;36mpairdist\u001b[1;34m(ann1, ann2, which)\u001b[0m\n\u001b[0;32m      6\u001b[0m \u001b[38;5;28;01mdef\u001b[39;00m \u001b[38;5;21mpairdist\u001b[39m(ann1, ann2, which):\n\u001b[0;32m      7\u001b[0m \u001b[38;5;250m    \u001b[39m\u001b[38;5;124;03m\"\"\"\u001b[39;00m\n\u001b[0;32m      8\u001b[0m \u001b[38;5;124;03m    Compute the pairwise euclidean distance between \u001b[39;00m\n\u001b[0;32m      9\u001b[0m \u001b[38;5;124;03m    the contour boundary points, and return the \u001b[39;00m\n\u001b[1;32m   (...)\u001b[0m\n\u001b[0;32m     13\u001b[0m \u001b[38;5;124;03m        One of 'min', 'max', or 'avg'.\u001b[39;00m\n\u001b[0;32m     14\u001b[0m \u001b[38;5;124;03m    \"\"\"\u001b[39;00m\n\u001b[0;32m     15\u001b[0m     dists \u001b[38;5;241m=\u001b[39m cdist(ann1\u001b[38;5;241m.\u001b[39mcontours_matrix,\n\u001b[1;32m---> 16\u001b[0m                   ann2\u001b[38;5;241m.\u001b[39mcontours_matrix)\n\u001b[0;32m     18\u001b[0m     \u001b[38;5;28;01mif\u001b[39;00m   which \u001b[38;5;241m==\u001b[39m \u001b[38;5;124m'\u001b[39m\u001b[38;5;124mmin\u001b[39m\u001b[38;5;124m'\u001b[39m:\n\u001b[0;32m     19\u001b[0m         \u001b[38;5;28;01mreturn\u001b[39;00m dists\u001b[38;5;241m.\u001b[39mmin()\n",
      "File \u001b[1;32mc:\\Users\\Daniela\\Desktop\\Fac\\3ºano\\Lab_IACD\\Project1\\lung-cancer-classification\\pylidc\\Annotation.py:969\u001b[0m, in \u001b[0;36mAnnotation.contours_matrix\u001b[1;34m(self)\u001b[0m\n\u001b[0;32m    963\u001b[0m \u001b[38;5;129m@property\u001b[39m\n\u001b[0;32m    964\u001b[0m \u001b[38;5;28;01mdef\u001b[39;00m \u001b[38;5;21mcontours_matrix\u001b[39m(\u001b[38;5;28mself\u001b[39m):\n\u001b[0;32m    965\u001b[0m \u001b[38;5;250m    \u001b[39m\u001b[38;5;124;03m\"\"\"\u001b[39;00m\n\u001b[0;32m    966\u001b[0m \u001b[38;5;124;03m    All the contour index values a 3D numpy array.\u001b[39;00m\n\u001b[0;32m    967\u001b[0m \u001b[38;5;124;03m    \"\"\"\u001b[39;00m\n\u001b[0;32m    968\u001b[0m     \u001b[38;5;28;01mreturn\u001b[39;00m np\u001b[38;5;241m.\u001b[39mvstack([c\u001b[38;5;241m.\u001b[39mto_matrix(include_k\u001b[38;5;241m=\u001b[39m\u001b[38;5;28;01mTrue\u001b[39;00m)\n\u001b[1;32m--> 969\u001b[0m                             \u001b[38;5;28;01mfor\u001b[39;00m c \u001b[38;5;129;01min\u001b[39;00m \u001b[38;5;28msorted\u001b[39m(\u001b[38;5;28mself\u001b[39m\u001b[38;5;241m.\u001b[39mcontours,\n\u001b[0;32m    970\u001b[0m                                     key\u001b[38;5;241m=\u001b[39m\u001b[38;5;28;01mlambda\u001b[39;00m c: c\u001b[38;5;241m.\u001b[39mimage_z_position)])\n",
      "File \u001b[1;32mc:\\Users\\Daniela\\Documents\\Fisc\\envs\\base2\\Lib\\site-packages\\sqlalchemy\\orm\\attributes.py:566\u001b[0m, in \u001b[0;36mInstrumentedAttribute.__get__\u001b[1;34m(self, instance, owner)\u001b[0m\n\u001b[0;32m    564\u001b[0m \u001b[38;5;28;01mexcept\u001b[39;00m \u001b[38;5;167;01mAttributeError\u001b[39;00m \u001b[38;5;28;01mas\u001b[39;00m err:\n\u001b[0;32m    565\u001b[0m     \u001b[38;5;28;01mraise\u001b[39;00m orm_exc\u001b[38;5;241m.\u001b[39mUnmappedInstanceError(instance) \u001b[38;5;28;01mfrom\u001b[39;00m \u001b[38;5;21;01merr\u001b[39;00m\n\u001b[1;32m--> 566\u001b[0m \u001b[38;5;28;01mreturn\u001b[39;00m \u001b[38;5;28mself\u001b[39m\u001b[38;5;241m.\u001b[39mimpl\u001b[38;5;241m.\u001b[39mget(state, dict_)\n",
      "File \u001b[1;32mc:\\Users\\Daniela\\Documents\\Fisc\\envs\\base2\\Lib\\site-packages\\sqlalchemy\\orm\\attributes.py:1086\u001b[0m, in \u001b[0;36mAttributeImpl.get\u001b[1;34m(self, state, dict_, passive)\u001b[0m\n\u001b[0;32m   1083\u001b[0m \u001b[38;5;28;01mif\u001b[39;00m \u001b[38;5;129;01mnot\u001b[39;00m passive \u001b[38;5;241m&\u001b[39m CALLABLES_OK:\n\u001b[0;32m   1084\u001b[0m     \u001b[38;5;28;01mreturn\u001b[39;00m PASSIVE_NO_RESULT\n\u001b[1;32m-> 1086\u001b[0m value \u001b[38;5;241m=\u001b[39m \u001b[38;5;28mself\u001b[39m\u001b[38;5;241m.\u001b[39m_fire_loader_callables(state, key, passive)\n\u001b[0;32m   1088\u001b[0m \u001b[38;5;28;01mif\u001b[39;00m value \u001b[38;5;129;01mis\u001b[39;00m PASSIVE_NO_RESULT \u001b[38;5;129;01mor\u001b[39;00m value \u001b[38;5;129;01mis\u001b[39;00m NO_VALUE:\n\u001b[0;32m   1089\u001b[0m     \u001b[38;5;28;01mreturn\u001b[39;00m value\n",
      "File \u001b[1;32mc:\\Users\\Daniela\\Documents\\Fisc\\envs\\base2\\Lib\\site-packages\\sqlalchemy\\orm\\attributes.py:1121\u001b[0m, in \u001b[0;36mAttributeImpl._fire_loader_callables\u001b[1;34m(self, state, key, passive)\u001b[0m\n\u001b[0;32m   1119\u001b[0m     \u001b[38;5;28;01mreturn\u001b[39;00m callable_(state, passive)\n\u001b[0;32m   1120\u001b[0m \u001b[38;5;28;01melif\u001b[39;00m \u001b[38;5;28mself\u001b[39m\u001b[38;5;241m.\u001b[39mcallable_:\n\u001b[1;32m-> 1121\u001b[0m     \u001b[38;5;28;01mreturn\u001b[39;00m \u001b[38;5;28mself\u001b[39m\u001b[38;5;241m.\u001b[39mcallable_(state, passive)\n\u001b[0;32m   1122\u001b[0m \u001b[38;5;28;01melse\u001b[39;00m:\n\u001b[0;32m   1123\u001b[0m     \u001b[38;5;28;01mreturn\u001b[39;00m ATTR_EMPTY\n",
      "File \u001b[1;32mc:\\Users\\Daniela\\Documents\\Fisc\\envs\\base2\\Lib\\site-packages\\sqlalchemy\\orm\\strategies.py:967\u001b[0m, in \u001b[0;36mLazyLoader._load_for_state\u001b[1;34m(self, state, passive, loadopt, extra_criteria, extra_options, alternate_effective_path, execution_options)\u001b[0m\n\u001b[0;32m    961\u001b[0m     \u001b[38;5;28;01melif\u001b[39;00m (\n\u001b[0;32m    962\u001b[0m         \u001b[38;5;129;01mnot\u001b[39;00m passive \u001b[38;5;241m&\u001b[39m PassiveFlag\u001b[38;5;241m.\u001b[39mSQL_OK\n\u001b[0;32m    963\u001b[0m         \u001b[38;5;129;01mor\u001b[39;00m \u001b[38;5;129;01mnot\u001b[39;00m passive \u001b[38;5;241m&\u001b[39m PassiveFlag\u001b[38;5;241m.\u001b[39mRELATED_OBJECT_OK\n\u001b[0;32m    964\u001b[0m     ):\n\u001b[0;32m    965\u001b[0m         \u001b[38;5;28;01mreturn\u001b[39;00m LoaderCallableStatus\u001b[38;5;241m.\u001b[39mPASSIVE_NO_RESULT\n\u001b[1;32m--> 967\u001b[0m \u001b[38;5;28;01mreturn\u001b[39;00m \u001b[38;5;28mself\u001b[39m\u001b[38;5;241m.\u001b[39m_emit_lazyload(\n\u001b[0;32m    968\u001b[0m     session,\n\u001b[0;32m    969\u001b[0m     state,\n\u001b[0;32m    970\u001b[0m     primary_key_identity,\n\u001b[0;32m    971\u001b[0m     passive,\n\u001b[0;32m    972\u001b[0m     loadopt,\n\u001b[0;32m    973\u001b[0m     extra_criteria,\n\u001b[0;32m    974\u001b[0m     extra_options,\n\u001b[0;32m    975\u001b[0m     alternate_effective_path,\n\u001b[0;32m    976\u001b[0m     execution_options,\n\u001b[0;32m    977\u001b[0m )\n",
      "File \u001b[1;32mc:\\Users\\Daniela\\Documents\\Fisc\\envs\\base2\\Lib\\site-packages\\sqlalchemy\\orm\\strategies.py:1130\u001b[0m, in \u001b[0;36mLazyLoader._emit_lazyload\u001b[1;34m(self, session, state, primary_key_identity, passive, loadopt, extra_criteria, extra_options, alternate_effective_path, execution_options)\u001b[0m\n\u001b[0;32m   1126\u001b[0m     \u001b[38;5;28mself\u001b[39m\u001b[38;5;241m.\u001b[39m_invoke_raise_load(state, passive, \u001b[38;5;124m\"\u001b[39m\u001b[38;5;124mraise_on_sql\u001b[39m\u001b[38;5;124m\"\u001b[39m)\n\u001b[0;32m   1128\u001b[0m stmt\u001b[38;5;241m.\u001b[39m_where_criteria \u001b[38;5;241m=\u001b[39m (lazy_clause,)\n\u001b[1;32m-> 1130\u001b[0m result \u001b[38;5;241m=\u001b[39m session\u001b[38;5;241m.\u001b[39mexecute(\n\u001b[0;32m   1131\u001b[0m     stmt, params, execution_options\u001b[38;5;241m=\u001b[39mexecution_options\n\u001b[0;32m   1132\u001b[0m )\n\u001b[0;32m   1134\u001b[0m result \u001b[38;5;241m=\u001b[39m result\u001b[38;5;241m.\u001b[39munique()\u001b[38;5;241m.\u001b[39mscalars()\u001b[38;5;241m.\u001b[39mall()\n\u001b[0;32m   1136\u001b[0m \u001b[38;5;28;01mif\u001b[39;00m \u001b[38;5;28mself\u001b[39m\u001b[38;5;241m.\u001b[39muselist:\n",
      "File \u001b[1;32mc:\\Users\\Daniela\\Documents\\Fisc\\envs\\base2\\Lib\\site-packages\\sqlalchemy\\orm\\session.py:2362\u001b[0m, in \u001b[0;36mSession.execute\u001b[1;34m(self, statement, params, execution_options, bind_arguments, _parent_execute_state, _add_event)\u001b[0m\n\u001b[0;32m   2301\u001b[0m \u001b[38;5;28;01mdef\u001b[39;00m \u001b[38;5;21mexecute\u001b[39m(\n\u001b[0;32m   2302\u001b[0m     \u001b[38;5;28mself\u001b[39m,\n\u001b[0;32m   2303\u001b[0m     statement: Executable,\n\u001b[1;32m   (...)\u001b[0m\n\u001b[0;32m   2309\u001b[0m     _add_event: Optional[Any] \u001b[38;5;241m=\u001b[39m \u001b[38;5;28;01mNone\u001b[39;00m,\n\u001b[0;32m   2310\u001b[0m ) \u001b[38;5;241m-\u001b[39m\u001b[38;5;241m>\u001b[39m Result[Any]:\n\u001b[0;32m   2311\u001b[0m \u001b[38;5;250m    \u001b[39m\u001b[38;5;124mr\u001b[39m\u001b[38;5;124;03m\"\"\"Execute a SQL expression construct.\u001b[39;00m\n\u001b[0;32m   2312\u001b[0m \n\u001b[0;32m   2313\u001b[0m \u001b[38;5;124;03m    Returns a :class:`_engine.Result` object representing\u001b[39;00m\n\u001b[1;32m   (...)\u001b[0m\n\u001b[0;32m   2360\u001b[0m \n\u001b[0;32m   2361\u001b[0m \u001b[38;5;124;03m    \"\"\"\u001b[39;00m\n\u001b[1;32m-> 2362\u001b[0m     \u001b[38;5;28;01mreturn\u001b[39;00m \u001b[38;5;28mself\u001b[39m\u001b[38;5;241m.\u001b[39m_execute_internal(\n\u001b[0;32m   2363\u001b[0m         statement,\n\u001b[0;32m   2364\u001b[0m         params,\n\u001b[0;32m   2365\u001b[0m         execution_options\u001b[38;5;241m=\u001b[39mexecution_options,\n\u001b[0;32m   2366\u001b[0m         bind_arguments\u001b[38;5;241m=\u001b[39mbind_arguments,\n\u001b[0;32m   2367\u001b[0m         _parent_execute_state\u001b[38;5;241m=\u001b[39m_parent_execute_state,\n\u001b[0;32m   2368\u001b[0m         _add_event\u001b[38;5;241m=\u001b[39m_add_event,\n\u001b[0;32m   2369\u001b[0m     )\n",
      "File \u001b[1;32mc:\\Users\\Daniela\\Documents\\Fisc\\envs\\base2\\Lib\\site-packages\\sqlalchemy\\orm\\session.py:2247\u001b[0m, in \u001b[0;36mSession._execute_internal\u001b[1;34m(self, statement, params, execution_options, bind_arguments, _parent_execute_state, _add_event, _scalar_result)\u001b[0m\n\u001b[0;32m   2242\u001b[0m     \u001b[38;5;28;01mreturn\u001b[39;00m conn\u001b[38;5;241m.\u001b[39mscalar(\n\u001b[0;32m   2243\u001b[0m         statement, params \u001b[38;5;129;01mor\u001b[39;00m {}, execution_options\u001b[38;5;241m=\u001b[39mexecution_options\n\u001b[0;32m   2244\u001b[0m     )\n\u001b[0;32m   2246\u001b[0m \u001b[38;5;28;01mif\u001b[39;00m compile_state_cls:\n\u001b[1;32m-> 2247\u001b[0m     result: Result[Any] \u001b[38;5;241m=\u001b[39m compile_state_cls\u001b[38;5;241m.\u001b[39morm_execute_statement(\n\u001b[0;32m   2248\u001b[0m         \u001b[38;5;28mself\u001b[39m,\n\u001b[0;32m   2249\u001b[0m         statement,\n\u001b[0;32m   2250\u001b[0m         params \u001b[38;5;129;01mor\u001b[39;00m {},\n\u001b[0;32m   2251\u001b[0m         execution_options,\n\u001b[0;32m   2252\u001b[0m         bind_arguments,\n\u001b[0;32m   2253\u001b[0m         conn,\n\u001b[0;32m   2254\u001b[0m     )\n\u001b[0;32m   2255\u001b[0m \u001b[38;5;28;01melse\u001b[39;00m:\n\u001b[0;32m   2256\u001b[0m     result \u001b[38;5;241m=\u001b[39m conn\u001b[38;5;241m.\u001b[39mexecute(\n\u001b[0;32m   2257\u001b[0m         statement, params \u001b[38;5;129;01mor\u001b[39;00m {}, execution_options\u001b[38;5;241m=\u001b[39mexecution_options\n\u001b[0;32m   2258\u001b[0m     )\n",
      "File \u001b[1;32mc:\\Users\\Daniela\\Documents\\Fisc\\envs\\base2\\Lib\\site-packages\\sqlalchemy\\orm\\context.py:305\u001b[0m, in \u001b[0;36mAbstractORMCompileState.orm_execute_statement\u001b[1;34m(cls, session, statement, params, execution_options, bind_arguments, conn)\u001b[0m\n\u001b[0;32m    295\u001b[0m \u001b[38;5;129m@classmethod\u001b[39m\n\u001b[0;32m    296\u001b[0m \u001b[38;5;28;01mdef\u001b[39;00m \u001b[38;5;21morm_execute_statement\u001b[39m(\n\u001b[0;32m    297\u001b[0m     \u001b[38;5;28mcls\u001b[39m,\n\u001b[1;32m   (...)\u001b[0m\n\u001b[0;32m    303\u001b[0m     conn,\n\u001b[0;32m    304\u001b[0m ) \u001b[38;5;241m-\u001b[39m\u001b[38;5;241m>\u001b[39m Result:\n\u001b[1;32m--> 305\u001b[0m     result \u001b[38;5;241m=\u001b[39m conn\u001b[38;5;241m.\u001b[39mexecute(\n\u001b[0;32m    306\u001b[0m         statement, params \u001b[38;5;129;01mor\u001b[39;00m {}, execution_options\u001b[38;5;241m=\u001b[39mexecution_options\n\u001b[0;32m    307\u001b[0m     )\n\u001b[0;32m    308\u001b[0m     \u001b[38;5;28;01mreturn\u001b[39;00m \u001b[38;5;28mcls\u001b[39m\u001b[38;5;241m.\u001b[39morm_setup_cursor_result(\n\u001b[0;32m    309\u001b[0m         session,\n\u001b[0;32m    310\u001b[0m         statement,\n\u001b[1;32m   (...)\u001b[0m\n\u001b[0;32m    314\u001b[0m         result,\n\u001b[0;32m    315\u001b[0m     )\n",
      "File \u001b[1;32mc:\\Users\\Daniela\\Documents\\Fisc\\envs\\base2\\Lib\\site-packages\\sqlalchemy\\engine\\base.py:1418\u001b[0m, in \u001b[0;36mConnection.execute\u001b[1;34m(self, statement, parameters, execution_options)\u001b[0m\n\u001b[0;32m   1416\u001b[0m     \u001b[38;5;28;01mraise\u001b[39;00m exc\u001b[38;5;241m.\u001b[39mObjectNotExecutableError(statement) \u001b[38;5;28;01mfrom\u001b[39;00m \u001b[38;5;21;01merr\u001b[39;00m\n\u001b[0;32m   1417\u001b[0m \u001b[38;5;28;01melse\u001b[39;00m:\n\u001b[1;32m-> 1418\u001b[0m     \u001b[38;5;28;01mreturn\u001b[39;00m meth(\n\u001b[0;32m   1419\u001b[0m         \u001b[38;5;28mself\u001b[39m,\n\u001b[0;32m   1420\u001b[0m         distilled_parameters,\n\u001b[0;32m   1421\u001b[0m         execution_options \u001b[38;5;129;01mor\u001b[39;00m NO_OPTIONS,\n\u001b[0;32m   1422\u001b[0m     )\n",
      "File \u001b[1;32mc:\\Users\\Daniela\\Documents\\Fisc\\envs\\base2\\Lib\\site-packages\\sqlalchemy\\sql\\elements.py:515\u001b[0m, in \u001b[0;36mClauseElement._execute_on_connection\u001b[1;34m(self, connection, distilled_params, execution_options)\u001b[0m\n\u001b[0;32m    513\u001b[0m     \u001b[38;5;28;01mif\u001b[39;00m TYPE_CHECKING:\n\u001b[0;32m    514\u001b[0m         \u001b[38;5;28;01massert\u001b[39;00m \u001b[38;5;28misinstance\u001b[39m(\u001b[38;5;28mself\u001b[39m, Executable)\n\u001b[1;32m--> 515\u001b[0m     \u001b[38;5;28;01mreturn\u001b[39;00m connection\u001b[38;5;241m.\u001b[39m_execute_clauseelement(\n\u001b[0;32m    516\u001b[0m         \u001b[38;5;28mself\u001b[39m, distilled_params, execution_options\n\u001b[0;32m    517\u001b[0m     )\n\u001b[0;32m    518\u001b[0m \u001b[38;5;28;01melse\u001b[39;00m:\n\u001b[0;32m    519\u001b[0m     \u001b[38;5;28;01mraise\u001b[39;00m exc\u001b[38;5;241m.\u001b[39mObjectNotExecutableError(\u001b[38;5;28mself\u001b[39m)\n",
      "File \u001b[1;32mc:\\Users\\Daniela\\Documents\\Fisc\\envs\\base2\\Lib\\site-packages\\sqlalchemy\\engine\\base.py:1640\u001b[0m, in \u001b[0;36mConnection._execute_clauseelement\u001b[1;34m(self, elem, distilled_parameters, execution_options)\u001b[0m\n\u001b[0;32m   1628\u001b[0m compiled_cache: Optional[CompiledCacheType] \u001b[38;5;241m=\u001b[39m execution_options\u001b[38;5;241m.\u001b[39mget(\n\u001b[0;32m   1629\u001b[0m     \u001b[38;5;124m\"\u001b[39m\u001b[38;5;124mcompiled_cache\u001b[39m\u001b[38;5;124m\"\u001b[39m, \u001b[38;5;28mself\u001b[39m\u001b[38;5;241m.\u001b[39mengine\u001b[38;5;241m.\u001b[39m_compiled_cache\n\u001b[0;32m   1630\u001b[0m )\n\u001b[0;32m   1632\u001b[0m compiled_sql, extracted_params, cache_hit \u001b[38;5;241m=\u001b[39m elem\u001b[38;5;241m.\u001b[39m_compile_w_cache(\n\u001b[0;32m   1633\u001b[0m     dialect\u001b[38;5;241m=\u001b[39mdialect,\n\u001b[0;32m   1634\u001b[0m     compiled_cache\u001b[38;5;241m=\u001b[39mcompiled_cache,\n\u001b[1;32m   (...)\u001b[0m\n\u001b[0;32m   1638\u001b[0m     linting\u001b[38;5;241m=\u001b[39m\u001b[38;5;28mself\u001b[39m\u001b[38;5;241m.\u001b[39mdialect\u001b[38;5;241m.\u001b[39mcompiler_linting \u001b[38;5;241m|\u001b[39m compiler\u001b[38;5;241m.\u001b[39mWARN_LINTING,\n\u001b[0;32m   1639\u001b[0m )\n\u001b[1;32m-> 1640\u001b[0m ret \u001b[38;5;241m=\u001b[39m \u001b[38;5;28mself\u001b[39m\u001b[38;5;241m.\u001b[39m_execute_context(\n\u001b[0;32m   1641\u001b[0m     dialect,\n\u001b[0;32m   1642\u001b[0m     dialect\u001b[38;5;241m.\u001b[39mexecution_ctx_cls\u001b[38;5;241m.\u001b[39m_init_compiled,\n\u001b[0;32m   1643\u001b[0m     compiled_sql,\n\u001b[0;32m   1644\u001b[0m     distilled_parameters,\n\u001b[0;32m   1645\u001b[0m     execution_options,\n\u001b[0;32m   1646\u001b[0m     compiled_sql,\n\u001b[0;32m   1647\u001b[0m     distilled_parameters,\n\u001b[0;32m   1648\u001b[0m     elem,\n\u001b[0;32m   1649\u001b[0m     extracted_params,\n\u001b[0;32m   1650\u001b[0m     cache_hit\u001b[38;5;241m=\u001b[39mcache_hit,\n\u001b[0;32m   1651\u001b[0m )\n\u001b[0;32m   1652\u001b[0m \u001b[38;5;28;01mif\u001b[39;00m has_events:\n\u001b[0;32m   1653\u001b[0m     \u001b[38;5;28mself\u001b[39m\u001b[38;5;241m.\u001b[39mdispatch\u001b[38;5;241m.\u001b[39mafter_execute(\n\u001b[0;32m   1654\u001b[0m         \u001b[38;5;28mself\u001b[39m,\n\u001b[0;32m   1655\u001b[0m         elem,\n\u001b[1;32m   (...)\u001b[0m\n\u001b[0;32m   1659\u001b[0m         ret,\n\u001b[0;32m   1660\u001b[0m     )\n",
      "File \u001b[1;32mc:\\Users\\Daniela\\Documents\\Fisc\\envs\\base2\\Lib\\site-packages\\sqlalchemy\\engine\\base.py:1846\u001b[0m, in \u001b[0;36mConnection._execute_context\u001b[1;34m(self, dialect, constructor, statement, parameters, execution_options, *args, **kw)\u001b[0m\n\u001b[0;32m   1844\u001b[0m     \u001b[38;5;28;01mreturn\u001b[39;00m \u001b[38;5;28mself\u001b[39m\u001b[38;5;241m.\u001b[39m_exec_insertmany_context(dialect, context)\n\u001b[0;32m   1845\u001b[0m \u001b[38;5;28;01melse\u001b[39;00m:\n\u001b[1;32m-> 1846\u001b[0m     \u001b[38;5;28;01mreturn\u001b[39;00m \u001b[38;5;28mself\u001b[39m\u001b[38;5;241m.\u001b[39m_exec_single_context(\n\u001b[0;32m   1847\u001b[0m         dialect, context, statement, parameters\n\u001b[0;32m   1848\u001b[0m     )\n",
      "File \u001b[1;32mc:\\Users\\Daniela\\Documents\\Fisc\\envs\\base2\\Lib\\site-packages\\sqlalchemy\\engine\\base.py:1986\u001b[0m, in \u001b[0;36mConnection._exec_single_context\u001b[1;34m(self, dialect, context, statement, parameters)\u001b[0m\n\u001b[0;32m   1983\u001b[0m     result \u001b[38;5;241m=\u001b[39m context\u001b[38;5;241m.\u001b[39m_setup_result_proxy()\n\u001b[0;32m   1985\u001b[0m \u001b[38;5;28;01mexcept\u001b[39;00m \u001b[38;5;167;01mBaseException\u001b[39;00m \u001b[38;5;28;01mas\u001b[39;00m e:\n\u001b[1;32m-> 1986\u001b[0m     \u001b[38;5;28mself\u001b[39m\u001b[38;5;241m.\u001b[39m_handle_dbapi_exception(\n\u001b[0;32m   1987\u001b[0m         e, str_statement, effective_parameters, cursor, context\n\u001b[0;32m   1988\u001b[0m     )\n\u001b[0;32m   1990\u001b[0m \u001b[38;5;28;01mreturn\u001b[39;00m result\n",
      "File \u001b[1;32mc:\\Users\\Daniela\\Documents\\Fisc\\envs\\base2\\Lib\\site-packages\\sqlalchemy\\engine\\base.py:2358\u001b[0m, in \u001b[0;36mConnection._handle_dbapi_exception\u001b[1;34m(self, e, statement, parameters, cursor, context, is_sub_exec)\u001b[0m\n\u001b[0;32m   2356\u001b[0m     \u001b[38;5;28;01melse\u001b[39;00m:\n\u001b[0;32m   2357\u001b[0m         \u001b[38;5;28;01massert\u001b[39;00m exc_info[\u001b[38;5;241m1\u001b[39m] \u001b[38;5;129;01mis\u001b[39;00m \u001b[38;5;129;01mnot\u001b[39;00m \u001b[38;5;28;01mNone\u001b[39;00m\n\u001b[1;32m-> 2358\u001b[0m         \u001b[38;5;28;01mraise\u001b[39;00m exc_info[\u001b[38;5;241m1\u001b[39m]\u001b[38;5;241m.\u001b[39mwith_traceback(exc_info[\u001b[38;5;241m2\u001b[39m])\n\u001b[0;32m   2359\u001b[0m \u001b[38;5;28;01mfinally\u001b[39;00m:\n\u001b[0;32m   2360\u001b[0m     \u001b[38;5;28;01mdel\u001b[39;00m \u001b[38;5;28mself\u001b[39m\u001b[38;5;241m.\u001b[39m_reentrant_error\n",
      "File \u001b[1;32mc:\\Users\\Daniela\\Documents\\Fisc\\envs\\base2\\Lib\\site-packages\\sqlalchemy\\engine\\base.py:1967\u001b[0m, in \u001b[0;36mConnection._exec_single_context\u001b[1;34m(self, dialect, context, statement, parameters)\u001b[0m\n\u001b[0;32m   1965\u001b[0m                 \u001b[38;5;28;01mbreak\u001b[39;00m\n\u001b[0;32m   1966\u001b[0m     \u001b[38;5;28;01mif\u001b[39;00m \u001b[38;5;129;01mnot\u001b[39;00m evt_handled:\n\u001b[1;32m-> 1967\u001b[0m         \u001b[38;5;28mself\u001b[39m\u001b[38;5;241m.\u001b[39mdialect\u001b[38;5;241m.\u001b[39mdo_execute(\n\u001b[0;32m   1968\u001b[0m             cursor, str_statement, effective_parameters, context\n\u001b[0;32m   1969\u001b[0m         )\n\u001b[0;32m   1971\u001b[0m \u001b[38;5;28;01mif\u001b[39;00m \u001b[38;5;28mself\u001b[39m\u001b[38;5;241m.\u001b[39m_has_events \u001b[38;5;129;01mor\u001b[39;00m \u001b[38;5;28mself\u001b[39m\u001b[38;5;241m.\u001b[39mengine\u001b[38;5;241m.\u001b[39m_has_events:\n\u001b[0;32m   1972\u001b[0m     \u001b[38;5;28mself\u001b[39m\u001b[38;5;241m.\u001b[39mdispatch\u001b[38;5;241m.\u001b[39mafter_cursor_execute(\n\u001b[0;32m   1973\u001b[0m         \u001b[38;5;28mself\u001b[39m,\n\u001b[0;32m   1974\u001b[0m         cursor,\n\u001b[1;32m   (...)\u001b[0m\n\u001b[0;32m   1978\u001b[0m         context\u001b[38;5;241m.\u001b[39mexecutemany,\n\u001b[0;32m   1979\u001b[0m     )\n",
      "File \u001b[1;32mc:\\Users\\Daniela\\Documents\\Fisc\\envs\\base2\\Lib\\site-packages\\sqlalchemy\\engine\\default.py:941\u001b[0m, in \u001b[0;36mDefaultDialect.do_execute\u001b[1;34m(self, cursor, statement, parameters, context)\u001b[0m\n\u001b[0;32m    940\u001b[0m \u001b[38;5;28;01mdef\u001b[39;00m \u001b[38;5;21mdo_execute\u001b[39m(\u001b[38;5;28mself\u001b[39m, cursor, statement, parameters, context\u001b[38;5;241m=\u001b[39m\u001b[38;5;28;01mNone\u001b[39;00m):\n\u001b[1;32m--> 941\u001b[0m     cursor\u001b[38;5;241m.\u001b[39mexecute(statement, parameters)\n",
      "\u001b[1;31mKeyboardInterrupt\u001b[0m: "
     ]
    }
   ],
   "source": [
    "\n",
    "from pylidc.Scan import ClusterError\n",
    "\n",
    "highest_annotation_id = 6858\n",
    "scans = pl.query(pl.Scan).all()\n",
    "\n",
    "for scan in scans:\n",
    "\n",
    "    try:\n",
    "        # Get all nodules for the scan with increased tolerance\n",
    "        nodules = scan.cluster_annotations(tol=10)  # Increase the tolerance if needed\n",
    "    except ClusterError:\n",
    "        print(f\"ClusterError: Skipping scan {scan.patient_id} due to clustering issue.\")\n",
    "        continue  # Skip this scan if clustering fails\n",
    "\n",
    "    \n",
    "    # Loop over each nodule\n",
    "    for nodule in nodules:\n",
    "        # Get the malignancy ratings for all annotations for the nodule\n",
    "        malignancies = [ann.malignancy for ann in nodule]\n",
    "        \n",
    "        # Check if all annotations for this nodule have a malignancy score of 5\n",
    "        ''' \n",
    "        pk tem q ser todos? => faz média de várias opiniões e dá 5\n",
    "        '''\n",
    "\n",
    "        #makee sure that all docks think it is bad\n",
    "        if malignancies.count(5) >= 3 and malignancies.count(4) <= 1: #all(m == 5 for m in malignancies)\n",
    "            print(f\"Nodule in scan {scan.patient_id} with malignancy 5:\")\n",
    "            print(f\"Nodule details: {nodule}\")\n",
    "\n",
    "            #to be continued\n",
    "            ''' \n",
    "            criar nodulo n+1 => imagem e mascara da opinião\n",
    "\t\t\tacrescentá-la a nn_data\\images a imagem e mascara\n",
    "\t\t\tn +=1\n",
    "\t        return n\n",
    "\n",
    "            ask to get the img of each nodule and the mask, give new id as (highest id +1)\n",
    "            '''\n",
    "\n",
    "            #untested lacks the save img and mask part\n",
    "            # Now, create new nodules for each annotation that meets the criteria\n",
    "            for ann in nodule:\n",
    "                # Increment the nodule counter to assign unique IDs\n",
    "                highest_annotation_id += 1\n",
    "                \n",
    "                # Here you would treat this annotation as a separate \"nodule\"\n",
    "                print(f\"New Nodule ID: {highest_annotation_id}\")\n",
    "                print(f\"Annotation details: malignancy={ann.malignancy}, \"\n",
    "                      f\"center=({ann.centroid()})\")\n",
    "                \n",
    "                # You can store or process the annotation as a separate \"nodule\"\n",
    "                # For example, save or analyze the annotation data here\n",
    "\n",
    "\n",
    "    "
   ]
  },
  {
   "cell_type": "code",
   "execution_count": null,
   "metadata": {},
   "outputs": [],
   "source": []
  }
 ],
 "metadata": {
  "kernelspec": {
   "display_name": "base2",
   "language": "python",
   "name": "python3"
  },
  "language_info": {
   "codemirror_mode": {
    "name": "ipython",
    "version": 3
   },
   "file_extension": ".py",
   "mimetype": "text/x-python",
   "name": "python",
   "nbconvert_exporter": "python",
   "pygments_lexer": "ipython3",
   "version": "3.12.3"
  }
 },
 "nbformat": 4,
 "nbformat_minor": 2
}
