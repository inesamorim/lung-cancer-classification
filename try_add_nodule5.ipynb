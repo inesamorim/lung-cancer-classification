{
 "cells": [
  {
   "cell_type": "markdown",
   "metadata": {},
   "source": [
    "---\n",
    "teorias para como lidar com esta conspiração\n",
    "\n",
    "tentar (ver como)\n",
    "manter modelo 1 mas aumentar a % de (1 e) 5 pois são os q têm mais certeza\n",
    "teoria, sendo q 5 têm mais concenço sobre ser mau\n",
    "em vez de usar a média usar cada uma como sendo um nódulo diff\n",
    "\n",
    "---\n",
    "\n",
    "\n",
    "\n",
    "acrescentar mais nudulos aos já existentes\n",
    "\n",
    "guardar numero de nodulos existentes  n = ...  \n",
    "ou ver maior ID(de nódulo)\n",
    "\n",
    "nodulo para todos os nodulos :\n",
    "\n",
    "\tse classificado com malignanci == 5:\n",
    "\t\tn = multiply(nodulo, n) \n",
    "\n",
    "\n",
    "multiply(nodulo, n):\n",
    "\n",
    "\tapinião para todas as opiniões:\n",
    "\t\tse opinião == malign\n",
    "\t\t\tcriar nodulo n+1 => imagem e mascara da opinião\n",
    "\t\t\tacrescentá-la a nn_data\\images a imagem e mascara\n",
    "\t\t\tn +=1\n",
    "\treturn n\n",
    "\t\n",
    "ver como obter radiomics e annotations_ds of seperate ones(worst case add copy of the mean)"
   ]
  }
 ],
 "metadata": {
  "language_info": {
   "name": "python"
  }
 },
 "nbformat": 4,
 "nbformat_minor": 2
}
