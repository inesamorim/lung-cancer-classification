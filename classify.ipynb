{
 "cells": [
  {
   "cell_type": "code",
   "execution_count": 42,
   "metadata": {},
   "outputs": [],
   "source": [
    "import pandas as pd\n",
    "from sklearn.model_selection import StratifiedKFold, RandomizedSearchCV, cross_validate\n",
    "from sklearn.pipeline import Pipeline\n",
    "from xgboost import XGBClassifier\n",
    "from sklearn.ensemble import RandomForestClassifier\n",
    "from sklearn.preprocessing import StandardScaler\n",
    "from sklearn.compose import ColumnTransformer\n",
    "from sklearn.metrics import make_scorer, precision_score, f1_score, RocCurveDisplay, roc_auc_score\n",
    "import numpy as np\n",
    "from sklearn.model_selection import train_test_split\n",
    "import matplotlib.pyplot as plt"
   ]
  },
  {
   "cell_type": "markdown",
   "metadata": {},
   "source": [
    "# Load and merge CSVs"
   ]
  },
  {
   "cell_type": "code",
   "execution_count": 27,
   "metadata": {},
   "outputs": [],
   "source": [
    "# Function to merge CSV files\n",
    "def merge_csvs(csv_list):\n",
    "    # Load the first CSV\n",
    "    merged_df = pd.read_csv(csv_list[0])\n",
    "    \n",
    "    # Merge the remaining CSVs\n",
    "    for csv in csv_list[1:]:\n",
    "        temp_df = pd.read_csv(csv)\n",
    "        merged_df = merged_df.merge(temp_df, on=\"id\")\n",
    "    \n",
    "    return merged_df\n",
    "\n",
    "merged_df = merge_csvs([\"annotations_ds.csv\"])#, \"cnn.csv\""
   ]
  },
  {
   "cell_type": "markdown",
   "metadata": {},
   "source": [
    "# Train and compare models"
   ]
  },
  {
   "cell_type": "code",
   "execution_count": 28,
   "metadata": {},
   "outputs": [],
   "source": [
    "# Function to perform RandomizedSearchCV\n",
    "def tune_model(classifier, param_distributions, X, y, model_name):\n",
    "    # Define the preprocessor (if needed)\n",
    "    # Here, we\"ll standardize the numeric features\n",
    "    numeric_features = X.select_dtypes(include=[\"float64\", \"int64\"]).columns\n",
    "    preprocessor = ColumnTransformer(\n",
    "        transformers=[\n",
    "            (\"num\", StandardScaler(), numeric_features)  # Standardize numeric features\n",
    "        ]\n",
    "    )\n",
    "\n",
    "    # Create the pipeline\n",
    "    pipeline = Pipeline(steps=[\n",
    "        (\"preprocessor\", preprocessor),  # Preprocessing step\n",
    "        (\"classifier\", classifier)  # Classifier passed as parameter\n",
    "    ])\n",
    "\n",
    "    # Setup StratifiedKFold cross-validation\n",
    "    kf = StratifiedKFold(n_splits=5, shuffle=True, random_state=42)\n",
    "\n",
    "    # Setup RandomizedSearchCV\n",
    "    random_search = RandomizedSearchCV(\n",
    "        pipeline,\n",
    "        param_distributions,\n",
    "        n_iter=50,  # Number of random combinations to try\n",
    "        scoring=\"roc_auc\",  # Use AUC as the scoring metric\n",
    "        cv=kf,\n",
    "        random_state=42,\n",
    "        n_jobs=1,  # Use all available cores\n",
    "        return_train_score=True,\n",
    "        error_score='raise',\n",
    "    )\n",
    "\n",
    "    # Perform RandomizedSearchCV\n",
    "    random_search.fit(X, y)\n",
    "\n",
    "    # Display the best parameters and score\n",
    "    print(f\"{model_name} - Best parameters: {random_search.best_params_}\")\n",
    "    print(f\"{model_name} - Best AUC score: {random_search.best_score_:.4f}\")\n",
    "\n",
    "    return random_search.best_estimator_, random_search.best_params_"
   ]
  },
  {
   "cell_type": "code",
   "execution_count": 29,
   "metadata": {},
   "outputs": [],
   "source": [
    "# 0-> bom, 1-> mau\n",
    "\n",
    "def indf_sum(y_train):\n",
    "    y_train[y_train<3] = 0\n",
    "    y_train[y_train>3] = 1\n",
    "    return y_train"
   ]
  },
  {
   "cell_type": "code",
   "execution_count": 30,
   "metadata": {},
   "outputs": [
    {
     "name": "stderr",
     "output_type": "stream",
     "text": [
      "C:\\Users\\Daniela\\AppData\\Local\\Temp\\ipykernel_5596\\3633820395.py:5: SettingWithCopyWarning: \n",
      "A value is trying to be set on a copy of a slice from a DataFrame\n",
      "\n",
      "See the caveats in the documentation: https://pandas.pydata.org/pandas-docs/stable/user_guide/indexing.html#returning-a-view-versus-a-copy\n",
      "  y_train[y_train>3] = 1\n"
     ]
    },
    {
     "name": "stdout",
     "output_type": "stream",
     "text": [
      "XGBoost - Best parameters: {'classifier__subsample': 0.7, 'classifier__n_estimators': 200, 'classifier__max_depth': 10, 'classifier__learning_rate': 0.1, 'classifier__gamma': 2.0, 'classifier__colsample_bytree': 0.7}\n",
      "XGBoost - Best AUC score: 0.9329\n",
      "Random Forest - Best parameters: {'classifier__n_estimators': 150, 'classifier__min_samples_split': 5, 'classifier__min_samples_leaf': 2, 'classifier__max_features': 'sqrt', 'classifier__max_depth': 11}\n",
      "Random Forest - Best AUC score: 0.9285\n"
     ]
    }
   ],
   "source": [
    "# Parameter distributions for each classifier\n",
    "xgb_param_distributions = {\n",
    "    \"classifier__n_estimators\": np.arange(50, 300, 50),\n",
    "    \"classifier__max_depth\": np.arange(3, 15),\n",
    "    \"classifier__learning_rate\": [0.01, 0.05, 0.1, 0.2],\n",
    "    \"classifier__subsample\": [0.5, 0.7, 1.0],\n",
    "    \"classifier__colsample_bytree\": [0.5, 0.7, 1.0],\n",
    "    \"classifier__gamma\": np.arange(0, 5, 0.5),\n",
    "}\n",
    "\n",
    "rf_param_distributions = {\n",
    "    \"classifier__n_estimators\": np.arange(50, 300, 50),\n",
    "    \"classifier__max_depth\": np.arange(3, 15),\n",
    "    \"classifier__min_samples_split\": [2, 5, 10],\n",
    "    \"classifier__min_samples_leaf\": [1, 2, 4],\n",
    "    \"classifier__max_features\": [\"log2\", \"sqrt\"],\n",
    "}\n",
    "\n",
    "# Define features and target\n",
    "merged_df = merged_df[merged_df[\"Malignancy\"]!=3]\n",
    "\n",
    "X = merged_df.drop(columns=[\"ID\", \"Scan_ID\",\"Patient_ID\", \"Malignancy\"])  # Exclude \"id\" and \"class\" from features\n",
    "y = indf_sum(merged_df[\"Malignancy\"])  # Target variable\n",
    "X_train, X_test, y_train, y_test = train_test_split(X, y, test_size=0.2, random_state=42)\n",
    "\n",
    "#y_train -=1\n",
    "#y_test -= 1\n",
    "\n",
    "''' \n",
    "3 é irrelevante , remove\n",
    "1ª-> 1+2 bom, 4+5 mau                 corta-se max(1+2, 4+5)-min(1+2,4+5) a max(1+2,4+5)\n",
    "2ª-> 1*0.5+2*0.5 bom, 4*0.5+5*0.5 mau\n",
    "3ª-> w1, w2, w4, w5 \n",
    "4ª-> >=3 mau, else bom\n",
    "\n",
    "  ver diferênças entre as diff formas\n",
    "\n",
    "\n",
    "sendo 1, 5 os resultados mais seguros dar mais importância q o 2, 4\n",
    "r => nº de nodulos malig/benig\n",
    "'''\n",
    "\n",
    "# Tune models\n",
    "best_xgb_model, best_xgb_params = tune_model(XGBClassifier(eval_metric=\"mlogloss\"), xgb_param_distributions, X_train, y_train, \"XGBoost\")\n",
    "best_rf_model, best_rf_params = tune_model(RandomForestClassifier(random_state=42), rf_param_distributions, X_train, y_train, \"Random Forest\")\n",
    "# TODO: SVM?"
   ]
  },
  {
   "cell_type": "code",
   "execution_count": 40,
   "metadata": {},
   "outputs": [
    {
     "name": "stdout",
     "output_type": "stream",
     "text": [
      "AUC: 0.9192\n",
      "Precision: 0.8513 ± 0.0384\n",
      "F1-score: 0.8506 ± 0.0380\n"
     ]
    }
   ],
   "source": [
    "# Define scoring metrics\n",
    "scoring = {\n",
    "    \"AUC\": \"roc_auc\",\n",
    "    \"Precision\": make_scorer(precision_score, average=\"weighted\"),\n",
    "    \"F1\": make_scorer(f1_score, average=\"weighted\"),\n",
    "}\n",
    "\n",
    "\n",
    "# cv_results = cross_validate(best_xgb_model, X_test, y_test, cv=5, scoring=scoring)\n",
    "auc = roc_auc_score(y_test, best_xgb_model.predict_proba(X_test)[:, 1])\n",
    "\n",
    "# Display the results\n",
    "print(f\"AUC: {auc:.4f}\")\n",
    "print(f\"Precision: {cv_results[\"test_Precision\"].mean():.4f} ± {cv_results[\"test_Precision\"].std():.4f}\")\n",
    "print(f\"F1-score: {cv_results[\"test_F1\"].mean():.4f} ± {cv_results[\"test_F1\"].std():.4f}\")"
   ]
  },
  {
   "cell_type": "code",
   "execution_count": 45,
   "metadata": {},
   "outputs": [
    {
     "data": {
      "image/png": "[encoded data removed]",
      "text/plain": [
       "<Figure size 640x480 with 1 Axes>"
      ]
     },
     "metadata": {},
     "output_type": "display_data"
    },
    {
     "data": {
      "image/png": "[encoded data removed]",
      "text/plain": [
       "<Figure size 640x480 with 1 Axes>"
      ]
     },
     "metadata": {},
     "output_type": "display_data"
    }
   ],
   "source": [
    "''' FAZER PLOT DE RESULTADOS\n",
    "bACC\n",
    "F1,... várias métricas(só ACC é proibido) \n",
    "\n",
    "para treino extra pontos para alterar pesos em vez de nº de exemplos\n",
    "'''\n",
    "RocCurveDisplay.from_estimator(best_xgb_model, X_test, y_test)\n",
    "plt.show()\n",
    "#pricision XGBOOST e F1 score\n",
    "rf_precission = precision_score(y_test, best_rf_model.predict(X_test))\n",
    "xgb_precission = precision_score(y_test, best_xgb_model.predict(X_test))\n",
    "\n",
    "\n",
    "plt.bar([\"random forest\", \"xgboost\"], [rf_precission, xgb_precission])\n",
    "plt.xlabel(\"(model:)\")\n",
    "plt.ylabel(\"scale\")\n",
    "plt.title(\"Precision\")\n",
    "plt.show()\n",
    "\n"
   ]
  },
  {
   "cell_type": "code",
   "execution_count": null,
   "metadata": {},
   "outputs": [],
   "source": []
  }
 ],
 "metadata": {
  "kernelspec": {
   "display_name": "base2",
   "language": "python",
   "name": "python3"
  },
  "language_info": {
   "codemirror_mode": {
    "name": "ipython",
    "version": 3
   },
   "file_extension": ".py",
   "mimetype": "text/x-python",
   "name": "python",
   "nbconvert_exporter": "python",
   "pygments_lexer": "ipython3",
   "version": "3.12.3"
  }
 },
 "nbformat": 4,
 "nbformat_minor": 2
}
