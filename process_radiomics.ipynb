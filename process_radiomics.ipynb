{
 "cells": [
  {
   "cell_type": "code",
   "execution_count": 2,
   "metadata": {},
   "outputs": [],
   "source": [
    "import os\n",
    "from pathlib import Path\n",
    "import pylidc as pl\n",
    "from utils import cluster_annots, get_cropped_annot\n",
    "import SimpleITK as sitk\n",
    "from radiomics import featureextractor\n",
    "import pandas as pd"
   ]
  },
  {
   "cell_type": "markdown",
   "metadata": {},
   "source": [
    "### 1. Radiomics"
   ]
  },
  {
   "cell_type": "markdown",
   "metadata": {},
   "source": [
    "**Dani, please run after downloading dicoms**"
   ]
  },
  {
   "cell_type": "code",
   "execution_count": null,
   "metadata": {},
   "outputs": [
    {
     "name": "stdout",
     "output_type": "stream",
     "text": [
      "Requirement already satisfied: SimpleITK in /home/inesamorim46/anaconda3/lib/python3.11/site-packages (2.4.0)\n",
      "Note: you may need to restart the kernel to use updated packages.\n"
     ]
    }
   ],
   "source": [
    "#requirements\n",
    "%pip install SimpleITK"
   ]
  },
  {
   "cell_type": "markdown",
   "metadata": {},
   "source": [
    "- Get Cropped Images and Maks from Scans"
   ]
  },
  {
   "cell_type": "markdown",
   "metadata": {},
   "source": [
    "> We began by setting up a directory to store data, creating folders for each patient and each nodule."
   ]
  },
  {
   "cell_type": "markdown",
   "metadata": {},
   "source": [
    "> For each scan, we checked if the annotations for that scan exist, and if so, we used the **cluster_annots()** function to group similar annotations and the **get_cropped_annot()** function to obtain cropped images of the nodules and their respective masks.\n"
   ]
  },
  {
   "cell_type": "markdown",
   "metadata": {},
   "source": [
    "> The cropped data is converted from NumPy arrays to SimplesITK images and then saved in NIfTI (.nii) format, which supports 3D medical imaging"
   ]
  },
  {
   "cell_type": "markdown",
   "metadata": {},
   "source": [
    "**Note:** The decision to use 3D instead of 2D feature extraction is driven by the fact that lung nodules are three-dimensional structures, and capturing their full spatial characteristics seems important for accurate analysis."
   ]
  },
  {
   "cell_type": "code",
   "execution_count": null,
   "metadata": {},
   "outputs": [
    {
     "name": "stdout",
     "output_type": "stream",
     "text": [
      "84\n"
     ]
    }
   ],
   "source": [
    "data_path = Path('../data')\n",
    "os.makedirs(data_path, exist_ok=True)\n",
    "\n",
    "#import all scans\n",
    "#scans = pl.query(pl.Scan).filter(pl.Scan.patient_id == 'LIDC-IDRI-0001').all()\n",
    "scans = pl.query(pl.Scan).all()\n",
    "for scan in scans:\n",
    "    #print(scan.patient_id)\n",
    "    patient_dir = Path('../data/')/scan.patient_id\n",
    "    os.makedirs(patient_dir, exist_ok=True)\n",
    "    try:\n",
    "        if len(scan.annotations) == 0:\n",
    "            # Scan has no annotations, there is nothing to do\n",
    "            continue\n",
    "        \n",
    "        nodules = cluster_annots(scan)\n",
    "        croped, mask = get_cropped_annot(scan, nodules, False)\n",
    "\n",
    "    except RuntimeError as e:\n",
    "        print(e)\n",
    "    \n",
    "    #save images and maks\n",
    "    for i in range(len(mask)):\n",
    "        nodule_id = nodules[i][0].id\n",
    "        #print(nodule_id)\n",
    "        nod_path = Path(f'../data/{scan.patient_id}/Nodule_{i}')\n",
    "        os.makedirs(nod_path, exist_ok=True)\n",
    "        image_path = Path(f'{nod_path}/image')\n",
    "        mask_path = Path(f'{nod_path}/mask')\n",
    "        os.makedirs(image_path, exist_ok=True)\n",
    "        os.makedirs(mask_path, exist_ok=True)\n",
    "\n",
    "        #numpy array to SimpleITK image\n",
    "        mask_sitk = sitk.GetImageFromArray(mask[i].astype(int))\n",
    "        image_sitk = sitk.GetImageFromArray(croped[i])\n",
    "\n",
    "        #save SimpleITK images as.nii (suports 3D)\n",
    "        mask_path = Path(f'{mask_path}/mask.nii')\n",
    "        image_path = Path(f'{image_path}/image.nii')\n",
    "        sitk.WriteImage(mask_sitk, mask_path)\n",
    "        sitk.WriteImage(image_sitk, image_path)"
   ]
  },
  {
   "cell_type": "markdown",
   "metadata": {},
   "source": [
    "- Extract Features using pyradiomics library\n"
   ]
  },
  {
   "cell_type": "markdown",
   "metadata": {},
   "source": [
    "> This function processes all nodules for a given patient. For each nodule, the image and mask files are loaded using SImpleITK, and radiomics features are extracted by the **RadiomicsFeatureExatractor()**. Then, the extracted features are converted into a dataframe."
   ]
  },
  {
   "cell_type": "code",
   "execution_count": null,
   "metadata": {},
   "outputs": [],
   "source": [
    "def extract_features_from_patient(patient_dir):\n",
    "    extractor = featureextractor.RadiomicsFeatureExtractor()\n",
    "    patient_id = os.path.basename(patient_dir)\n",
    "    \n",
    "    patient_results = []\n",
    "    \n",
    "    for nodule_dir in os.listdir(patient_dir):\n",
    "        nodule_path = os.path.join(patient_dir, nodule_dir)\n",
    "\n",
    "        image_path = os.path.join(nodule_path, 'image', 'image.nii')\n",
    "        mask_path = os.path.join(nodule_path, 'mask', 'mask.nii')\n",
    "\n",
    "        #verify if the files exist and import them\n",
    "        if os.path.exists(image_path) and os.path.exists(mask_path):\n",
    "            image = sitk.ReadImage(image_path)\n",
    "            mask = sitk.ReadImage(mask_path)\n",
    "\n",
    "            features = extractor.execute(image, mask)\n",
    "\n",
    "            #convert to dictionary\n",
    "            feature_dict = dict(features)\n",
    "            feature_dict['patient_id'] = patient_id\n",
    "            feature_dict['nodule_id'] = nodule_id\n",
    "\n",
    "            patient_results.append(feature_dict)\n",
    "\n",
    "    df = pd.DataFrame(patient_results)\n",
    "\n",
    "    return df"
   ]
  },
  {
   "cell_type": "code",
   "execution_count": null,
   "metadata": {},
   "outputs": [
    {
     "name": "stderr",
     "output_type": "stream",
     "text": [
      "GLCM is symmetrical, therefore Sum Average = 2 * Joint Average, only 1 needs to be calculated\n"
     ]
    },
    {
     "data": {
      "text/html": [
       "<div>\n",
       "<style scoped>\n",
       "    .dataframe tbody tr th:only-of-type {\n",
       "        vertical-align: middle;\n",
       "    }\n",
       "\n",
       "    .dataframe tbody tr th {\n",
       "        vertical-align: top;\n",
       "    }\n",
       "\n",
       "    .dataframe thead th {\n",
       "        text-align: right;\n",
       "    }\n",
       "</style>\n",
       "<table border=\"1\" class=\"dataframe\">\n",
       "  <thead>\n",
       "    <tr style=\"text-align: right;\">\n",
       "      <th></th>\n",
       "      <th>original_shape_Elongation</th>\n",
       "      <th>original_shape_Flatness</th>\n",
       "      <th>original_shape_LeastAxisLength</th>\n",
       "      <th>original_shape_MajorAxisLength</th>\n",
       "      <th>original_shape_Maximum2DDiameterColumn</th>\n",
       "      <th>original_shape_Maximum2DDiameterRow</th>\n",
       "      <th>original_shape_Maximum2DDiameterSlice</th>\n",
       "      <th>original_shape_Maximum3DDiameter</th>\n",
       "      <th>original_shape_MeshVolume</th>\n",
       "      <th>original_shape_MinorAxisLength</th>\n",
       "      <th>...</th>\n",
       "      <th>original_glszm_ZoneEntropy</th>\n",
       "      <th>original_glszm_ZonePercentage</th>\n",
       "      <th>original_glszm_ZoneVariance</th>\n",
       "      <th>original_ngtdm_Busyness</th>\n",
       "      <th>original_ngtdm_Coarseness</th>\n",
       "      <th>original_ngtdm_Complexity</th>\n",
       "      <th>original_ngtdm_Contrast</th>\n",
       "      <th>original_ngtdm_Strength</th>\n",
       "      <th>patient_id</th>\n",
       "      <th>nodule_id</th>\n",
       "    </tr>\n",
       "  </thead>\n",
       "  <tbody>\n",
       "    <tr>\n",
       "      <th>0</th>\n",
       "      <td>0.97256</td>\n",
       "      <td>0.242197</td>\n",
       "      <td>7.854413</td>\n",
       "      <td>32.429873</td>\n",
       "      <td>44.01136216933077</td>\n",
       "      <td>45.617978911828175</td>\n",
       "      <td>35.22782990761707</td>\n",
       "      <td>48.45616575834287</td>\n",
       "      <td>5382.208333333333</td>\n",
       "      <td>31.539994</td>\n",
       "      <td>...</td>\n",
       "      <td>-3.203426503814917e-16</td>\n",
       "      <td>0.00018422991893883567</td>\n",
       "      <td>0.0</td>\n",
       "      <td>0.0</td>\n",
       "      <td>1000000.0</td>\n",
       "      <td>0.0</td>\n",
       "      <td>0.0</td>\n",
       "      <td>0.0</td>\n",
       "      <td>LIDC-IDRI-0001</td>\n",
       "      <td>84</td>\n",
       "    </tr>\n",
       "  </tbody>\n",
       "</table>\n",
       "<p>1 rows × 109 columns</p>\n",
       "</div>"
      ],
      "text/plain": [
       "   original_shape_Elongation  original_shape_Flatness  \\\n",
       "0                    0.97256                 0.242197   \n",
       "\n",
       "   original_shape_LeastAxisLength  original_shape_MajorAxisLength  \\\n",
       "0                        7.854413                       32.429873   \n",
       "\n",
       "  original_shape_Maximum2DDiameterColumn original_shape_Maximum2DDiameterRow  \\\n",
       "0                      44.01136216933077                  45.617978911828175   \n",
       "\n",
       "  original_shape_Maximum2DDiameterSlice original_shape_Maximum3DDiameter  \\\n",
       "0                     35.22782990761707                48.45616575834287   \n",
       "\n",
       "  original_shape_MeshVolume  original_shape_MinorAxisLength  ...  \\\n",
       "0         5382.208333333333                       31.539994  ...   \n",
       "\n",
       "  original_glszm_ZoneEntropy original_glszm_ZonePercentage  \\\n",
       "0     -3.203426503814917e-16        0.00018422991893883567   \n",
       "\n",
       "  original_glszm_ZoneVariance  original_ngtdm_Busyness  \\\n",
       "0                         0.0                      0.0   \n",
       "\n",
       "  original_ngtdm_Coarseness original_ngtdm_Complexity original_ngtdm_Contrast  \\\n",
       "0                 1000000.0                       0.0                     0.0   \n",
       "\n",
       "  original_ngtdm_Strength      patient_id nodule_id  \n",
       "0                     0.0  LIDC-IDRI-0001        84  \n",
       "\n",
       "[1 rows x 109 columns]"
      ]
     },
     "metadata": {},
     "output_type": "display_data"
    }
   ],
   "source": [
    "radiomics_df = pd.DataFrame()\n",
    "\n",
    "for patient_dir in os.listdir('../data'):\n",
    "    patient_dir = os.path.join('../data',patient_dir)\n",
    "    patient_df = extract_features_from_patient(patient_dir)\n",
    "\n",
    "    #remove libraries versions, configuration details, hashs, ...\n",
    "    patient_df = patient_df[patient_df.columns.drop(list(patient_df.filter(regex='Versions')))]\n",
    "    patient_df = patient_df[patient_df.columns.drop(list(patient_df.filter(regex='Configuration')))]\n",
    "    patient_df = patient_df[patient_df.columns.drop(list(patient_df.filter(regex='Hash')))]\n",
    "    patient_df = patient_df[patient_df.columns.drop(list(patient_df.filter(regex='diagnostics')))]\n",
    "\n",
    "    radiomics_df = pd.concat([radiomics_df, patient_df], ignore_index=True)\n",
    "\n",
    "radiomics_df.to_csv('radiomics.csv')\n",
    "radiomics_df"
   ]
  }
 ],
 "metadata": {
  "kernelspec": {
   "display_name": "base",
   "language": "python",
   "name": "python3"
  },
  "language_info": {
   "codemirror_mode": {
    "name": "ipython",
    "version": 3
   },
   "file_extension": ".py",
   "mimetype": "text/x-python",
   "name": "python",
   "nbconvert_exporter": "python",
   "pygments_lexer": "ipython3",
   "version": "3.11.4"
  }
 },
 "nbformat": 4,
 "nbformat_minor": 2
}
